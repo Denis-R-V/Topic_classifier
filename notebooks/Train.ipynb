{
 "cells": [
  {
   "cell_type": "markdown",
   "metadata": {},
   "source": [
    "# <center> **`Hard задача`. Классифицируем тексты** (задание степа 6.2.13)\n",
    "\n",
    "У вас есть датасет текстов постов из социальной сети. Вам нужно классифицировать их по 13 темам, к которым они относятся.\n",
    "\n",
    "**Достаем эмбеддинги при помощи языковых моделей**\n",
    "\n",
    "Очень часто в задачах, связанными с текстами, выстреливает подход с извлечением из текста эмбеддингов и последующего их использования в бустингах или линейных моделях для решения своей задачи.\n",
    "\n",
    "В рамках данного степа уже достали для каждого текста из датасета эмбеддинги при помощи больших языковых моделей из `HuggingFace`, а именно использовали `'sberbank-ai/ruBert-base'`, `'cointegrated/rubert-tiny2'`, `'DeepPavlov/rubert-base-cased-conversational'` и `'sentence-transformers/LaBSE'`.\n",
    "\n",
    "Так что теперь вы можете использовать их, чтобы составить свой невероятный ансамбль и порвать лидерборд.\n",
    "\n",
    "<center> <img src='../images/text_classes.png' width=\"900\" /> </center>\n",
    "\n",
    "**Задача:** Получите максимальное качество классификации. Метрика - balanced_accuracy_score, классы в тестовой выборке сбалансированны так же, как и в обучающей. За каждый процент точности, начиная от 70%, вы будете получать +1 балл (максимум 10).\n",
    "\n",
    "**Данные:**\n",
    "- Train dataset - [ссылка](https://drive.google.com/file/d/1KRtMVLLp_gV9V56YwU8LG2i19tvpw_6K/view?usp=share_link).\n",
    "- Test dataset - [ссылка](https://drive.google.com/file/d/18ulfeupdqO3Siwu7WqWWP_OY14sdlTiy/view?usp=sharing)."
   ]
  },
  {
   "cell_type": "code",
   "execution_count": 19,
   "metadata": {},
   "outputs": [],
   "source": [
    "import os\n",
    "import numpy as np\n",
    "import pandas as pd\n",
    "from tqdm.notebook import tqdm\n",
    "\n",
    "from transformers import AutoModel, AutoTokenizer\n",
    "import torch"
   ]
  },
  {
   "cell_type": "code",
   "execution_count": 20,
   "metadata": {},
   "outputs": [],
   "source": [
    "class TextEmbeddings:\n",
    "    def __init__(self, add_cls_embeddings=True, add_mean_embeddings=False):\n",
    "        self.add_mean_embeddings = add_mean_embeddings\n",
    "        self.add_cls_embeddings = add_cls_embeddings\n",
    "        if add_cls_embeddings is False and add_mean_embeddings is False:\n",
    "            raise 'Error: you should select at least one type of embeddings to be computed'\n",
    "\n",
    "    def mean_pooling(self, hidden_state, attention_mask):\n",
    "        \"\"\"\n",
    "        Возвращает усредненный с учетом attention_mask hidden_state.\n",
    "        \"\"\"\n",
    "        token_embeddings = hidden_state.detach().cpu() \n",
    "        input_mask_expanded = attention_mask.unsqueeze(-1).expand(token_embeddings.size()).float()\n",
    "        sum_embeddings = torch.sum(token_embeddings * input_mask_expanded, 1)\n",
    "        return sum_embeddings / attention_mask.sum()\n",
    "\n",
    "    def extract_embeddings(self, texts, model_name, max_len):\n",
    "        \"\"\"\n",
    "        Возвращает значения, посчитанные данной моделью - эмбеддинги для всех текстов из texts.\n",
    "        \"\"\"\n",
    "        tokenizer = AutoTokenizer.from_pretrained(model_name)\n",
    "        model = AutoModel.from_pretrained(model_name).cuda()\n",
    "        text_features = []\n",
    "        for sentence in tqdm(texts):\n",
    "            encoded_input = tokenizer([sentence],\n",
    "                                      padding='max_length',\n",
    "                                      truncation=True,\n",
    "                                      max_length=max_len,\n",
    "                                      return_tensors='pt')\n",
    "            with torch.no_grad():\n",
    "                hidden_state, cls_head = model(input_ids=encoded_input['input_ids'].cuda(), return_dict=False)\n",
    "                sentence_embeddings = self.mean_pooling(hidden_state, encoded_input['attention_mask'])\n",
    "            \n",
    "            now_emb = []\n",
    "            if self.add_cls_embeddings:\n",
    "                now_emb.append(cls_head.detach().cpu().numpy().flatten())\n",
    "            \n",
    "            if self.add_mean_embeddings:\n",
    "                now_emb.append(sentence_embeddings.detach().cpu().numpy().flatten())\n",
    "            \n",
    "            text_features.append(np.concatenate(now_emb, axis=0))\n",
    "        return text_features\n",
    "\n",
    "    def add_many_embeddings(self, df, text_col, models):\n",
    "        \"\"\"\"\n",
    "        Добавляет в качестве признаков эмбеддинги для колонки text_col.\n",
    "        В качестве моделей и максимальных длин используются models.\n",
    "        \"\"\"\n",
    "        for model_name, max_len in models:\n",
    "            print(model_name)\n",
    "            text_features = self.extract_embeddings(df[text_col], model_name, max_len)\n",
    "            text_features_df = pd.DataFrame(text_features, columns = [f'{model_name}_{text_col}_feature_{i}' for i in range(len(text_features[0]))])\n",
    "            df = df.join(text_features_df)\n",
    "            df.to_csv('transformers_text_features.csv', index=False)\n",
    "            os.system('cp /content/transformers_text_features.csv /content/drive/MyDrive/datasets/transformers_text_features.csv')\n",
    "        return df"
   ]
  },
  {
   "cell_type": "code",
   "execution_count": 118,
   "metadata": {},
   "outputs": [],
   "source": [
    "train = pd.read_csv('../data/text_classification_train.csv')\n",
    "test = pd.read_csv('../data/text_classification_test.csv')"
   ]
  },
  {
   "cell_type": "markdown",
   "metadata": {},
   "source": [
    "ruBert-base_text_feature - 768\n",
    "rubert-tiny2_text_feature - 312\n",
    "rubert-base-cased-conversational_text_feature - 768\n",
    "labse_text_feature - 768"
   ]
  },
  {
   "cell_type": "code",
   "execution_count": 92,
   "metadata": {},
   "outputs": [],
   "source": [
    "import json\n",
    "import os\n",
    "\n",
    "import numpy as np\n",
    "import pandas as pd\n",
    "\n",
    "from catboost import CatBoostClassifier, Pool\n",
    "\n",
    "from sklearn.preprocessing import LabelEncoder\n",
    "from sklearn.model_selection import KFold, train_test_split, cross_val_score\n",
    "from sklearn.metrics import balanced_accuracy_score\n",
    "from sklearn.feature_extraction.text import TfidfVectorizer\n",
    "from sklearn.linear_model import LogisticRegression\n",
    "from sklearn.ensemble import ExtraTreesClassifier, RandomForestClassifier\n",
    "from sklearn.svm import SVC, LinearSVC\n",
    "\n",
    "import optuna\n",
    "import torch\n",
    "import seaborn as sns\n",
    "import shap"
   ]
  },
  {
   "cell_type": "code",
   "execution_count": 93,
   "metadata": {},
   "outputs": [
    {
     "name": "stdout",
     "output_type": "stream",
     "text": [
      "sentence-transformers/LaBSE\n"
     ]
    },
    {
     "data": {
      "application/vnd.jupyter.widget-view+json": {
       "model_id": "c69fc19fcbd6454cb368d82580054473",
       "version_major": 2,
       "version_minor": 0
      },
      "text/plain": [
       "  0%|          | 0/1 [00:00<?, ?it/s]"
      ]
     },
     "metadata": {},
     "output_type": "display_data"
    }
   ],
   "source": [
    "# Полный список поддерживаемых моделей можно найти на https://huggingface.co/models\n",
    "models = [\n",
    "          #('sberbank-ai/ruBert-base', 512),\n",
    "          #('cointegrated/rubert-tiny2', 2048),\n",
    "          #('DeepPavlov/rubert-base-cased-conversational', 512)\n",
    "          ('sentence-transformers/LaBSE', 512),\n",
    "          \n",
    "          #  # ('cointegrated/rubert-tiny2', 2048),\n",
    "\n",
    "          #\n",
    "          #('cointegrated/LaBSE-en-ru', 512),\n",
    "        #   ('sberbank-ai/ruRoberta-large', 512),\n",
    "        #   ('sberbank-ai/sbert_large_nlu_ru', 512),\n",
    "        #   ('sberbank-ai/sbert_large_mt_nlu_ru', 512),\n",
    "        #   ('sberbank-ai/ruBert-large', 512),\n",
    "          \n",
    "\n",
    "          \n",
    "        #   ('microsoft/mdeberta-v3-base', 512),\n",
    "        #   ('vicgalle/xlm-roberta-large-xnli-anli', 512),\n",
    "        #   ('MoritzLaurer/mDeBERTa-v3-base-mnli-xnli', 512),\n",
    "        #   ('facebook/bart-large-mnli', 1024)\n",
    "]\n",
    "\n",
    "text_embeddings = TextEmbeddings(True, True)\n",
    "tmp = text_embeddings.add_many_embeddings(train.iloc[[0]], 'text', models)"
   ]
  },
  {
   "cell_type": "code",
   "execution_count": null,
   "metadata": {},
   "outputs": [
    {
     "data": {
      "text/html": [
       "<div>\n",
       "<style scoped>\n",
       "    .dataframe tbody tr th:only-of-type {\n",
       "        vertical-align: middle;\n",
       "    }\n",
       "\n",
       "    .dataframe tbody tr th {\n",
       "        vertical-align: top;\n",
       "    }\n",
       "\n",
       "    .dataframe thead th {\n",
       "        text-align: right;\n",
       "    }\n",
       "</style>\n",
       "<table border=\"1\" class=\"dataframe\">\n",
       "  <thead>\n",
       "    <tr style=\"text-align: right;\">\n",
       "      <th></th>\n",
       "      <th>category</th>\n",
       "      <th>text</th>\n",
       "      <th>DeepPavlov/rubert-base-cased-conversational_text_feature_0</th>\n",
       "      <th>DeepPavlov/rubert-base-cased-conversational_text_feature_1</th>\n",
       "      <th>DeepPavlov/rubert-base-cased-conversational_text_feature_2</th>\n",
       "      <th>DeepPavlov/rubert-base-cased-conversational_text_feature_3</th>\n",
       "      <th>DeepPavlov/rubert-base-cased-conversational_text_feature_4</th>\n",
       "      <th>DeepPavlov/rubert-base-cased-conversational_text_feature_5</th>\n",
       "      <th>DeepPavlov/rubert-base-cased-conversational_text_feature_6</th>\n",
       "      <th>DeepPavlov/rubert-base-cased-conversational_text_feature_7</th>\n",
       "      <th>...</th>\n",
       "      <th>DeepPavlov/rubert-base-cased-conversational_text_feature_1526</th>\n",
       "      <th>DeepPavlov/rubert-base-cased-conversational_text_feature_1527</th>\n",
       "      <th>DeepPavlov/rubert-base-cased-conversational_text_feature_1528</th>\n",
       "      <th>DeepPavlov/rubert-base-cased-conversational_text_feature_1529</th>\n",
       "      <th>DeepPavlov/rubert-base-cased-conversational_text_feature_1530</th>\n",
       "      <th>DeepPavlov/rubert-base-cased-conversational_text_feature_1531</th>\n",
       "      <th>DeepPavlov/rubert-base-cased-conversational_text_feature_1532</th>\n",
       "      <th>DeepPavlov/rubert-base-cased-conversational_text_feature_1533</th>\n",
       "      <th>DeepPavlov/rubert-base-cased-conversational_text_feature_1534</th>\n",
       "      <th>DeepPavlov/rubert-base-cased-conversational_text_feature_1535</th>\n",
       "    </tr>\n",
       "  </thead>\n",
       "  <tbody>\n",
       "    <tr>\n",
       "      <th>0</th>\n",
       "      <td>extreme</td>\n",
       "      <td>Ледник Пасторури это цирковой ледник расположе...</td>\n",
       "      <td>0.234252</td>\n",
       "      <td>0.129809</td>\n",
       "      <td>0.03384</td>\n",
       "      <td>0.688277</td>\n",
       "      <td>0.270071</td>\n",
       "      <td>0.097495</td>\n",
       "      <td>-0.149023</td>\n",
       "      <td>-0.032282</td>\n",
       "      <td>...</td>\n",
       "      <td>-0.783512</td>\n",
       "      <td>0.589173</td>\n",
       "      <td>-0.022017</td>\n",
       "      <td>-0.231996</td>\n",
       "      <td>0.875345</td>\n",
       "      <td>-0.112136</td>\n",
       "      <td>-0.048333</td>\n",
       "      <td>0.161958</td>\n",
       "      <td>0.981491</td>\n",
       "      <td>-0.298607</td>\n",
       "    </tr>\n",
       "  </tbody>\n",
       "</table>\n",
       "<p>1 rows × 1538 columns</p>\n",
       "</div>"
      ],
      "text/plain": [
       "  category                                               text  \\\n",
       "0  extreme  Ледник Пасторури это цирковой ледник расположе...   \n",
       "\n",
       "   DeepPavlov/rubert-base-cased-conversational_text_feature_0  \\\n",
       "0                                           0.234252            \n",
       "\n",
       "   DeepPavlov/rubert-base-cased-conversational_text_feature_1  \\\n",
       "0                                           0.129809            \n",
       "\n",
       "   DeepPavlov/rubert-base-cased-conversational_text_feature_2  \\\n",
       "0                                            0.03384            \n",
       "\n",
       "   DeepPavlov/rubert-base-cased-conversational_text_feature_3  \\\n",
       "0                                           0.688277            \n",
       "\n",
       "   DeepPavlov/rubert-base-cased-conversational_text_feature_4  \\\n",
       "0                                           0.270071            \n",
       "\n",
       "   DeepPavlov/rubert-base-cased-conversational_text_feature_5  \\\n",
       "0                                           0.097495            \n",
       "\n",
       "   DeepPavlov/rubert-base-cased-conversational_text_feature_6  \\\n",
       "0                                          -0.149023            \n",
       "\n",
       "   DeepPavlov/rubert-base-cased-conversational_text_feature_7  ...  \\\n",
       "0                                          -0.032282           ...   \n",
       "\n",
       "   DeepPavlov/rubert-base-cased-conversational_text_feature_1526  \\\n",
       "0                                          -0.783512               \n",
       "\n",
       "   DeepPavlov/rubert-base-cased-conversational_text_feature_1527  \\\n",
       "0                                           0.589173               \n",
       "\n",
       "   DeepPavlov/rubert-base-cased-conversational_text_feature_1528  \\\n",
       "0                                          -0.022017               \n",
       "\n",
       "   DeepPavlov/rubert-base-cased-conversational_text_feature_1529  \\\n",
       "0                                          -0.231996               \n",
       "\n",
       "   DeepPavlov/rubert-base-cased-conversational_text_feature_1530  \\\n",
       "0                                           0.875345               \n",
       "\n",
       "   DeepPavlov/rubert-base-cased-conversational_text_feature_1531  \\\n",
       "0                                          -0.112136               \n",
       "\n",
       "   DeepPavlov/rubert-base-cased-conversational_text_feature_1532  \\\n",
       "0                                          -0.048333               \n",
       "\n",
       "   DeepPavlov/rubert-base-cased-conversational_text_feature_1533  \\\n",
       "0                                           0.161958               \n",
       "\n",
       "   DeepPavlov/rubert-base-cased-conversational_text_feature_1534  \\\n",
       "0                                           0.981491               \n",
       "\n",
       "   DeepPavlov/rubert-base-cased-conversational_text_feature_1535  \n",
       "0                                          -0.298607              \n",
       "\n",
       "[1 rows x 1538 columns]"
      ]
     },
     "execution_count": 34,
     "metadata": {},
     "output_type": "execute_result"
    }
   ],
   "source": [
    "tmp"
   ]
  },
  {
   "cell_type": "code",
   "execution_count": null,
   "metadata": {},
   "outputs": [],
   "source": []
  },
  {
   "cell_type": "code",
   "execution_count": null,
   "metadata": {},
   "outputs": [],
   "source": []
  },
  {
   "cell_type": "code",
   "execution_count": 54,
   "metadata": {},
   "outputs": [
    {
     "data": {
      "text/html": [
       "<div>\n",
       "<style scoped>\n",
       "    .dataframe tbody tr th:only-of-type {\n",
       "        vertical-align: middle;\n",
       "    }\n",
       "\n",
       "    .dataframe tbody tr th {\n",
       "        vertical-align: top;\n",
       "    }\n",
       "\n",
       "    .dataframe thead th {\n",
       "        text-align: right;\n",
       "    }\n",
       "</style>\n",
       "<table border=\"1\" class=\"dataframe\">\n",
       "  <thead>\n",
       "    <tr style=\"text-align: right;\">\n",
       "      <th></th>\n",
       "      <th>ruBert-base_text_feature_0</th>\n",
       "      <th>ruBert-base_text_feature_1</th>\n",
       "      <th>ruBert-base_text_feature_2</th>\n",
       "      <th>ruBert-base_text_feature_3</th>\n",
       "      <th>ruBert-base_text_feature_4</th>\n",
       "      <th>ruBert-base_text_feature_5</th>\n",
       "      <th>ruBert-base_text_feature_6</th>\n",
       "      <th>ruBert-base_text_feature_7</th>\n",
       "      <th>ruBert-base_text_feature_8</th>\n",
       "      <th>ruBert-base_text_feature_9</th>\n",
       "      <th>...</th>\n",
       "      <th>labse_text_feature_758</th>\n",
       "      <th>labse_text_feature_759</th>\n",
       "      <th>labse_text_feature_760</th>\n",
       "      <th>labse_text_feature_761</th>\n",
       "      <th>labse_text_feature_762</th>\n",
       "      <th>labse_text_feature_763</th>\n",
       "      <th>labse_text_feature_764</th>\n",
       "      <th>labse_text_feature_765</th>\n",
       "      <th>labse_text_feature_766</th>\n",
       "      <th>labse_text_feature_767</th>\n",
       "    </tr>\n",
       "  </thead>\n",
       "  <tbody>\n",
       "    <tr>\n",
       "      <th>0</th>\n",
       "      <td>0.272156</td>\n",
       "      <td>0.155383</td>\n",
       "      <td>0.060285</td>\n",
       "      <td>0.363159</td>\n",
       "      <td>-0.140391</td>\n",
       "      <td>0.507753</td>\n",
       "      <td>-0.226326</td>\n",
       "      <td>0.431878</td>\n",
       "      <td>0.063127</td>\n",
       "      <td>-0.159407</td>\n",
       "      <td>...</td>\n",
       "      <td>-0.045795</td>\n",
       "      <td>-0.027475</td>\n",
       "      <td>0.030528</td>\n",
       "      <td>-0.052218</td>\n",
       "      <td>0.042459</td>\n",
       "      <td>-0.012714</td>\n",
       "      <td>-0.05537</td>\n",
       "      <td>-0.012433</td>\n",
       "      <td>-0.016283</td>\n",
       "      <td>-0.006994</td>\n",
       "    </tr>\n",
       "  </tbody>\n",
       "</table>\n",
       "<p>1 rows × 2616 columns</p>\n",
       "</div>"
      ],
      "text/plain": [
       "   ruBert-base_text_feature_0  ruBert-base_text_feature_1  \\\n",
       "0                    0.272156                    0.155383   \n",
       "\n",
       "   ruBert-base_text_feature_2  ruBert-base_text_feature_3  \\\n",
       "0                    0.060285                    0.363159   \n",
       "\n",
       "   ruBert-base_text_feature_4  ruBert-base_text_feature_5  \\\n",
       "0                   -0.140391                    0.507753   \n",
       "\n",
       "   ruBert-base_text_feature_6  ruBert-base_text_feature_7  \\\n",
       "0                   -0.226326                    0.431878   \n",
       "\n",
       "   ruBert-base_text_feature_8  ruBert-base_text_feature_9  ...  \\\n",
       "0                    0.063127                   -0.159407  ...   \n",
       "\n",
       "   labse_text_feature_758  labse_text_feature_759  labse_text_feature_760  \\\n",
       "0               -0.045795               -0.027475                0.030528   \n",
       "\n",
       "   labse_text_feature_761  labse_text_feature_762  labse_text_feature_763  \\\n",
       "0               -0.052218                0.042459               -0.012714   \n",
       "\n",
       "   labse_text_feature_764  labse_text_feature_765  labse_text_feature_766  \\\n",
       "0                -0.05537               -0.012433               -0.016283   \n",
       "\n",
       "   labse_text_feature_767  \n",
       "0               -0.006994  \n",
       "\n",
       "[1 rows x 2616 columns]"
      ]
     },
     "execution_count": 54,
     "metadata": {},
     "output_type": "execute_result"
    }
   ],
   "source": [
    "train_full.iloc[:1, 2:]"
   ]
  },
  {
   "cell_type": "code",
   "execution_count": 60,
   "metadata": {},
   "outputs": [
    {
     "data": {
      "text/html": [
       "<div>\n",
       "<style scoped>\n",
       "    .dataframe tbody tr th:only-of-type {\n",
       "        vertical-align: middle;\n",
       "    }\n",
       "\n",
       "    .dataframe tbody tr th {\n",
       "        vertical-align: top;\n",
       "    }\n",
       "\n",
       "    .dataframe thead th {\n",
       "        text-align: right;\n",
       "    }\n",
       "</style>\n",
       "<table border=\"1\" class=\"dataframe\">\n",
       "  <thead>\n",
       "    <tr style=\"text-align: right;\">\n",
       "      <th></th>\n",
       "      <th>rubert-tiny2_text_feature_0</th>\n",
       "      <th>rubert-tiny2_text_feature_1</th>\n",
       "      <th>rubert-tiny2_text_feature_2</th>\n",
       "      <th>rubert-tiny2_text_feature_3</th>\n",
       "      <th>rubert-tiny2_text_feature_4</th>\n",
       "      <th>rubert-tiny2_text_feature_5</th>\n",
       "      <th>rubert-tiny2_text_feature_6</th>\n",
       "      <th>rubert-tiny2_text_feature_7</th>\n",
       "      <th>rubert-tiny2_text_feature_8</th>\n",
       "      <th>rubert-tiny2_text_feature_9</th>\n",
       "      <th>...</th>\n",
       "      <th>labse_text_feature_758</th>\n",
       "      <th>labse_text_feature_759</th>\n",
       "      <th>labse_text_feature_760</th>\n",
       "      <th>labse_text_feature_761</th>\n",
       "      <th>labse_text_feature_762</th>\n",
       "      <th>labse_text_feature_763</th>\n",
       "      <th>labse_text_feature_764</th>\n",
       "      <th>labse_text_feature_765</th>\n",
       "      <th>labse_text_feature_766</th>\n",
       "      <th>labse_text_feature_767</th>\n",
       "    </tr>\n",
       "  </thead>\n",
       "  <tbody>\n",
       "    <tr>\n",
       "      <th>0</th>\n",
       "      <td>-0.27044</td>\n",
       "      <td>0.125625</td>\n",
       "      <td>0.274958</td>\n",
       "      <td>-1.458633</td>\n",
       "      <td>-0.325684</td>\n",
       "      <td>0.209481</td>\n",
       "      <td>-0.538193</td>\n",
       "      <td>-0.294977</td>\n",
       "      <td>-0.113118</td>\n",
       "      <td>-0.137835</td>\n",
       "      <td>...</td>\n",
       "      <td>-0.045795</td>\n",
       "      <td>-0.027475</td>\n",
       "      <td>0.030528</td>\n",
       "      <td>-0.052218</td>\n",
       "      <td>0.042459</td>\n",
       "      <td>-0.012714</td>\n",
       "      <td>-0.05537</td>\n",
       "      <td>-0.012433</td>\n",
       "      <td>-0.016283</td>\n",
       "      <td>-0.006994</td>\n",
       "    </tr>\n",
       "  </tbody>\n",
       "</table>\n",
       "<p>1 rows × 1848 columns</p>\n",
       "</div>"
      ],
      "text/plain": [
       "   rubert-tiny2_text_feature_0  rubert-tiny2_text_feature_1  \\\n",
       "0                     -0.27044                     0.125625   \n",
       "\n",
       "   rubert-tiny2_text_feature_2  rubert-tiny2_text_feature_3  \\\n",
       "0                     0.274958                    -1.458633   \n",
       "\n",
       "   rubert-tiny2_text_feature_4  rubert-tiny2_text_feature_5  \\\n",
       "0                    -0.325684                     0.209481   \n",
       "\n",
       "   rubert-tiny2_text_feature_6  rubert-tiny2_text_feature_7  \\\n",
       "0                    -0.538193                    -0.294977   \n",
       "\n",
       "   rubert-tiny2_text_feature_8  rubert-tiny2_text_feature_9  ...  \\\n",
       "0                    -0.113118                    -0.137835  ...   \n",
       "\n",
       "   labse_text_feature_758  labse_text_feature_759  labse_text_feature_760  \\\n",
       "0               -0.045795               -0.027475                0.030528   \n",
       "\n",
       "   labse_text_feature_761  labse_text_feature_762  labse_text_feature_763  \\\n",
       "0               -0.052218                0.042459               -0.012714   \n",
       "\n",
       "   labse_text_feature_764  labse_text_feature_765  labse_text_feature_766  \\\n",
       "0                -0.05537               -0.012433               -0.016283   \n",
       "\n",
       "   labse_text_feature_767  \n",
       "0               -0.006994  \n",
       "\n",
       "[1 rows x 1848 columns]"
      ]
     },
     "execution_count": 60,
     "metadata": {},
     "output_type": "execute_result"
    }
   ],
   "source": [
    "train_full.iloc[:1, 770:]"
   ]
  },
  {
   "cell_type": "code",
   "execution_count": 63,
   "metadata": {},
   "outputs": [
    {
     "data": {
      "text/html": [
       "<div>\n",
       "<style scoped>\n",
       "    .dataframe tbody tr th:only-of-type {\n",
       "        vertical-align: middle;\n",
       "    }\n",
       "\n",
       "    .dataframe tbody tr th {\n",
       "        vertical-align: top;\n",
       "    }\n",
       "\n",
       "    .dataframe thead th {\n",
       "        text-align: right;\n",
       "    }\n",
       "</style>\n",
       "<table border=\"1\" class=\"dataframe\">\n",
       "  <thead>\n",
       "    <tr style=\"text-align: right;\">\n",
       "      <th></th>\n",
       "      <th>rubert-base-cased-conversational_text_feature_0</th>\n",
       "      <th>rubert-base-cased-conversational_text_feature_1</th>\n",
       "      <th>rubert-base-cased-conversational_text_feature_2</th>\n",
       "      <th>rubert-base-cased-conversational_text_feature_3</th>\n",
       "      <th>rubert-base-cased-conversational_text_feature_4</th>\n",
       "      <th>rubert-base-cased-conversational_text_feature_5</th>\n",
       "      <th>rubert-base-cased-conversational_text_feature_6</th>\n",
       "      <th>rubert-base-cased-conversational_text_feature_7</th>\n",
       "      <th>rubert-base-cased-conversational_text_feature_8</th>\n",
       "      <th>rubert-base-cased-conversational_text_feature_9</th>\n",
       "      <th>...</th>\n",
       "      <th>labse_text_feature_758</th>\n",
       "      <th>labse_text_feature_759</th>\n",
       "      <th>labse_text_feature_760</th>\n",
       "      <th>labse_text_feature_761</th>\n",
       "      <th>labse_text_feature_762</th>\n",
       "      <th>labse_text_feature_763</th>\n",
       "      <th>labse_text_feature_764</th>\n",
       "      <th>labse_text_feature_765</th>\n",
       "      <th>labse_text_feature_766</th>\n",
       "      <th>labse_text_feature_767</th>\n",
       "    </tr>\n",
       "  </thead>\n",
       "  <tbody>\n",
       "    <tr>\n",
       "      <th>0</th>\n",
       "      <td>-0.618955</td>\n",
       "      <td>-0.219039</td>\n",
       "      <td>-0.295544</td>\n",
       "      <td>-0.043835</td>\n",
       "      <td>0.187447</td>\n",
       "      <td>0.339212</td>\n",
       "      <td>0.297977</td>\n",
       "      <td>0.204835</td>\n",
       "      <td>0.019111</td>\n",
       "      <td>0.424508</td>\n",
       "      <td>...</td>\n",
       "      <td>-0.045795</td>\n",
       "      <td>-0.027475</td>\n",
       "      <td>0.030528</td>\n",
       "      <td>-0.052218</td>\n",
       "      <td>0.042459</td>\n",
       "      <td>-0.012714</td>\n",
       "      <td>-0.05537</td>\n",
       "      <td>-0.012433</td>\n",
       "      <td>-0.016283</td>\n",
       "      <td>-0.006994</td>\n",
       "    </tr>\n",
       "  </tbody>\n",
       "</table>\n",
       "<p>1 rows × 1536 columns</p>\n",
       "</div>"
      ],
      "text/plain": [
       "   rubert-base-cased-conversational_text_feature_0  \\\n",
       "0                                        -0.618955   \n",
       "\n",
       "   rubert-base-cased-conversational_text_feature_1  \\\n",
       "0                                        -0.219039   \n",
       "\n",
       "   rubert-base-cased-conversational_text_feature_2  \\\n",
       "0                                        -0.295544   \n",
       "\n",
       "   rubert-base-cased-conversational_text_feature_3  \\\n",
       "0                                        -0.043835   \n",
       "\n",
       "   rubert-base-cased-conversational_text_feature_4  \\\n",
       "0                                         0.187447   \n",
       "\n",
       "   rubert-base-cased-conversational_text_feature_5  \\\n",
       "0                                         0.339212   \n",
       "\n",
       "   rubert-base-cased-conversational_text_feature_6  \\\n",
       "0                                         0.297977   \n",
       "\n",
       "   rubert-base-cased-conversational_text_feature_7  \\\n",
       "0                                         0.204835   \n",
       "\n",
       "   rubert-base-cased-conversational_text_feature_8  \\\n",
       "0                                         0.019111   \n",
       "\n",
       "   rubert-base-cased-conversational_text_feature_9  ...  \\\n",
       "0                                         0.424508  ...   \n",
       "\n",
       "   labse_text_feature_758  labse_text_feature_759  labse_text_feature_760  \\\n",
       "0               -0.045795               -0.027475                0.030528   \n",
       "\n",
       "   labse_text_feature_761  labse_text_feature_762  labse_text_feature_763  \\\n",
       "0               -0.052218                0.042459               -0.012714   \n",
       "\n",
       "   labse_text_feature_764  labse_text_feature_765  labse_text_feature_766  \\\n",
       "0                -0.05537               -0.012433               -0.016283   \n",
       "\n",
       "   labse_text_feature_767  \n",
       "0               -0.006994  \n",
       "\n",
       "[1 rows x 1536 columns]"
      ]
     },
     "execution_count": 63,
     "metadata": {},
     "output_type": "execute_result"
    }
   ],
   "source": [
    "train_full.iloc[:1, 1082:]"
   ]
  },
  {
   "cell_type": "code",
   "execution_count": 71,
   "metadata": {},
   "outputs": [
    {
     "data": {
      "text/html": [
       "<div>\n",
       "<style scoped>\n",
       "    .dataframe tbody tr th:only-of-type {\n",
       "        vertical-align: middle;\n",
       "    }\n",
       "\n",
       "    .dataframe tbody tr th {\n",
       "        vertical-align: top;\n",
       "    }\n",
       "\n",
       "    .dataframe thead th {\n",
       "        text-align: right;\n",
       "    }\n",
       "</style>\n",
       "<table border=\"1\" class=\"dataframe\">\n",
       "  <thead>\n",
       "    <tr style=\"text-align: right;\">\n",
       "      <th></th>\n",
       "      <th>labse_text_feature_0</th>\n",
       "      <th>labse_text_feature_1</th>\n",
       "      <th>labse_text_feature_2</th>\n",
       "      <th>labse_text_feature_3</th>\n",
       "      <th>labse_text_feature_4</th>\n",
       "      <th>labse_text_feature_5</th>\n",
       "      <th>labse_text_feature_6</th>\n",
       "      <th>labse_text_feature_7</th>\n",
       "      <th>labse_text_feature_8</th>\n",
       "      <th>labse_text_feature_9</th>\n",
       "      <th>...</th>\n",
       "      <th>labse_text_feature_758</th>\n",
       "      <th>labse_text_feature_759</th>\n",
       "      <th>labse_text_feature_760</th>\n",
       "      <th>labse_text_feature_761</th>\n",
       "      <th>labse_text_feature_762</th>\n",
       "      <th>labse_text_feature_763</th>\n",
       "      <th>labse_text_feature_764</th>\n",
       "      <th>labse_text_feature_765</th>\n",
       "      <th>labse_text_feature_766</th>\n",
       "      <th>labse_text_feature_767</th>\n",
       "    </tr>\n",
       "  </thead>\n",
       "  <tbody>\n",
       "    <tr>\n",
       "      <th>0</th>\n",
       "      <td>-0.033953</td>\n",
       "      <td>-0.057514</td>\n",
       "      <td>-0.032344</td>\n",
       "      <td>0.007962</td>\n",
       "      <td>-0.064609</td>\n",
       "      <td>-0.05585</td>\n",
       "      <td>-0.016916</td>\n",
       "      <td>-0.001691</td>\n",
       "      <td>-0.010337</td>\n",
       "      <td>-0.018989</td>\n",
       "      <td>...</td>\n",
       "      <td>-0.045795</td>\n",
       "      <td>-0.027475</td>\n",
       "      <td>0.030528</td>\n",
       "      <td>-0.052218</td>\n",
       "      <td>0.042459</td>\n",
       "      <td>-0.012714</td>\n",
       "      <td>-0.05537</td>\n",
       "      <td>-0.012433</td>\n",
       "      <td>-0.016283</td>\n",
       "      <td>-0.006994</td>\n",
       "    </tr>\n",
       "  </tbody>\n",
       "</table>\n",
       "<p>1 rows × 768 columns</p>\n",
       "</div>"
      ],
      "text/plain": [
       "   labse_text_feature_0  labse_text_feature_1  labse_text_feature_2  \\\n",
       "0             -0.033953             -0.057514             -0.032344   \n",
       "\n",
       "   labse_text_feature_3  labse_text_feature_4  labse_text_feature_5  \\\n",
       "0              0.007962             -0.064609              -0.05585   \n",
       "\n",
       "   labse_text_feature_6  labse_text_feature_7  labse_text_feature_8  \\\n",
       "0             -0.016916             -0.001691             -0.010337   \n",
       "\n",
       "   labse_text_feature_9  ...  labse_text_feature_758  labse_text_feature_759  \\\n",
       "0             -0.018989  ...               -0.045795               -0.027475   \n",
       "\n",
       "   labse_text_feature_760  labse_text_feature_761  labse_text_feature_762  \\\n",
       "0                0.030528               -0.052218                0.042459   \n",
       "\n",
       "   labse_text_feature_763  labse_text_feature_764  labse_text_feature_765  \\\n",
       "0               -0.012714                -0.05537               -0.012433   \n",
       "\n",
       "   labse_text_feature_766  labse_text_feature_767  \n",
       "0               -0.016283               -0.006994  \n",
       "\n",
       "[1 rows x 768 columns]"
      ]
     },
     "execution_count": 71,
     "metadata": {},
     "output_type": "execute_result"
    }
   ],
   "source": [
    "train_full.iloc[:1, 1850:]"
   ]
  },
  {
   "cell_type": "code",
   "execution_count": 81,
   "metadata": {},
   "outputs": [
    {
     "name": "stdout",
     "output_type": "stream",
     "text": [
      "sberbank-ai/ruBert-base\n"
     ]
    },
    {
     "data": {
      "application/vnd.jupyter.widget-view+json": {
       "model_id": "c3b4b77f5ed74e69bb021e0a0ba0d390",
       "version_major": 2,
       "version_minor": 0
      },
      "text/plain": [
       "  0%|          | 0/1 [00:00<?, ?it/s]"
      ]
     },
     "metadata": {},
     "output_type": "display_data"
    },
    {
     "data": {
      "text/html": [
       "<div>\n",
       "<style scoped>\n",
       "    .dataframe tbody tr th:only-of-type {\n",
       "        vertical-align: middle;\n",
       "    }\n",
       "\n",
       "    .dataframe tbody tr th {\n",
       "        vertical-align: top;\n",
       "    }\n",
       "\n",
       "    .dataframe thead th {\n",
       "        text-align: right;\n",
       "    }\n",
       "</style>\n",
       "<table border=\"1\" class=\"dataframe\">\n",
       "  <thead>\n",
       "    <tr style=\"text-align: right;\">\n",
       "      <th></th>\n",
       "      <th>category</th>\n",
       "      <th>text</th>\n",
       "      <th>sberbank-ai/ruBert-base_text_feature_0</th>\n",
       "      <th>sberbank-ai/ruBert-base_text_feature_1</th>\n",
       "      <th>sberbank-ai/ruBert-base_text_feature_2</th>\n",
       "      <th>sberbank-ai/ruBert-base_text_feature_3</th>\n",
       "      <th>sberbank-ai/ruBert-base_text_feature_4</th>\n",
       "      <th>sberbank-ai/ruBert-base_text_feature_5</th>\n",
       "      <th>sberbank-ai/ruBert-base_text_feature_6</th>\n",
       "      <th>sberbank-ai/ruBert-base_text_feature_7</th>\n",
       "      <th>...</th>\n",
       "      <th>sberbank-ai/ruBert-base_text_feature_758</th>\n",
       "      <th>sberbank-ai/ruBert-base_text_feature_759</th>\n",
       "      <th>sberbank-ai/ruBert-base_text_feature_760</th>\n",
       "      <th>sberbank-ai/ruBert-base_text_feature_761</th>\n",
       "      <th>sberbank-ai/ruBert-base_text_feature_762</th>\n",
       "      <th>sberbank-ai/ruBert-base_text_feature_763</th>\n",
       "      <th>sberbank-ai/ruBert-base_text_feature_764</th>\n",
       "      <th>sberbank-ai/ruBert-base_text_feature_765</th>\n",
       "      <th>sberbank-ai/ruBert-base_text_feature_766</th>\n",
       "      <th>sberbank-ai/ruBert-base_text_feature_767</th>\n",
       "    </tr>\n",
       "  </thead>\n",
       "  <tbody>\n",
       "    <tr>\n",
       "      <th>0</th>\n",
       "      <td>extreme</td>\n",
       "      <td>Ледник Пасторури это цирковой ледник расположе...</td>\n",
       "      <td>-0.1246</td>\n",
       "      <td>-0.349294</td>\n",
       "      <td>-0.085619</td>\n",
       "      <td>-0.112011</td>\n",
       "      <td>-0.022692</td>\n",
       "      <td>0.124647</td>\n",
       "      <td>0.615842</td>\n",
       "      <td>0.553348</td>\n",
       "      <td>...</td>\n",
       "      <td>0.098652</td>\n",
       "      <td>-0.00936</td>\n",
       "      <td>0.92347</td>\n",
       "      <td>-0.016722</td>\n",
       "      <td>0.058011</td>\n",
       "      <td>-0.920569</td>\n",
       "      <td>-0.18203</td>\n",
       "      <td>0.067272</td>\n",
       "      <td>-0.091236</td>\n",
       "      <td>0.269201</td>\n",
       "    </tr>\n",
       "  </tbody>\n",
       "</table>\n",
       "<p>1 rows × 770 columns</p>\n",
       "</div>"
      ],
      "text/plain": [
       "  category                                               text  \\\n",
       "0  extreme  Ледник Пасторури это цирковой ледник расположе...   \n",
       "\n",
       "   sberbank-ai/ruBert-base_text_feature_0  \\\n",
       "0                                 -0.1246   \n",
       "\n",
       "   sberbank-ai/ruBert-base_text_feature_1  \\\n",
       "0                               -0.349294   \n",
       "\n",
       "   sberbank-ai/ruBert-base_text_feature_2  \\\n",
       "0                               -0.085619   \n",
       "\n",
       "   sberbank-ai/ruBert-base_text_feature_3  \\\n",
       "0                               -0.112011   \n",
       "\n",
       "   sberbank-ai/ruBert-base_text_feature_4  \\\n",
       "0                               -0.022692   \n",
       "\n",
       "   sberbank-ai/ruBert-base_text_feature_5  \\\n",
       "0                                0.124647   \n",
       "\n",
       "   sberbank-ai/ruBert-base_text_feature_6  \\\n",
       "0                                0.615842   \n",
       "\n",
       "   sberbank-ai/ruBert-base_text_feature_7  ...  \\\n",
       "0                                0.553348  ...   \n",
       "\n",
       "   sberbank-ai/ruBert-base_text_feature_758  \\\n",
       "0                                  0.098652   \n",
       "\n",
       "   sberbank-ai/ruBert-base_text_feature_759  \\\n",
       "0                                  -0.00936   \n",
       "\n",
       "   sberbank-ai/ruBert-base_text_feature_760  \\\n",
       "0                                   0.92347   \n",
       "\n",
       "   sberbank-ai/ruBert-base_text_feature_761  \\\n",
       "0                                 -0.016722   \n",
       "\n",
       "   sberbank-ai/ruBert-base_text_feature_762  \\\n",
       "0                                  0.058011   \n",
       "\n",
       "   sberbank-ai/ruBert-base_text_feature_763  \\\n",
       "0                                 -0.920569   \n",
       "\n",
       "   sberbank-ai/ruBert-base_text_feature_764  \\\n",
       "0                                  -0.18203   \n",
       "\n",
       "   sberbank-ai/ruBert-base_text_feature_765  \\\n",
       "0                                  0.067272   \n",
       "\n",
       "   sberbank-ai/ruBert-base_text_feature_766  \\\n",
       "0                                 -0.091236   \n",
       "\n",
       "   sberbank-ai/ruBert-base_text_feature_767  \n",
       "0                                  0.269201  \n",
       "\n",
       "[1 rows x 770 columns]"
      ]
     },
     "metadata": {},
     "output_type": "display_data"
    },
    {
     "name": "stdout",
     "output_type": "stream",
     "text": [
      "cointegrated/rubert-tiny2\n"
     ]
    },
    {
     "data": {
      "application/vnd.jupyter.widget-view+json": {
       "model_id": "336cb47d248d44399305fe4cd1f68b72",
       "version_major": 2,
       "version_minor": 0
      },
      "text/plain": [
       "  0%|          | 0/1 [00:00<?, ?it/s]"
      ]
     },
     "metadata": {},
     "output_type": "display_data"
    },
    {
     "data": {
      "text/html": [
       "<div>\n",
       "<style scoped>\n",
       "    .dataframe tbody tr th:only-of-type {\n",
       "        vertical-align: middle;\n",
       "    }\n",
       "\n",
       "    .dataframe tbody tr th {\n",
       "        vertical-align: top;\n",
       "    }\n",
       "\n",
       "    .dataframe thead th {\n",
       "        text-align: right;\n",
       "    }\n",
       "</style>\n",
       "<table border=\"1\" class=\"dataframe\">\n",
       "  <thead>\n",
       "    <tr style=\"text-align: right;\">\n",
       "      <th></th>\n",
       "      <th>category</th>\n",
       "      <th>text</th>\n",
       "      <th>cointegrated/rubert-tiny2_text_feature_0</th>\n",
       "      <th>cointegrated/rubert-tiny2_text_feature_1</th>\n",
       "      <th>cointegrated/rubert-tiny2_text_feature_2</th>\n",
       "      <th>cointegrated/rubert-tiny2_text_feature_3</th>\n",
       "      <th>cointegrated/rubert-tiny2_text_feature_4</th>\n",
       "      <th>cointegrated/rubert-tiny2_text_feature_5</th>\n",
       "      <th>cointegrated/rubert-tiny2_text_feature_6</th>\n",
       "      <th>cointegrated/rubert-tiny2_text_feature_7</th>\n",
       "      <th>...</th>\n",
       "      <th>cointegrated/rubert-tiny2_text_feature_302</th>\n",
       "      <th>cointegrated/rubert-tiny2_text_feature_303</th>\n",
       "      <th>cointegrated/rubert-tiny2_text_feature_304</th>\n",
       "      <th>cointegrated/rubert-tiny2_text_feature_305</th>\n",
       "      <th>cointegrated/rubert-tiny2_text_feature_306</th>\n",
       "      <th>cointegrated/rubert-tiny2_text_feature_307</th>\n",
       "      <th>cointegrated/rubert-tiny2_text_feature_308</th>\n",
       "      <th>cointegrated/rubert-tiny2_text_feature_309</th>\n",
       "      <th>cointegrated/rubert-tiny2_text_feature_310</th>\n",
       "      <th>cointegrated/rubert-tiny2_text_feature_311</th>\n",
       "    </tr>\n",
       "  </thead>\n",
       "  <tbody>\n",
       "    <tr>\n",
       "      <th>0</th>\n",
       "      <td>extreme</td>\n",
       "      <td>Ледник Пасторури это цирковой ледник расположе...</td>\n",
       "      <td>0.073752</td>\n",
       "      <td>-0.031242</td>\n",
       "      <td>-0.076214</td>\n",
       "      <td>0.193213</td>\n",
       "      <td>0.118162</td>\n",
       "      <td>-0.099399</td>\n",
       "      <td>0.19756</td>\n",
       "      <td>-0.134615</td>\n",
       "      <td>...</td>\n",
       "      <td>-0.204796</td>\n",
       "      <td>-0.055983</td>\n",
       "      <td>0.008363</td>\n",
       "      <td>-0.125359</td>\n",
       "      <td>0.05548</td>\n",
       "      <td>0.064453</td>\n",
       "      <td>-0.170632</td>\n",
       "      <td>0.098098</td>\n",
       "      <td>0.028671</td>\n",
       "      <td>-0.057577</td>\n",
       "    </tr>\n",
       "  </tbody>\n",
       "</table>\n",
       "<p>1 rows × 314 columns</p>\n",
       "</div>"
      ],
      "text/plain": [
       "  category                                               text  \\\n",
       "0  extreme  Ледник Пасторури это цирковой ледник расположе...   \n",
       "\n",
       "   cointegrated/rubert-tiny2_text_feature_0  \\\n",
       "0                                  0.073752   \n",
       "\n",
       "   cointegrated/rubert-tiny2_text_feature_1  \\\n",
       "0                                 -0.031242   \n",
       "\n",
       "   cointegrated/rubert-tiny2_text_feature_2  \\\n",
       "0                                 -0.076214   \n",
       "\n",
       "   cointegrated/rubert-tiny2_text_feature_3  \\\n",
       "0                                  0.193213   \n",
       "\n",
       "   cointegrated/rubert-tiny2_text_feature_4  \\\n",
       "0                                  0.118162   \n",
       "\n",
       "   cointegrated/rubert-tiny2_text_feature_5  \\\n",
       "0                                 -0.099399   \n",
       "\n",
       "   cointegrated/rubert-tiny2_text_feature_6  \\\n",
       "0                                   0.19756   \n",
       "\n",
       "   cointegrated/rubert-tiny2_text_feature_7  ...  \\\n",
       "0                                 -0.134615  ...   \n",
       "\n",
       "   cointegrated/rubert-tiny2_text_feature_302  \\\n",
       "0                                   -0.204796   \n",
       "\n",
       "   cointegrated/rubert-tiny2_text_feature_303  \\\n",
       "0                                   -0.055983   \n",
       "\n",
       "   cointegrated/rubert-tiny2_text_feature_304  \\\n",
       "0                                    0.008363   \n",
       "\n",
       "   cointegrated/rubert-tiny2_text_feature_305  \\\n",
       "0                                   -0.125359   \n",
       "\n",
       "   cointegrated/rubert-tiny2_text_feature_306  \\\n",
       "0                                     0.05548   \n",
       "\n",
       "   cointegrated/rubert-tiny2_text_feature_307  \\\n",
       "0                                    0.064453   \n",
       "\n",
       "   cointegrated/rubert-tiny2_text_feature_308  \\\n",
       "0                                   -0.170632   \n",
       "\n",
       "   cointegrated/rubert-tiny2_text_feature_309  \\\n",
       "0                                    0.098098   \n",
       "\n",
       "   cointegrated/rubert-tiny2_text_feature_310  \\\n",
       "0                                    0.028671   \n",
       "\n",
       "   cointegrated/rubert-tiny2_text_feature_311  \n",
       "0                                   -0.057577  \n",
       "\n",
       "[1 rows x 314 columns]"
      ]
     },
     "metadata": {},
     "output_type": "display_data"
    },
    {
     "name": "stdout",
     "output_type": "stream",
     "text": [
      "DeepPavlov/rubert-base-cased-conversational\n"
     ]
    },
    {
     "name": "stderr",
     "output_type": "stream",
     "text": [
      "Some weights of the model checkpoint at DeepPavlov/rubert-base-cased-conversational were not used when initializing BertModel: ['cls.predictions.bias', 'cls.predictions.decoder.bias', 'cls.predictions.decoder.weight', 'cls.predictions.transform.LayerNorm.bias', 'cls.predictions.transform.LayerNorm.weight', 'cls.predictions.transform.dense.bias', 'cls.predictions.transform.dense.weight', 'cls.seq_relationship.bias', 'cls.seq_relationship.weight']\n",
      "- This IS expected if you are initializing BertModel from the checkpoint of a model trained on another task or with another architecture (e.g. initializing a BertForSequenceClassification model from a BertForPreTraining model).\n",
      "- This IS NOT expected if you are initializing BertModel from the checkpoint of a model that you expect to be exactly identical (initializing a BertForSequenceClassification model from a BertForSequenceClassification model).\n"
     ]
    },
    {
     "data": {
      "application/vnd.jupyter.widget-view+json": {
       "model_id": "1656768f587d4e38ae26a7171ccfeb87",
       "version_major": 2,
       "version_minor": 0
      },
      "text/plain": [
       "  0%|          | 0/1 [00:00<?, ?it/s]"
      ]
     },
     "metadata": {},
     "output_type": "display_data"
    },
    {
     "data": {
      "text/html": [
       "<div>\n",
       "<style scoped>\n",
       "    .dataframe tbody tr th:only-of-type {\n",
       "        vertical-align: middle;\n",
       "    }\n",
       "\n",
       "    .dataframe tbody tr th {\n",
       "        vertical-align: top;\n",
       "    }\n",
       "\n",
       "    .dataframe thead th {\n",
       "        text-align: right;\n",
       "    }\n",
       "</style>\n",
       "<table border=\"1\" class=\"dataframe\">\n",
       "  <thead>\n",
       "    <tr style=\"text-align: right;\">\n",
       "      <th></th>\n",
       "      <th>category</th>\n",
       "      <th>text</th>\n",
       "      <th>DeepPavlov/rubert-base-cased-conversational_text_feature_0</th>\n",
       "      <th>DeepPavlov/rubert-base-cased-conversational_text_feature_1</th>\n",
       "      <th>DeepPavlov/rubert-base-cased-conversational_text_feature_2</th>\n",
       "      <th>DeepPavlov/rubert-base-cased-conversational_text_feature_3</th>\n",
       "      <th>DeepPavlov/rubert-base-cased-conversational_text_feature_4</th>\n",
       "      <th>DeepPavlov/rubert-base-cased-conversational_text_feature_5</th>\n",
       "      <th>DeepPavlov/rubert-base-cased-conversational_text_feature_6</th>\n",
       "      <th>DeepPavlov/rubert-base-cased-conversational_text_feature_7</th>\n",
       "      <th>...</th>\n",
       "      <th>DeepPavlov/rubert-base-cased-conversational_text_feature_758</th>\n",
       "      <th>DeepPavlov/rubert-base-cased-conversational_text_feature_759</th>\n",
       "      <th>DeepPavlov/rubert-base-cased-conversational_text_feature_760</th>\n",
       "      <th>DeepPavlov/rubert-base-cased-conversational_text_feature_761</th>\n",
       "      <th>DeepPavlov/rubert-base-cased-conversational_text_feature_762</th>\n",
       "      <th>DeepPavlov/rubert-base-cased-conversational_text_feature_763</th>\n",
       "      <th>DeepPavlov/rubert-base-cased-conversational_text_feature_764</th>\n",
       "      <th>DeepPavlov/rubert-base-cased-conversational_text_feature_765</th>\n",
       "      <th>DeepPavlov/rubert-base-cased-conversational_text_feature_766</th>\n",
       "      <th>DeepPavlov/rubert-base-cased-conversational_text_feature_767</th>\n",
       "    </tr>\n",
       "  </thead>\n",
       "  <tbody>\n",
       "    <tr>\n",
       "      <th>0</th>\n",
       "      <td>extreme</td>\n",
       "      <td>Ледник Пасторури это цирковой ледник расположе...</td>\n",
       "      <td>0.234252</td>\n",
       "      <td>0.129809</td>\n",
       "      <td>0.03384</td>\n",
       "      <td>0.688277</td>\n",
       "      <td>0.270071</td>\n",
       "      <td>0.097495</td>\n",
       "      <td>-0.149023</td>\n",
       "      <td>-0.032282</td>\n",
       "      <td>...</td>\n",
       "      <td>0.027908</td>\n",
       "      <td>-0.364947</td>\n",
       "      <td>-0.353177</td>\n",
       "      <td>0.429614</td>\n",
       "      <td>-0.067803</td>\n",
       "      <td>0.022929</td>\n",
       "      <td>-0.16436</td>\n",
       "      <td>0.154825</td>\n",
       "      <td>-0.150798</td>\n",
       "      <td>0.081176</td>\n",
       "    </tr>\n",
       "  </tbody>\n",
       "</table>\n",
       "<p>1 rows × 770 columns</p>\n",
       "</div>"
      ],
      "text/plain": [
       "  category                                               text  \\\n",
       "0  extreme  Ледник Пасторури это цирковой ледник расположе...   \n",
       "\n",
       "   DeepPavlov/rubert-base-cased-conversational_text_feature_0  \\\n",
       "0                                           0.234252            \n",
       "\n",
       "   DeepPavlov/rubert-base-cased-conversational_text_feature_1  \\\n",
       "0                                           0.129809            \n",
       "\n",
       "   DeepPavlov/rubert-base-cased-conversational_text_feature_2  \\\n",
       "0                                            0.03384            \n",
       "\n",
       "   DeepPavlov/rubert-base-cased-conversational_text_feature_3  \\\n",
       "0                                           0.688277            \n",
       "\n",
       "   DeepPavlov/rubert-base-cased-conversational_text_feature_4  \\\n",
       "0                                           0.270071            \n",
       "\n",
       "   DeepPavlov/rubert-base-cased-conversational_text_feature_5  \\\n",
       "0                                           0.097495            \n",
       "\n",
       "   DeepPavlov/rubert-base-cased-conversational_text_feature_6  \\\n",
       "0                                          -0.149023            \n",
       "\n",
       "   DeepPavlov/rubert-base-cased-conversational_text_feature_7  ...  \\\n",
       "0                                          -0.032282           ...   \n",
       "\n",
       "   DeepPavlov/rubert-base-cased-conversational_text_feature_758  \\\n",
       "0                                           0.027908              \n",
       "\n",
       "   DeepPavlov/rubert-base-cased-conversational_text_feature_759  \\\n",
       "0                                          -0.364947              \n",
       "\n",
       "   DeepPavlov/rubert-base-cased-conversational_text_feature_760  \\\n",
       "0                                          -0.353177              \n",
       "\n",
       "   DeepPavlov/rubert-base-cased-conversational_text_feature_761  \\\n",
       "0                                           0.429614              \n",
       "\n",
       "   DeepPavlov/rubert-base-cased-conversational_text_feature_762  \\\n",
       "0                                          -0.067803              \n",
       "\n",
       "   DeepPavlov/rubert-base-cased-conversational_text_feature_763  \\\n",
       "0                                           0.022929              \n",
       "\n",
       "   DeepPavlov/rubert-base-cased-conversational_text_feature_764  \\\n",
       "0                                           -0.16436              \n",
       "\n",
       "   DeepPavlov/rubert-base-cased-conversational_text_feature_765  \\\n",
       "0                                           0.154825              \n",
       "\n",
       "   DeepPavlov/rubert-base-cased-conversational_text_feature_766  \\\n",
       "0                                          -0.150798              \n",
       "\n",
       "   DeepPavlov/rubert-base-cased-conversational_text_feature_767  \n",
       "0                                           0.081176             \n",
       "\n",
       "[1 rows x 770 columns]"
      ]
     },
     "metadata": {},
     "output_type": "display_data"
    },
    {
     "name": "stdout",
     "output_type": "stream",
     "text": [
      "sentence-transformers/LaBSE\n"
     ]
    },
    {
     "data": {
      "application/vnd.jupyter.widget-view+json": {
       "model_id": "7909ceedf57947daa30933fca313c97c",
       "version_major": 2,
       "version_minor": 0
      },
      "text/plain": [
       "  0%|          | 0/1 [00:00<?, ?it/s]"
      ]
     },
     "metadata": {},
     "output_type": "display_data"
    },
    {
     "data": {
      "text/html": [
       "<div>\n",
       "<style scoped>\n",
       "    .dataframe tbody tr th:only-of-type {\n",
       "        vertical-align: middle;\n",
       "    }\n",
       "\n",
       "    .dataframe tbody tr th {\n",
       "        vertical-align: top;\n",
       "    }\n",
       "\n",
       "    .dataframe thead th {\n",
       "        text-align: right;\n",
       "    }\n",
       "</style>\n",
       "<table border=\"1\" class=\"dataframe\">\n",
       "  <thead>\n",
       "    <tr style=\"text-align: right;\">\n",
       "      <th></th>\n",
       "      <th>category</th>\n",
       "      <th>text</th>\n",
       "      <th>sentence-transformers/LaBSE_text_feature_0</th>\n",
       "      <th>sentence-transformers/LaBSE_text_feature_1</th>\n",
       "      <th>sentence-transformers/LaBSE_text_feature_2</th>\n",
       "      <th>sentence-transformers/LaBSE_text_feature_3</th>\n",
       "      <th>sentence-transformers/LaBSE_text_feature_4</th>\n",
       "      <th>sentence-transformers/LaBSE_text_feature_5</th>\n",
       "      <th>sentence-transformers/LaBSE_text_feature_6</th>\n",
       "      <th>sentence-transformers/LaBSE_text_feature_7</th>\n",
       "      <th>...</th>\n",
       "      <th>sentence-transformers/LaBSE_text_feature_758</th>\n",
       "      <th>sentence-transformers/LaBSE_text_feature_759</th>\n",
       "      <th>sentence-transformers/LaBSE_text_feature_760</th>\n",
       "      <th>sentence-transformers/LaBSE_text_feature_761</th>\n",
       "      <th>sentence-transformers/LaBSE_text_feature_762</th>\n",
       "      <th>sentence-transformers/LaBSE_text_feature_763</th>\n",
       "      <th>sentence-transformers/LaBSE_text_feature_764</th>\n",
       "      <th>sentence-transformers/LaBSE_text_feature_765</th>\n",
       "      <th>sentence-transformers/LaBSE_text_feature_766</th>\n",
       "      <th>sentence-transformers/LaBSE_text_feature_767</th>\n",
       "    </tr>\n",
       "  </thead>\n",
       "  <tbody>\n",
       "    <tr>\n",
       "      <th>0</th>\n",
       "      <td>extreme</td>\n",
       "      <td>Ледник Пасторури это цирковой ледник расположе...</td>\n",
       "      <td>-0.25085</td>\n",
       "      <td>-0.427436</td>\n",
       "      <td>-0.222047</td>\n",
       "      <td>0.010641</td>\n",
       "      <td>-0.693528</td>\n",
       "      <td>-0.527626</td>\n",
       "      <td>-0.357342</td>\n",
       "      <td>-0.049272</td>\n",
       "      <td>...</td>\n",
       "      <td>-0.711123</td>\n",
       "      <td>0.076657</td>\n",
       "      <td>0.450998</td>\n",
       "      <td>-0.527786</td>\n",
       "      <td>0.639146</td>\n",
       "      <td>0.006443</td>\n",
       "      <td>-0.644647</td>\n",
       "      <td>0.324797</td>\n",
       "      <td>0.006354</td>\n",
       "      <td>-0.044956</td>\n",
       "    </tr>\n",
       "  </tbody>\n",
       "</table>\n",
       "<p>1 rows × 770 columns</p>\n",
       "</div>"
      ],
      "text/plain": [
       "  category                                               text  \\\n",
       "0  extreme  Ледник Пасторури это цирковой ледник расположе...   \n",
       "\n",
       "   sentence-transformers/LaBSE_text_feature_0  \\\n",
       "0                                    -0.25085   \n",
       "\n",
       "   sentence-transformers/LaBSE_text_feature_1  \\\n",
       "0                                   -0.427436   \n",
       "\n",
       "   sentence-transformers/LaBSE_text_feature_2  \\\n",
       "0                                   -0.222047   \n",
       "\n",
       "   sentence-transformers/LaBSE_text_feature_3  \\\n",
       "0                                    0.010641   \n",
       "\n",
       "   sentence-transformers/LaBSE_text_feature_4  \\\n",
       "0                                   -0.693528   \n",
       "\n",
       "   sentence-transformers/LaBSE_text_feature_5  \\\n",
       "0                                   -0.527626   \n",
       "\n",
       "   sentence-transformers/LaBSE_text_feature_6  \\\n",
       "0                                   -0.357342   \n",
       "\n",
       "   sentence-transformers/LaBSE_text_feature_7  ...  \\\n",
       "0                                   -0.049272  ...   \n",
       "\n",
       "   sentence-transformers/LaBSE_text_feature_758  \\\n",
       "0                                     -0.711123   \n",
       "\n",
       "   sentence-transformers/LaBSE_text_feature_759  \\\n",
       "0                                      0.076657   \n",
       "\n",
       "   sentence-transformers/LaBSE_text_feature_760  \\\n",
       "0                                      0.450998   \n",
       "\n",
       "   sentence-transformers/LaBSE_text_feature_761  \\\n",
       "0                                     -0.527786   \n",
       "\n",
       "   sentence-transformers/LaBSE_text_feature_762  \\\n",
       "0                                      0.639146   \n",
       "\n",
       "   sentence-transformers/LaBSE_text_feature_763  \\\n",
       "0                                      0.006443   \n",
       "\n",
       "   sentence-transformers/LaBSE_text_feature_764  \\\n",
       "0                                     -0.644647   \n",
       "\n",
       "   sentence-transformers/LaBSE_text_feature_765  \\\n",
       "0                                      0.324797   \n",
       "\n",
       "   sentence-transformers/LaBSE_text_feature_766  \\\n",
       "0                                      0.006354   \n",
       "\n",
       "   sentence-transformers/LaBSE_text_feature_767  \n",
       "0                                     -0.044956  \n",
       "\n",
       "[1 rows x 770 columns]"
      ]
     },
     "metadata": {},
     "output_type": "display_data"
    },
    {
     "name": "stdout",
     "output_type": "stream",
     "text": [
      "cointegrated/LaBSE-en-ru\n"
     ]
    },
    {
     "data": {
      "application/vnd.jupyter.widget-view+json": {
       "model_id": "ecec0003450b405db0ac9d40e0262d25",
       "version_major": 2,
       "version_minor": 0
      },
      "text/plain": [
       "  0%|          | 0/1 [00:00<?, ?it/s]"
      ]
     },
     "metadata": {},
     "output_type": "display_data"
    },
    {
     "data": {
      "text/html": [
       "<div>\n",
       "<style scoped>\n",
       "    .dataframe tbody tr th:only-of-type {\n",
       "        vertical-align: middle;\n",
       "    }\n",
       "\n",
       "    .dataframe tbody tr th {\n",
       "        vertical-align: top;\n",
       "    }\n",
       "\n",
       "    .dataframe thead th {\n",
       "        text-align: right;\n",
       "    }\n",
       "</style>\n",
       "<table border=\"1\" class=\"dataframe\">\n",
       "  <thead>\n",
       "    <tr style=\"text-align: right;\">\n",
       "      <th></th>\n",
       "      <th>category</th>\n",
       "      <th>text</th>\n",
       "      <th>cointegrated/LaBSE-en-ru_text_feature_0</th>\n",
       "      <th>cointegrated/LaBSE-en-ru_text_feature_1</th>\n",
       "      <th>cointegrated/LaBSE-en-ru_text_feature_2</th>\n",
       "      <th>cointegrated/LaBSE-en-ru_text_feature_3</th>\n",
       "      <th>cointegrated/LaBSE-en-ru_text_feature_4</th>\n",
       "      <th>cointegrated/LaBSE-en-ru_text_feature_5</th>\n",
       "      <th>cointegrated/LaBSE-en-ru_text_feature_6</th>\n",
       "      <th>cointegrated/LaBSE-en-ru_text_feature_7</th>\n",
       "      <th>...</th>\n",
       "      <th>cointegrated/LaBSE-en-ru_text_feature_758</th>\n",
       "      <th>cointegrated/LaBSE-en-ru_text_feature_759</th>\n",
       "      <th>cointegrated/LaBSE-en-ru_text_feature_760</th>\n",
       "      <th>cointegrated/LaBSE-en-ru_text_feature_761</th>\n",
       "      <th>cointegrated/LaBSE-en-ru_text_feature_762</th>\n",
       "      <th>cointegrated/LaBSE-en-ru_text_feature_763</th>\n",
       "      <th>cointegrated/LaBSE-en-ru_text_feature_764</th>\n",
       "      <th>cointegrated/LaBSE-en-ru_text_feature_765</th>\n",
       "      <th>cointegrated/LaBSE-en-ru_text_feature_766</th>\n",
       "      <th>cointegrated/LaBSE-en-ru_text_feature_767</th>\n",
       "    </tr>\n",
       "  </thead>\n",
       "  <tbody>\n",
       "    <tr>\n",
       "      <th>0</th>\n",
       "      <td>extreme</td>\n",
       "      <td>Ледник Пасторури это цирковой ледник расположе...</td>\n",
       "      <td>-0.076881</td>\n",
       "      <td>-0.412761</td>\n",
       "      <td>-0.056001</td>\n",
       "      <td>0.046433</td>\n",
       "      <td>-0.449511</td>\n",
       "      <td>-0.253623</td>\n",
       "      <td>-0.301378</td>\n",
       "      <td>-0.103132</td>\n",
       "      <td>...</td>\n",
       "      <td>-0.299683</td>\n",
       "      <td>0.028655</td>\n",
       "      <td>0.4017</td>\n",
       "      <td>-0.196149</td>\n",
       "      <td>0.495118</td>\n",
       "      <td>0.019013</td>\n",
       "      <td>-0.362841</td>\n",
       "      <td>0.161874</td>\n",
       "      <td>-0.045738</td>\n",
       "      <td>-0.059286</td>\n",
       "    </tr>\n",
       "  </tbody>\n",
       "</table>\n",
       "<p>1 rows × 770 columns</p>\n",
       "</div>"
      ],
      "text/plain": [
       "  category                                               text  \\\n",
       "0  extreme  Ледник Пасторури это цирковой ледник расположе...   \n",
       "\n",
       "   cointegrated/LaBSE-en-ru_text_feature_0  \\\n",
       "0                                -0.076881   \n",
       "\n",
       "   cointegrated/LaBSE-en-ru_text_feature_1  \\\n",
       "0                                -0.412761   \n",
       "\n",
       "   cointegrated/LaBSE-en-ru_text_feature_2  \\\n",
       "0                                -0.056001   \n",
       "\n",
       "   cointegrated/LaBSE-en-ru_text_feature_3  \\\n",
       "0                                 0.046433   \n",
       "\n",
       "   cointegrated/LaBSE-en-ru_text_feature_4  \\\n",
       "0                                -0.449511   \n",
       "\n",
       "   cointegrated/LaBSE-en-ru_text_feature_5  \\\n",
       "0                                -0.253623   \n",
       "\n",
       "   cointegrated/LaBSE-en-ru_text_feature_6  \\\n",
       "0                                -0.301378   \n",
       "\n",
       "   cointegrated/LaBSE-en-ru_text_feature_7  ...  \\\n",
       "0                                -0.103132  ...   \n",
       "\n",
       "   cointegrated/LaBSE-en-ru_text_feature_758  \\\n",
       "0                                  -0.299683   \n",
       "\n",
       "   cointegrated/LaBSE-en-ru_text_feature_759  \\\n",
       "0                                   0.028655   \n",
       "\n",
       "   cointegrated/LaBSE-en-ru_text_feature_760  \\\n",
       "0                                     0.4017   \n",
       "\n",
       "   cointegrated/LaBSE-en-ru_text_feature_761  \\\n",
       "0                                  -0.196149   \n",
       "\n",
       "   cointegrated/LaBSE-en-ru_text_feature_762  \\\n",
       "0                                   0.495118   \n",
       "\n",
       "   cointegrated/LaBSE-en-ru_text_feature_763  \\\n",
       "0                                   0.019013   \n",
       "\n",
       "   cointegrated/LaBSE-en-ru_text_feature_764  \\\n",
       "0                                  -0.362841   \n",
       "\n",
       "   cointegrated/LaBSE-en-ru_text_feature_765  \\\n",
       "0                                   0.161874   \n",
       "\n",
       "   cointegrated/LaBSE-en-ru_text_feature_766  \\\n",
       "0                                  -0.045738   \n",
       "\n",
       "   cointegrated/LaBSE-en-ru_text_feature_767  \n",
       "0                                  -0.059286  \n",
       "\n",
       "[1 rows x 770 columns]"
      ]
     },
     "metadata": {},
     "output_type": "display_data"
    },
    {
     "name": "stdout",
     "output_type": "stream",
     "text": [
      "sberbank-ai/ruRoberta-large\n"
     ]
    },
    {
     "name": "stderr",
     "output_type": "stream",
     "text": [
      "Some weights of RobertaModel were not initialized from the model checkpoint at sberbank-ai/ruRoberta-large and are newly initialized: ['roberta.pooler.dense.bias', 'roberta.pooler.dense.weight']\n",
      "You should probably TRAIN this model on a down-stream task to be able to use it for predictions and inference.\n"
     ]
    },
    {
     "data": {
      "application/vnd.jupyter.widget-view+json": {
       "model_id": "b5be346d1b5c465e8f12da8d455d5547",
       "version_major": 2,
       "version_minor": 0
      },
      "text/plain": [
       "  0%|          | 0/1 [00:00<?, ?it/s]"
      ]
     },
     "metadata": {},
     "output_type": "display_data"
    },
    {
     "data": {
      "text/html": [
       "<div>\n",
       "<style scoped>\n",
       "    .dataframe tbody tr th:only-of-type {\n",
       "        vertical-align: middle;\n",
       "    }\n",
       "\n",
       "    .dataframe tbody tr th {\n",
       "        vertical-align: top;\n",
       "    }\n",
       "\n",
       "    .dataframe thead th {\n",
       "        text-align: right;\n",
       "    }\n",
       "</style>\n",
       "<table border=\"1\" class=\"dataframe\">\n",
       "  <thead>\n",
       "    <tr style=\"text-align: right;\">\n",
       "      <th></th>\n",
       "      <th>category</th>\n",
       "      <th>text</th>\n",
       "      <th>sberbank-ai/ruRoberta-large_text_feature_0</th>\n",
       "      <th>sberbank-ai/ruRoberta-large_text_feature_1</th>\n",
       "      <th>sberbank-ai/ruRoberta-large_text_feature_2</th>\n",
       "      <th>sberbank-ai/ruRoberta-large_text_feature_3</th>\n",
       "      <th>sberbank-ai/ruRoberta-large_text_feature_4</th>\n",
       "      <th>sberbank-ai/ruRoberta-large_text_feature_5</th>\n",
       "      <th>sberbank-ai/ruRoberta-large_text_feature_6</th>\n",
       "      <th>sberbank-ai/ruRoberta-large_text_feature_7</th>\n",
       "      <th>...</th>\n",
       "      <th>sberbank-ai/ruRoberta-large_text_feature_1014</th>\n",
       "      <th>sberbank-ai/ruRoberta-large_text_feature_1015</th>\n",
       "      <th>sberbank-ai/ruRoberta-large_text_feature_1016</th>\n",
       "      <th>sberbank-ai/ruRoberta-large_text_feature_1017</th>\n",
       "      <th>sberbank-ai/ruRoberta-large_text_feature_1018</th>\n",
       "      <th>sberbank-ai/ruRoberta-large_text_feature_1019</th>\n",
       "      <th>sberbank-ai/ruRoberta-large_text_feature_1020</th>\n",
       "      <th>sberbank-ai/ruRoberta-large_text_feature_1021</th>\n",
       "      <th>sberbank-ai/ruRoberta-large_text_feature_1022</th>\n",
       "      <th>sberbank-ai/ruRoberta-large_text_feature_1023</th>\n",
       "    </tr>\n",
       "  </thead>\n",
       "  <tbody>\n",
       "    <tr>\n",
       "      <th>0</th>\n",
       "      <td>extreme</td>\n",
       "      <td>Ледник Пасторури это цирковой ледник расположе...</td>\n",
       "      <td>-0.297709</td>\n",
       "      <td>0.235417</td>\n",
       "      <td>-0.506058</td>\n",
       "      <td>0.004069</td>\n",
       "      <td>0.579705</td>\n",
       "      <td>0.126498</td>\n",
       "      <td>-0.385859</td>\n",
       "      <td>-0.193576</td>\n",
       "      <td>...</td>\n",
       "      <td>0.177381</td>\n",
       "      <td>-0.361036</td>\n",
       "      <td>0.180794</td>\n",
       "      <td>0.098787</td>\n",
       "      <td>0.166444</td>\n",
       "      <td>0.211842</td>\n",
       "      <td>-0.378211</td>\n",
       "      <td>-0.228081</td>\n",
       "      <td>0.112738</td>\n",
       "      <td>0.847715</td>\n",
       "    </tr>\n",
       "  </tbody>\n",
       "</table>\n",
       "<p>1 rows × 1026 columns</p>\n",
       "</div>"
      ],
      "text/plain": [
       "  category                                               text  \\\n",
       "0  extreme  Ледник Пасторури это цирковой ледник расположе...   \n",
       "\n",
       "   sberbank-ai/ruRoberta-large_text_feature_0  \\\n",
       "0                                   -0.297709   \n",
       "\n",
       "   sberbank-ai/ruRoberta-large_text_feature_1  \\\n",
       "0                                    0.235417   \n",
       "\n",
       "   sberbank-ai/ruRoberta-large_text_feature_2  \\\n",
       "0                                   -0.506058   \n",
       "\n",
       "   sberbank-ai/ruRoberta-large_text_feature_3  \\\n",
       "0                                    0.004069   \n",
       "\n",
       "   sberbank-ai/ruRoberta-large_text_feature_4  \\\n",
       "0                                    0.579705   \n",
       "\n",
       "   sberbank-ai/ruRoberta-large_text_feature_5  \\\n",
       "0                                    0.126498   \n",
       "\n",
       "   sberbank-ai/ruRoberta-large_text_feature_6  \\\n",
       "0                                   -0.385859   \n",
       "\n",
       "   sberbank-ai/ruRoberta-large_text_feature_7  ...  \\\n",
       "0                                   -0.193576  ...   \n",
       "\n",
       "   sberbank-ai/ruRoberta-large_text_feature_1014  \\\n",
       "0                                       0.177381   \n",
       "\n",
       "   sberbank-ai/ruRoberta-large_text_feature_1015  \\\n",
       "0                                      -0.361036   \n",
       "\n",
       "   sberbank-ai/ruRoberta-large_text_feature_1016  \\\n",
       "0                                       0.180794   \n",
       "\n",
       "   sberbank-ai/ruRoberta-large_text_feature_1017  \\\n",
       "0                                       0.098787   \n",
       "\n",
       "   sberbank-ai/ruRoberta-large_text_feature_1018  \\\n",
       "0                                       0.166444   \n",
       "\n",
       "   sberbank-ai/ruRoberta-large_text_feature_1019  \\\n",
       "0                                       0.211842   \n",
       "\n",
       "   sberbank-ai/ruRoberta-large_text_feature_1020  \\\n",
       "0                                      -0.378211   \n",
       "\n",
       "   sberbank-ai/ruRoberta-large_text_feature_1021  \\\n",
       "0                                      -0.228081   \n",
       "\n",
       "   sberbank-ai/ruRoberta-large_text_feature_1022  \\\n",
       "0                                       0.112738   \n",
       "\n",
       "   sberbank-ai/ruRoberta-large_text_feature_1023  \n",
       "0                                       0.847715  \n",
       "\n",
       "[1 rows x 1026 columns]"
      ]
     },
     "metadata": {},
     "output_type": "display_data"
    },
    {
     "name": "stdout",
     "output_type": "stream",
     "text": [
      "sberbank-ai/sbert_large_nlu_ru\n"
     ]
    },
    {
     "data": {
      "application/vnd.jupyter.widget-view+json": {
       "model_id": "e497e5fe6b5344b3844213734b1e7aef",
       "version_major": 2,
       "version_minor": 0
      },
      "text/plain": [
       "  0%|          | 0/1 [00:00<?, ?it/s]"
      ]
     },
     "metadata": {},
     "output_type": "display_data"
    },
    {
     "data": {
      "text/html": [
       "<div>\n",
       "<style scoped>\n",
       "    .dataframe tbody tr th:only-of-type {\n",
       "        vertical-align: middle;\n",
       "    }\n",
       "\n",
       "    .dataframe tbody tr th {\n",
       "        vertical-align: top;\n",
       "    }\n",
       "\n",
       "    .dataframe thead th {\n",
       "        text-align: right;\n",
       "    }\n",
       "</style>\n",
       "<table border=\"1\" class=\"dataframe\">\n",
       "  <thead>\n",
       "    <tr style=\"text-align: right;\">\n",
       "      <th></th>\n",
       "      <th>category</th>\n",
       "      <th>text</th>\n",
       "      <th>sberbank-ai/sbert_large_nlu_ru_text_feature_0</th>\n",
       "      <th>sberbank-ai/sbert_large_nlu_ru_text_feature_1</th>\n",
       "      <th>sberbank-ai/sbert_large_nlu_ru_text_feature_2</th>\n",
       "      <th>sberbank-ai/sbert_large_nlu_ru_text_feature_3</th>\n",
       "      <th>sberbank-ai/sbert_large_nlu_ru_text_feature_4</th>\n",
       "      <th>sberbank-ai/sbert_large_nlu_ru_text_feature_5</th>\n",
       "      <th>sberbank-ai/sbert_large_nlu_ru_text_feature_6</th>\n",
       "      <th>sberbank-ai/sbert_large_nlu_ru_text_feature_7</th>\n",
       "      <th>...</th>\n",
       "      <th>sberbank-ai/sbert_large_nlu_ru_text_feature_1014</th>\n",
       "      <th>sberbank-ai/sbert_large_nlu_ru_text_feature_1015</th>\n",
       "      <th>sberbank-ai/sbert_large_nlu_ru_text_feature_1016</th>\n",
       "      <th>sberbank-ai/sbert_large_nlu_ru_text_feature_1017</th>\n",
       "      <th>sberbank-ai/sbert_large_nlu_ru_text_feature_1018</th>\n",
       "      <th>sberbank-ai/sbert_large_nlu_ru_text_feature_1019</th>\n",
       "      <th>sberbank-ai/sbert_large_nlu_ru_text_feature_1020</th>\n",
       "      <th>sberbank-ai/sbert_large_nlu_ru_text_feature_1021</th>\n",
       "      <th>sberbank-ai/sbert_large_nlu_ru_text_feature_1022</th>\n",
       "      <th>sberbank-ai/sbert_large_nlu_ru_text_feature_1023</th>\n",
       "    </tr>\n",
       "  </thead>\n",
       "  <tbody>\n",
       "    <tr>\n",
       "      <th>0</th>\n",
       "      <td>extreme</td>\n",
       "      <td>Ледник Пасторури это цирковой ледник расположе...</td>\n",
       "      <td>0.347409</td>\n",
       "      <td>-0.048205</td>\n",
       "      <td>-0.669208</td>\n",
       "      <td>-0.158887</td>\n",
       "      <td>-0.083748</td>\n",
       "      <td>0.589775</td>\n",
       "      <td>0.246358</td>\n",
       "      <td>0.156766</td>\n",
       "      <td>...</td>\n",
       "      <td>0.145878</td>\n",
       "      <td>-0.083728</td>\n",
       "      <td>0.158489</td>\n",
       "      <td>-0.231062</td>\n",
       "      <td>-0.583284</td>\n",
       "      <td>-0.200041</td>\n",
       "      <td>-0.385793</td>\n",
       "      <td>0.126939</td>\n",
       "      <td>-0.550977</td>\n",
       "      <td>-0.233419</td>\n",
       "    </tr>\n",
       "  </tbody>\n",
       "</table>\n",
       "<p>1 rows × 1026 columns</p>\n",
       "</div>"
      ],
      "text/plain": [
       "  category                                               text  \\\n",
       "0  extreme  Ледник Пасторури это цирковой ледник расположе...   \n",
       "\n",
       "   sberbank-ai/sbert_large_nlu_ru_text_feature_0  \\\n",
       "0                                       0.347409   \n",
       "\n",
       "   sberbank-ai/sbert_large_nlu_ru_text_feature_1  \\\n",
       "0                                      -0.048205   \n",
       "\n",
       "   sberbank-ai/sbert_large_nlu_ru_text_feature_2  \\\n",
       "0                                      -0.669208   \n",
       "\n",
       "   sberbank-ai/sbert_large_nlu_ru_text_feature_3  \\\n",
       "0                                      -0.158887   \n",
       "\n",
       "   sberbank-ai/sbert_large_nlu_ru_text_feature_4  \\\n",
       "0                                      -0.083748   \n",
       "\n",
       "   sberbank-ai/sbert_large_nlu_ru_text_feature_5  \\\n",
       "0                                       0.589775   \n",
       "\n",
       "   sberbank-ai/sbert_large_nlu_ru_text_feature_6  \\\n",
       "0                                       0.246358   \n",
       "\n",
       "   sberbank-ai/sbert_large_nlu_ru_text_feature_7  ...  \\\n",
       "0                                       0.156766  ...   \n",
       "\n",
       "   sberbank-ai/sbert_large_nlu_ru_text_feature_1014  \\\n",
       "0                                          0.145878   \n",
       "\n",
       "   sberbank-ai/sbert_large_nlu_ru_text_feature_1015  \\\n",
       "0                                         -0.083728   \n",
       "\n",
       "   sberbank-ai/sbert_large_nlu_ru_text_feature_1016  \\\n",
       "0                                          0.158489   \n",
       "\n",
       "   sberbank-ai/sbert_large_nlu_ru_text_feature_1017  \\\n",
       "0                                         -0.231062   \n",
       "\n",
       "   sberbank-ai/sbert_large_nlu_ru_text_feature_1018  \\\n",
       "0                                         -0.583284   \n",
       "\n",
       "   sberbank-ai/sbert_large_nlu_ru_text_feature_1019  \\\n",
       "0                                         -0.200041   \n",
       "\n",
       "   sberbank-ai/sbert_large_nlu_ru_text_feature_1020  \\\n",
       "0                                         -0.385793   \n",
       "\n",
       "   sberbank-ai/sbert_large_nlu_ru_text_feature_1021  \\\n",
       "0                                          0.126939   \n",
       "\n",
       "   sberbank-ai/sbert_large_nlu_ru_text_feature_1022  \\\n",
       "0                                         -0.550977   \n",
       "\n",
       "   sberbank-ai/sbert_large_nlu_ru_text_feature_1023  \n",
       "0                                         -0.233419  \n",
       "\n",
       "[1 rows x 1026 columns]"
      ]
     },
     "metadata": {},
     "output_type": "display_data"
    },
    {
     "name": "stdout",
     "output_type": "stream",
     "text": [
      "sberbank-ai/sbert_large_mt_nlu_ru\n"
     ]
    },
    {
     "data": {
      "application/vnd.jupyter.widget-view+json": {
       "model_id": "c4aa5c67b72c4a2bb8e84cafdb2f9c5f",
       "version_major": 2,
       "version_minor": 0
      },
      "text/plain": [
       "  0%|          | 0/1 [00:00<?, ?it/s]"
      ]
     },
     "metadata": {},
     "output_type": "display_data"
    },
    {
     "data": {
      "text/html": [
       "<div>\n",
       "<style scoped>\n",
       "    .dataframe tbody tr th:only-of-type {\n",
       "        vertical-align: middle;\n",
       "    }\n",
       "\n",
       "    .dataframe tbody tr th {\n",
       "        vertical-align: top;\n",
       "    }\n",
       "\n",
       "    .dataframe thead th {\n",
       "        text-align: right;\n",
       "    }\n",
       "</style>\n",
       "<table border=\"1\" class=\"dataframe\">\n",
       "  <thead>\n",
       "    <tr style=\"text-align: right;\">\n",
       "      <th></th>\n",
       "      <th>category</th>\n",
       "      <th>text</th>\n",
       "      <th>sberbank-ai/sbert_large_mt_nlu_ru_text_feature_0</th>\n",
       "      <th>sberbank-ai/sbert_large_mt_nlu_ru_text_feature_1</th>\n",
       "      <th>sberbank-ai/sbert_large_mt_nlu_ru_text_feature_2</th>\n",
       "      <th>sberbank-ai/sbert_large_mt_nlu_ru_text_feature_3</th>\n",
       "      <th>sberbank-ai/sbert_large_mt_nlu_ru_text_feature_4</th>\n",
       "      <th>sberbank-ai/sbert_large_mt_nlu_ru_text_feature_5</th>\n",
       "      <th>sberbank-ai/sbert_large_mt_nlu_ru_text_feature_6</th>\n",
       "      <th>sberbank-ai/sbert_large_mt_nlu_ru_text_feature_7</th>\n",
       "      <th>...</th>\n",
       "      <th>sberbank-ai/sbert_large_mt_nlu_ru_text_feature_1014</th>\n",
       "      <th>sberbank-ai/sbert_large_mt_nlu_ru_text_feature_1015</th>\n",
       "      <th>sberbank-ai/sbert_large_mt_nlu_ru_text_feature_1016</th>\n",
       "      <th>sberbank-ai/sbert_large_mt_nlu_ru_text_feature_1017</th>\n",
       "      <th>sberbank-ai/sbert_large_mt_nlu_ru_text_feature_1018</th>\n",
       "      <th>sberbank-ai/sbert_large_mt_nlu_ru_text_feature_1019</th>\n",
       "      <th>sberbank-ai/sbert_large_mt_nlu_ru_text_feature_1020</th>\n",
       "      <th>sberbank-ai/sbert_large_mt_nlu_ru_text_feature_1021</th>\n",
       "      <th>sberbank-ai/sbert_large_mt_nlu_ru_text_feature_1022</th>\n",
       "      <th>sberbank-ai/sbert_large_mt_nlu_ru_text_feature_1023</th>\n",
       "    </tr>\n",
       "  </thead>\n",
       "  <tbody>\n",
       "    <tr>\n",
       "      <th>0</th>\n",
       "      <td>extreme</td>\n",
       "      <td>Ледник Пасторури это цирковой ледник расположе...</td>\n",
       "      <td>0.461964</td>\n",
       "      <td>-0.206542</td>\n",
       "      <td>-0.68977</td>\n",
       "      <td>0.025292</td>\n",
       "      <td>-0.086468</td>\n",
       "      <td>0.754107</td>\n",
       "      <td>-0.039861</td>\n",
       "      <td>0.319692</td>\n",
       "      <td>...</td>\n",
       "      <td>0.04264</td>\n",
       "      <td>-0.14949</td>\n",
       "      <td>0.23969</td>\n",
       "      <td>-0.22654</td>\n",
       "      <td>-0.338808</td>\n",
       "      <td>-0.105256</td>\n",
       "      <td>-0.368561</td>\n",
       "      <td>0.092168</td>\n",
       "      <td>0.29101</td>\n",
       "      <td>-0.214342</td>\n",
       "    </tr>\n",
       "  </tbody>\n",
       "</table>\n",
       "<p>1 rows × 1026 columns</p>\n",
       "</div>"
      ],
      "text/plain": [
       "  category                                               text  \\\n",
       "0  extreme  Ледник Пасторури это цирковой ледник расположе...   \n",
       "\n",
       "   sberbank-ai/sbert_large_mt_nlu_ru_text_feature_0  \\\n",
       "0                                          0.461964   \n",
       "\n",
       "   sberbank-ai/sbert_large_mt_nlu_ru_text_feature_1  \\\n",
       "0                                         -0.206542   \n",
       "\n",
       "   sberbank-ai/sbert_large_mt_nlu_ru_text_feature_2  \\\n",
       "0                                          -0.68977   \n",
       "\n",
       "   sberbank-ai/sbert_large_mt_nlu_ru_text_feature_3  \\\n",
       "0                                          0.025292   \n",
       "\n",
       "   sberbank-ai/sbert_large_mt_nlu_ru_text_feature_4  \\\n",
       "0                                         -0.086468   \n",
       "\n",
       "   sberbank-ai/sbert_large_mt_nlu_ru_text_feature_5  \\\n",
       "0                                          0.754107   \n",
       "\n",
       "   sberbank-ai/sbert_large_mt_nlu_ru_text_feature_6  \\\n",
       "0                                         -0.039861   \n",
       "\n",
       "   sberbank-ai/sbert_large_mt_nlu_ru_text_feature_7  ...  \\\n",
       "0                                          0.319692  ...   \n",
       "\n",
       "   sberbank-ai/sbert_large_mt_nlu_ru_text_feature_1014  \\\n",
       "0                                            0.04264     \n",
       "\n",
       "   sberbank-ai/sbert_large_mt_nlu_ru_text_feature_1015  \\\n",
       "0                                           -0.14949     \n",
       "\n",
       "   sberbank-ai/sbert_large_mt_nlu_ru_text_feature_1016  \\\n",
       "0                                            0.23969     \n",
       "\n",
       "   sberbank-ai/sbert_large_mt_nlu_ru_text_feature_1017  \\\n",
       "0                                           -0.22654     \n",
       "\n",
       "   sberbank-ai/sbert_large_mt_nlu_ru_text_feature_1018  \\\n",
       "0                                          -0.338808     \n",
       "\n",
       "   sberbank-ai/sbert_large_mt_nlu_ru_text_feature_1019  \\\n",
       "0                                          -0.105256     \n",
       "\n",
       "   sberbank-ai/sbert_large_mt_nlu_ru_text_feature_1020  \\\n",
       "0                                          -0.368561     \n",
       "\n",
       "   sberbank-ai/sbert_large_mt_nlu_ru_text_feature_1021  \\\n",
       "0                                           0.092168     \n",
       "\n",
       "   sberbank-ai/sbert_large_mt_nlu_ru_text_feature_1022  \\\n",
       "0                                            0.29101     \n",
       "\n",
       "   sberbank-ai/sbert_large_mt_nlu_ru_text_feature_1023  \n",
       "0                                          -0.214342    \n",
       "\n",
       "[1 rows x 1026 columns]"
      ]
     },
     "metadata": {},
     "output_type": "display_data"
    },
    {
     "name": "stdout",
     "output_type": "stream",
     "text": [
      "sberbank-ai/ruBert-large\n"
     ]
    },
    {
     "data": {
      "application/vnd.jupyter.widget-view+json": {
       "model_id": "a1db0fc01c674d00a88f8591b5b0f6e3",
       "version_major": 2,
       "version_minor": 0
      },
      "text/plain": [
       "  0%|          | 0/1 [00:00<?, ?it/s]"
      ]
     },
     "metadata": {},
     "output_type": "display_data"
    },
    {
     "data": {
      "text/html": [
       "<div>\n",
       "<style scoped>\n",
       "    .dataframe tbody tr th:only-of-type {\n",
       "        vertical-align: middle;\n",
       "    }\n",
       "\n",
       "    .dataframe tbody tr th {\n",
       "        vertical-align: top;\n",
       "    }\n",
       "\n",
       "    .dataframe thead th {\n",
       "        text-align: right;\n",
       "    }\n",
       "</style>\n",
       "<table border=\"1\" class=\"dataframe\">\n",
       "  <thead>\n",
       "    <tr style=\"text-align: right;\">\n",
       "      <th></th>\n",
       "      <th>category</th>\n",
       "      <th>text</th>\n",
       "      <th>sberbank-ai/ruBert-large_text_feature_0</th>\n",
       "      <th>sberbank-ai/ruBert-large_text_feature_1</th>\n",
       "      <th>sberbank-ai/ruBert-large_text_feature_2</th>\n",
       "      <th>sberbank-ai/ruBert-large_text_feature_3</th>\n",
       "      <th>sberbank-ai/ruBert-large_text_feature_4</th>\n",
       "      <th>sberbank-ai/ruBert-large_text_feature_5</th>\n",
       "      <th>sberbank-ai/ruBert-large_text_feature_6</th>\n",
       "      <th>sberbank-ai/ruBert-large_text_feature_7</th>\n",
       "      <th>...</th>\n",
       "      <th>sberbank-ai/ruBert-large_text_feature_1014</th>\n",
       "      <th>sberbank-ai/ruBert-large_text_feature_1015</th>\n",
       "      <th>sberbank-ai/ruBert-large_text_feature_1016</th>\n",
       "      <th>sberbank-ai/ruBert-large_text_feature_1017</th>\n",
       "      <th>sberbank-ai/ruBert-large_text_feature_1018</th>\n",
       "      <th>sberbank-ai/ruBert-large_text_feature_1019</th>\n",
       "      <th>sberbank-ai/ruBert-large_text_feature_1020</th>\n",
       "      <th>sberbank-ai/ruBert-large_text_feature_1021</th>\n",
       "      <th>sberbank-ai/ruBert-large_text_feature_1022</th>\n",
       "      <th>sberbank-ai/ruBert-large_text_feature_1023</th>\n",
       "    </tr>\n",
       "  </thead>\n",
       "  <tbody>\n",
       "    <tr>\n",
       "      <th>0</th>\n",
       "      <td>extreme</td>\n",
       "      <td>Ледник Пасторури это цирковой ледник расположе...</td>\n",
       "      <td>0.685256</td>\n",
       "      <td>0.138065</td>\n",
       "      <td>-0.816772</td>\n",
       "      <td>-0.024534</td>\n",
       "      <td>0.168912</td>\n",
       "      <td>0.046213</td>\n",
       "      <td>0.124235</td>\n",
       "      <td>-0.072823</td>\n",
       "      <td>...</td>\n",
       "      <td>0.012156</td>\n",
       "      <td>0.042902</td>\n",
       "      <td>-0.017649</td>\n",
       "      <td>-0.268881</td>\n",
       "      <td>-0.795592</td>\n",
       "      <td>-0.189305</td>\n",
       "      <td>-0.248218</td>\n",
       "      <td>-0.117341</td>\n",
       "      <td>0.310468</td>\n",
       "      <td>-0.009446</td>\n",
       "    </tr>\n",
       "  </tbody>\n",
       "</table>\n",
       "<p>1 rows × 1026 columns</p>\n",
       "</div>"
      ],
      "text/plain": [
       "  category                                               text  \\\n",
       "0  extreme  Ледник Пасторури это цирковой ледник расположе...   \n",
       "\n",
       "   sberbank-ai/ruBert-large_text_feature_0  \\\n",
       "0                                 0.685256   \n",
       "\n",
       "   sberbank-ai/ruBert-large_text_feature_1  \\\n",
       "0                                 0.138065   \n",
       "\n",
       "   sberbank-ai/ruBert-large_text_feature_2  \\\n",
       "0                                -0.816772   \n",
       "\n",
       "   sberbank-ai/ruBert-large_text_feature_3  \\\n",
       "0                                -0.024534   \n",
       "\n",
       "   sberbank-ai/ruBert-large_text_feature_4  \\\n",
       "0                                 0.168912   \n",
       "\n",
       "   sberbank-ai/ruBert-large_text_feature_5  \\\n",
       "0                                 0.046213   \n",
       "\n",
       "   sberbank-ai/ruBert-large_text_feature_6  \\\n",
       "0                                 0.124235   \n",
       "\n",
       "   sberbank-ai/ruBert-large_text_feature_7  ...  \\\n",
       "0                                -0.072823  ...   \n",
       "\n",
       "   sberbank-ai/ruBert-large_text_feature_1014  \\\n",
       "0                                    0.012156   \n",
       "\n",
       "   sberbank-ai/ruBert-large_text_feature_1015  \\\n",
       "0                                    0.042902   \n",
       "\n",
       "   sberbank-ai/ruBert-large_text_feature_1016  \\\n",
       "0                                   -0.017649   \n",
       "\n",
       "   sberbank-ai/ruBert-large_text_feature_1017  \\\n",
       "0                                   -0.268881   \n",
       "\n",
       "   sberbank-ai/ruBert-large_text_feature_1018  \\\n",
       "0                                   -0.795592   \n",
       "\n",
       "   sberbank-ai/ruBert-large_text_feature_1019  \\\n",
       "0                                   -0.189305   \n",
       "\n",
       "   sberbank-ai/ruBert-large_text_feature_1020  \\\n",
       "0                                   -0.248218   \n",
       "\n",
       "   sberbank-ai/ruBert-large_text_feature_1021  \\\n",
       "0                                   -0.117341   \n",
       "\n",
       "   sberbank-ai/ruBert-large_text_feature_1022  \\\n",
       "0                                    0.310468   \n",
       "\n",
       "   sberbank-ai/ruBert-large_text_feature_1023  \n",
       "0                                   -0.009446  \n",
       "\n",
       "[1 rows x 1026 columns]"
      ]
     },
     "metadata": {},
     "output_type": "display_data"
    },
    {
     "name": "stdout",
     "output_type": "stream",
     "text": [
      "vicgalle/xlm-roberta-large-xnli-anli\n"
     ]
    },
    {
     "name": "stderr",
     "output_type": "stream",
     "text": [
      "Some weights of XLMRobertaModel were not initialized from the model checkpoint at vicgalle/xlm-roberta-large-xnli-anli and are newly initialized: ['roberta.pooler.dense.bias', 'roberta.pooler.dense.weight']\n",
      "You should probably TRAIN this model on a down-stream task to be able to use it for predictions and inference.\n"
     ]
    },
    {
     "data": {
      "application/vnd.jupyter.widget-view+json": {
       "model_id": "0a382f8b1de14681906deee6d161a29b",
       "version_major": 2,
       "version_minor": 0
      },
      "text/plain": [
       "  0%|          | 0/1 [00:00<?, ?it/s]"
      ]
     },
     "metadata": {},
     "output_type": "display_data"
    },
    {
     "data": {
      "text/html": [
       "<div>\n",
       "<style scoped>\n",
       "    .dataframe tbody tr th:only-of-type {\n",
       "        vertical-align: middle;\n",
       "    }\n",
       "\n",
       "    .dataframe tbody tr th {\n",
       "        vertical-align: top;\n",
       "    }\n",
       "\n",
       "    .dataframe thead th {\n",
       "        text-align: right;\n",
       "    }\n",
       "</style>\n",
       "<table border=\"1\" class=\"dataframe\">\n",
       "  <thead>\n",
       "    <tr style=\"text-align: right;\">\n",
       "      <th></th>\n",
       "      <th>category</th>\n",
       "      <th>text</th>\n",
       "      <th>vicgalle/xlm-roberta-large-xnli-anli_text_feature_0</th>\n",
       "      <th>vicgalle/xlm-roberta-large-xnli-anli_text_feature_1</th>\n",
       "      <th>vicgalle/xlm-roberta-large-xnli-anli_text_feature_2</th>\n",
       "      <th>vicgalle/xlm-roberta-large-xnli-anli_text_feature_3</th>\n",
       "      <th>vicgalle/xlm-roberta-large-xnli-anli_text_feature_4</th>\n",
       "      <th>vicgalle/xlm-roberta-large-xnli-anli_text_feature_5</th>\n",
       "      <th>vicgalle/xlm-roberta-large-xnli-anli_text_feature_6</th>\n",
       "      <th>vicgalle/xlm-roberta-large-xnli-anli_text_feature_7</th>\n",
       "      <th>...</th>\n",
       "      <th>vicgalle/xlm-roberta-large-xnli-anli_text_feature_1014</th>\n",
       "      <th>vicgalle/xlm-roberta-large-xnli-anli_text_feature_1015</th>\n",
       "      <th>vicgalle/xlm-roberta-large-xnli-anli_text_feature_1016</th>\n",
       "      <th>vicgalle/xlm-roberta-large-xnli-anli_text_feature_1017</th>\n",
       "      <th>vicgalle/xlm-roberta-large-xnli-anli_text_feature_1018</th>\n",
       "      <th>vicgalle/xlm-roberta-large-xnli-anli_text_feature_1019</th>\n",
       "      <th>vicgalle/xlm-roberta-large-xnli-anli_text_feature_1020</th>\n",
       "      <th>vicgalle/xlm-roberta-large-xnli-anli_text_feature_1021</th>\n",
       "      <th>vicgalle/xlm-roberta-large-xnli-anli_text_feature_1022</th>\n",
       "      <th>vicgalle/xlm-roberta-large-xnli-anli_text_feature_1023</th>\n",
       "    </tr>\n",
       "  </thead>\n",
       "  <tbody>\n",
       "    <tr>\n",
       "      <th>0</th>\n",
       "      <td>extreme</td>\n",
       "      <td>Ледник Пасторури это цирковой ледник расположе...</td>\n",
       "      <td>0.159746</td>\n",
       "      <td>0.261897</td>\n",
       "      <td>-0.229278</td>\n",
       "      <td>-0.155079</td>\n",
       "      <td>-0.71902</td>\n",
       "      <td>-0.50586</td>\n",
       "      <td>-0.525603</td>\n",
       "      <td>0.298841</td>\n",
       "      <td>...</td>\n",
       "      <td>0.536427</td>\n",
       "      <td>-0.121498</td>\n",
       "      <td>0.482937</td>\n",
       "      <td>-0.906698</td>\n",
       "      <td>-0.673889</td>\n",
       "      <td>0.835474</td>\n",
       "      <td>-0.929037</td>\n",
       "      <td>0.425161</td>\n",
       "      <td>0.244952</td>\n",
       "      <td>0.666885</td>\n",
       "    </tr>\n",
       "  </tbody>\n",
       "</table>\n",
       "<p>1 rows × 1026 columns</p>\n",
       "</div>"
      ],
      "text/plain": [
       "  category                                               text  \\\n",
       "0  extreme  Ледник Пасторури это цирковой ледник расположе...   \n",
       "\n",
       "   vicgalle/xlm-roberta-large-xnli-anli_text_feature_0  \\\n",
       "0                                           0.159746     \n",
       "\n",
       "   vicgalle/xlm-roberta-large-xnli-anli_text_feature_1  \\\n",
       "0                                           0.261897     \n",
       "\n",
       "   vicgalle/xlm-roberta-large-xnli-anli_text_feature_2  \\\n",
       "0                                          -0.229278     \n",
       "\n",
       "   vicgalle/xlm-roberta-large-xnli-anli_text_feature_3  \\\n",
       "0                                          -0.155079     \n",
       "\n",
       "   vicgalle/xlm-roberta-large-xnli-anli_text_feature_4  \\\n",
       "0                                           -0.71902     \n",
       "\n",
       "   vicgalle/xlm-roberta-large-xnli-anli_text_feature_5  \\\n",
       "0                                           -0.50586     \n",
       "\n",
       "   vicgalle/xlm-roberta-large-xnli-anli_text_feature_6  \\\n",
       "0                                          -0.525603     \n",
       "\n",
       "   vicgalle/xlm-roberta-large-xnli-anli_text_feature_7  ...  \\\n",
       "0                                           0.298841    ...   \n",
       "\n",
       "   vicgalle/xlm-roberta-large-xnli-anli_text_feature_1014  \\\n",
       "0                                           0.536427        \n",
       "\n",
       "   vicgalle/xlm-roberta-large-xnli-anli_text_feature_1015  \\\n",
       "0                                          -0.121498        \n",
       "\n",
       "   vicgalle/xlm-roberta-large-xnli-anli_text_feature_1016  \\\n",
       "0                                           0.482937        \n",
       "\n",
       "   vicgalle/xlm-roberta-large-xnli-anli_text_feature_1017  \\\n",
       "0                                          -0.906698        \n",
       "\n",
       "   vicgalle/xlm-roberta-large-xnli-anli_text_feature_1018  \\\n",
       "0                                          -0.673889        \n",
       "\n",
       "   vicgalle/xlm-roberta-large-xnli-anli_text_feature_1019  \\\n",
       "0                                           0.835474        \n",
       "\n",
       "   vicgalle/xlm-roberta-large-xnli-anli_text_feature_1020  \\\n",
       "0                                          -0.929037        \n",
       "\n",
       "   vicgalle/xlm-roberta-large-xnli-anli_text_feature_1021  \\\n",
       "0                                           0.425161        \n",
       "\n",
       "   vicgalle/xlm-roberta-large-xnli-anli_text_feature_1022  \\\n",
       "0                                           0.244952        \n",
       "\n",
       "   vicgalle/xlm-roberta-large-xnli-anli_text_feature_1023  \n",
       "0                                           0.666885       \n",
       "\n",
       "[1 rows x 1026 columns]"
      ]
     },
     "metadata": {},
     "output_type": "display_data"
    }
   ],
   "source": [
    "# Полный список поддерживаемых моделей можно найти на https://huggingface.co/models\n",
    "\n",
    "models = [\n",
    "          ('sberbank-ai/ruBert-base', 512),\n",
    "          ('cointegrated/rubert-tiny2', 2048),\n",
    "          ('DeepPavlov/rubert-base-cased-conversational', 512),\n",
    "          ('sentence-transformers/LaBSE', 512),\n",
    "          ('cointegrated/LaBSE-en-ru', 512),\n",
    "           ('sberbank-ai/ruRoberta-large', 512),\n",
    "           ('sberbank-ai/sbert_large_nlu_ru', 512),\n",
    "           ('sberbank-ai/sbert_large_mt_nlu_ru', 512),\n",
    "           ('sberbank-ai/ruBert-large', 512),\n",
    "          \n",
    "\n",
    "          \n",
    "           #('microsoft/mdeberta-v3-base', 512),\n",
    "           ('vicgalle/xlm-roberta-large-xnli-anli', 512),\n",
    "           #('MoritzLaurer/mDeBERTa-v3-base-mnli-xnli', 512),\n",
    "           #('facebook/bart-large-mnli', 1024)\n",
    "]\n",
    "for model in models:\n",
    "    text_embeddings = TextEmbeddings(True, False)\n",
    "    tmp = text_embeddings.add_many_embeddings(train.iloc[[0]], 'text', [model])\n",
    "    display(tmp)"
   ]
  },
  {
   "cell_type": "code",
   "execution_count": 119,
   "metadata": {},
   "outputs": [
    {
     "name": "stdout",
     "output_type": "stream",
     "text": [
      "sberbank-ai/ruBert-base\n"
     ]
    },
    {
     "data": {
      "application/vnd.jupyter.widget-view+json": {
       "model_id": "a50f751d44124c4eaf8c86c0663bf8d3",
       "version_major": 2,
       "version_minor": 0
      },
      "text/plain": [
       "  0%|          | 0/1 [00:00<?, ?it/s]"
      ]
     },
     "metadata": {},
     "output_type": "display_data"
    },
    {
     "data": {
      "text/html": [
       "<div>\n",
       "<style scoped>\n",
       "    .dataframe tbody tr th:only-of-type {\n",
       "        vertical-align: middle;\n",
       "    }\n",
       "\n",
       "    .dataframe tbody tr th {\n",
       "        vertical-align: top;\n",
       "    }\n",
       "\n",
       "    .dataframe thead th {\n",
       "        text-align: right;\n",
       "    }\n",
       "</style>\n",
       "<table border=\"1\" class=\"dataframe\">\n",
       "  <thead>\n",
       "    <tr style=\"text-align: right;\">\n",
       "      <th></th>\n",
       "      <th>category</th>\n",
       "      <th>text</th>\n",
       "      <th>sberbank-ai/ruBert-base_text_feature_0</th>\n",
       "      <th>sberbank-ai/ruBert-base_text_feature_1</th>\n",
       "      <th>sberbank-ai/ruBert-base_text_feature_2</th>\n",
       "      <th>sberbank-ai/ruBert-base_text_feature_3</th>\n",
       "      <th>sberbank-ai/ruBert-base_text_feature_4</th>\n",
       "      <th>sberbank-ai/ruBert-base_text_feature_5</th>\n",
       "      <th>sberbank-ai/ruBert-base_text_feature_6</th>\n",
       "      <th>sberbank-ai/ruBert-base_text_feature_7</th>\n",
       "      <th>...</th>\n",
       "      <th>sberbank-ai/ruBert-base_text_feature_758</th>\n",
       "      <th>sberbank-ai/ruBert-base_text_feature_759</th>\n",
       "      <th>sberbank-ai/ruBert-base_text_feature_760</th>\n",
       "      <th>sberbank-ai/ruBert-base_text_feature_761</th>\n",
       "      <th>sberbank-ai/ruBert-base_text_feature_762</th>\n",
       "      <th>sberbank-ai/ruBert-base_text_feature_763</th>\n",
       "      <th>sberbank-ai/ruBert-base_text_feature_764</th>\n",
       "      <th>sberbank-ai/ruBert-base_text_feature_765</th>\n",
       "      <th>sberbank-ai/ruBert-base_text_feature_766</th>\n",
       "      <th>sberbank-ai/ruBert-base_text_feature_767</th>\n",
       "    </tr>\n",
       "  </thead>\n",
       "  <tbody>\n",
       "    <tr>\n",
       "      <th>0</th>\n",
       "      <td>extreme</td>\n",
       "      <td>Ледник Пасторури это цирковой ледник расположе...</td>\n",
       "      <td>0.272157</td>\n",
       "      <td>0.155383</td>\n",
       "      <td>0.060286</td>\n",
       "      <td>0.363159</td>\n",
       "      <td>-0.140392</td>\n",
       "      <td>0.507753</td>\n",
       "      <td>-0.226326</td>\n",
       "      <td>0.431879</td>\n",
       "      <td>...</td>\n",
       "      <td>-0.092746</td>\n",
       "      <td>-0.320734</td>\n",
       "      <td>-0.527221</td>\n",
       "      <td>0.346372</td>\n",
       "      <td>-0.371591</td>\n",
       "      <td>0.084271</td>\n",
       "      <td>0.122088</td>\n",
       "      <td>0.002221</td>\n",
       "      <td>-0.000357</td>\n",
       "      <td>-0.124441</td>\n",
       "    </tr>\n",
       "  </tbody>\n",
       "</table>\n",
       "<p>1 rows × 770 columns</p>\n",
       "</div>"
      ],
      "text/plain": [
       "  category                                               text  \\\n",
       "0  extreme  Ледник Пасторури это цирковой ледник расположе...   \n",
       "\n",
       "   sberbank-ai/ruBert-base_text_feature_0  \\\n",
       "0                                0.272157   \n",
       "\n",
       "   sberbank-ai/ruBert-base_text_feature_1  \\\n",
       "0                                0.155383   \n",
       "\n",
       "   sberbank-ai/ruBert-base_text_feature_2  \\\n",
       "0                                0.060286   \n",
       "\n",
       "   sberbank-ai/ruBert-base_text_feature_3  \\\n",
       "0                                0.363159   \n",
       "\n",
       "   sberbank-ai/ruBert-base_text_feature_4  \\\n",
       "0                               -0.140392   \n",
       "\n",
       "   sberbank-ai/ruBert-base_text_feature_5  \\\n",
       "0                                0.507753   \n",
       "\n",
       "   sberbank-ai/ruBert-base_text_feature_6  \\\n",
       "0                               -0.226326   \n",
       "\n",
       "   sberbank-ai/ruBert-base_text_feature_7  ...  \\\n",
       "0                                0.431879  ...   \n",
       "\n",
       "   sberbank-ai/ruBert-base_text_feature_758  \\\n",
       "0                                 -0.092746   \n",
       "\n",
       "   sberbank-ai/ruBert-base_text_feature_759  \\\n",
       "0                                 -0.320734   \n",
       "\n",
       "   sberbank-ai/ruBert-base_text_feature_760  \\\n",
       "0                                 -0.527221   \n",
       "\n",
       "   sberbank-ai/ruBert-base_text_feature_761  \\\n",
       "0                                  0.346372   \n",
       "\n",
       "   sberbank-ai/ruBert-base_text_feature_762  \\\n",
       "0                                 -0.371591   \n",
       "\n",
       "   sberbank-ai/ruBert-base_text_feature_763  \\\n",
       "0                                  0.084271   \n",
       "\n",
       "   sberbank-ai/ruBert-base_text_feature_764  \\\n",
       "0                                  0.122088   \n",
       "\n",
       "   sberbank-ai/ruBert-base_text_feature_765  \\\n",
       "0                                  0.002221   \n",
       "\n",
       "   sberbank-ai/ruBert-base_text_feature_766  \\\n",
       "0                                 -0.000357   \n",
       "\n",
       "   sberbank-ai/ruBert-base_text_feature_767  \n",
       "0                                 -0.124441  \n",
       "\n",
       "[1 rows x 770 columns]"
      ]
     },
     "metadata": {},
     "output_type": "display_data"
    },
    {
     "name": "stdout",
     "output_type": "stream",
     "text": [
      "cointegrated/rubert-tiny2\n"
     ]
    },
    {
     "data": {
      "application/vnd.jupyter.widget-view+json": {
       "model_id": "49f30fe9bca34494a48d0af2b1ed2138",
       "version_major": 2,
       "version_minor": 0
      },
      "text/plain": [
       "  0%|          | 0/1 [00:00<?, ?it/s]"
      ]
     },
     "metadata": {},
     "output_type": "display_data"
    },
    {
     "data": {
      "text/html": [
       "<div>\n",
       "<style scoped>\n",
       "    .dataframe tbody tr th:only-of-type {\n",
       "        vertical-align: middle;\n",
       "    }\n",
       "\n",
       "    .dataframe tbody tr th {\n",
       "        vertical-align: top;\n",
       "    }\n",
       "\n",
       "    .dataframe thead th {\n",
       "        text-align: right;\n",
       "    }\n",
       "</style>\n",
       "<table border=\"1\" class=\"dataframe\">\n",
       "  <thead>\n",
       "    <tr style=\"text-align: right;\">\n",
       "      <th></th>\n",
       "      <th>category</th>\n",
       "      <th>text</th>\n",
       "      <th>cointegrated/rubert-tiny2_text_feature_0</th>\n",
       "      <th>cointegrated/rubert-tiny2_text_feature_1</th>\n",
       "      <th>cointegrated/rubert-tiny2_text_feature_2</th>\n",
       "      <th>cointegrated/rubert-tiny2_text_feature_3</th>\n",
       "      <th>cointegrated/rubert-tiny2_text_feature_4</th>\n",
       "      <th>cointegrated/rubert-tiny2_text_feature_5</th>\n",
       "      <th>cointegrated/rubert-tiny2_text_feature_6</th>\n",
       "      <th>cointegrated/rubert-tiny2_text_feature_7</th>\n",
       "      <th>...</th>\n",
       "      <th>cointegrated/rubert-tiny2_text_feature_302</th>\n",
       "      <th>cointegrated/rubert-tiny2_text_feature_303</th>\n",
       "      <th>cointegrated/rubert-tiny2_text_feature_304</th>\n",
       "      <th>cointegrated/rubert-tiny2_text_feature_305</th>\n",
       "      <th>cointegrated/rubert-tiny2_text_feature_306</th>\n",
       "      <th>cointegrated/rubert-tiny2_text_feature_307</th>\n",
       "      <th>cointegrated/rubert-tiny2_text_feature_308</th>\n",
       "      <th>cointegrated/rubert-tiny2_text_feature_309</th>\n",
       "      <th>cointegrated/rubert-tiny2_text_feature_310</th>\n",
       "      <th>cointegrated/rubert-tiny2_text_feature_311</th>\n",
       "    </tr>\n",
       "  </thead>\n",
       "  <tbody>\n",
       "    <tr>\n",
       "      <th>0</th>\n",
       "      <td>extreme</td>\n",
       "      <td>Ледник Пасторури это цирковой ледник расположе...</td>\n",
       "      <td>-0.27044</td>\n",
       "      <td>0.125625</td>\n",
       "      <td>0.274958</td>\n",
       "      <td>-1.458632</td>\n",
       "      <td>-0.325684</td>\n",
       "      <td>0.209481</td>\n",
       "      <td>-0.538193</td>\n",
       "      <td>-0.294977</td>\n",
       "      <td>...</td>\n",
       "      <td>-0.217944</td>\n",
       "      <td>0.007775</td>\n",
       "      <td>0.097263</td>\n",
       "      <td>-0.46204</td>\n",
       "      <td>0.001138</td>\n",
       "      <td>-0.718393</td>\n",
       "      <td>0.212273</td>\n",
       "      <td>-0.482992</td>\n",
       "      <td>0.359072</td>\n",
       "      <td>-1.07429</td>\n",
       "    </tr>\n",
       "  </tbody>\n",
       "</table>\n",
       "<p>1 rows × 314 columns</p>\n",
       "</div>"
      ],
      "text/plain": [
       "  category                                               text  \\\n",
       "0  extreme  Ледник Пасторури это цирковой ледник расположе...   \n",
       "\n",
       "   cointegrated/rubert-tiny2_text_feature_0  \\\n",
       "0                                  -0.27044   \n",
       "\n",
       "   cointegrated/rubert-tiny2_text_feature_1  \\\n",
       "0                                  0.125625   \n",
       "\n",
       "   cointegrated/rubert-tiny2_text_feature_2  \\\n",
       "0                                  0.274958   \n",
       "\n",
       "   cointegrated/rubert-tiny2_text_feature_3  \\\n",
       "0                                 -1.458632   \n",
       "\n",
       "   cointegrated/rubert-tiny2_text_feature_4  \\\n",
       "0                                 -0.325684   \n",
       "\n",
       "   cointegrated/rubert-tiny2_text_feature_5  \\\n",
       "0                                  0.209481   \n",
       "\n",
       "   cointegrated/rubert-tiny2_text_feature_6  \\\n",
       "0                                 -0.538193   \n",
       "\n",
       "   cointegrated/rubert-tiny2_text_feature_7  ...  \\\n",
       "0                                 -0.294977  ...   \n",
       "\n",
       "   cointegrated/rubert-tiny2_text_feature_302  \\\n",
       "0                                   -0.217944   \n",
       "\n",
       "   cointegrated/rubert-tiny2_text_feature_303  \\\n",
       "0                                    0.007775   \n",
       "\n",
       "   cointegrated/rubert-tiny2_text_feature_304  \\\n",
       "0                                    0.097263   \n",
       "\n",
       "   cointegrated/rubert-tiny2_text_feature_305  \\\n",
       "0                                    -0.46204   \n",
       "\n",
       "   cointegrated/rubert-tiny2_text_feature_306  \\\n",
       "0                                    0.001138   \n",
       "\n",
       "   cointegrated/rubert-tiny2_text_feature_307  \\\n",
       "0                                   -0.718393   \n",
       "\n",
       "   cointegrated/rubert-tiny2_text_feature_308  \\\n",
       "0                                    0.212273   \n",
       "\n",
       "   cointegrated/rubert-tiny2_text_feature_309  \\\n",
       "0                                   -0.482992   \n",
       "\n",
       "   cointegrated/rubert-tiny2_text_feature_310  \\\n",
       "0                                    0.359072   \n",
       "\n",
       "   cointegrated/rubert-tiny2_text_feature_311  \n",
       "0                                    -1.07429  \n",
       "\n",
       "[1 rows x 314 columns]"
      ]
     },
     "metadata": {},
     "output_type": "display_data"
    },
    {
     "name": "stdout",
     "output_type": "stream",
     "text": [
      "DeepPavlov/rubert-base-cased-conversational\n"
     ]
    },
    {
     "name": "stderr",
     "output_type": "stream",
     "text": [
      "Some weights of the model checkpoint at DeepPavlov/rubert-base-cased-conversational were not used when initializing BertModel: ['cls.predictions.bias', 'cls.predictions.decoder.bias', 'cls.predictions.decoder.weight', 'cls.predictions.transform.LayerNorm.bias', 'cls.predictions.transform.LayerNorm.weight', 'cls.predictions.transform.dense.bias', 'cls.predictions.transform.dense.weight', 'cls.seq_relationship.bias', 'cls.seq_relationship.weight']\n",
      "- This IS expected if you are initializing BertModel from the checkpoint of a model trained on another task or with another architecture (e.g. initializing a BertForSequenceClassification model from a BertForPreTraining model).\n",
      "- This IS NOT expected if you are initializing BertModel from the checkpoint of a model that you expect to be exactly identical (initializing a BertForSequenceClassification model from a BertForSequenceClassification model).\n"
     ]
    },
    {
     "data": {
      "application/vnd.jupyter.widget-view+json": {
       "model_id": "8b20ecc11ca44e2bae5118912d23d5f8",
       "version_major": 2,
       "version_minor": 0
      },
      "text/plain": [
       "  0%|          | 0/1 [00:00<?, ?it/s]"
      ]
     },
     "metadata": {},
     "output_type": "display_data"
    },
    {
     "data": {
      "text/html": [
       "<div>\n",
       "<style scoped>\n",
       "    .dataframe tbody tr th:only-of-type {\n",
       "        vertical-align: middle;\n",
       "    }\n",
       "\n",
       "    .dataframe tbody tr th {\n",
       "        vertical-align: top;\n",
       "    }\n",
       "\n",
       "    .dataframe thead th {\n",
       "        text-align: right;\n",
       "    }\n",
       "</style>\n",
       "<table border=\"1\" class=\"dataframe\">\n",
       "  <thead>\n",
       "    <tr style=\"text-align: right;\">\n",
       "      <th></th>\n",
       "      <th>category</th>\n",
       "      <th>text</th>\n",
       "      <th>DeepPavlov/rubert-base-cased-conversational_text_feature_0</th>\n",
       "      <th>DeepPavlov/rubert-base-cased-conversational_text_feature_1</th>\n",
       "      <th>DeepPavlov/rubert-base-cased-conversational_text_feature_2</th>\n",
       "      <th>DeepPavlov/rubert-base-cased-conversational_text_feature_3</th>\n",
       "      <th>DeepPavlov/rubert-base-cased-conversational_text_feature_4</th>\n",
       "      <th>DeepPavlov/rubert-base-cased-conversational_text_feature_5</th>\n",
       "      <th>DeepPavlov/rubert-base-cased-conversational_text_feature_6</th>\n",
       "      <th>DeepPavlov/rubert-base-cased-conversational_text_feature_7</th>\n",
       "      <th>...</th>\n",
       "      <th>DeepPavlov/rubert-base-cased-conversational_text_feature_758</th>\n",
       "      <th>DeepPavlov/rubert-base-cased-conversational_text_feature_759</th>\n",
       "      <th>DeepPavlov/rubert-base-cased-conversational_text_feature_760</th>\n",
       "      <th>DeepPavlov/rubert-base-cased-conversational_text_feature_761</th>\n",
       "      <th>DeepPavlov/rubert-base-cased-conversational_text_feature_762</th>\n",
       "      <th>DeepPavlov/rubert-base-cased-conversational_text_feature_763</th>\n",
       "      <th>DeepPavlov/rubert-base-cased-conversational_text_feature_764</th>\n",
       "      <th>DeepPavlov/rubert-base-cased-conversational_text_feature_765</th>\n",
       "      <th>DeepPavlov/rubert-base-cased-conversational_text_feature_766</th>\n",
       "      <th>DeepPavlov/rubert-base-cased-conversational_text_feature_767</th>\n",
       "    </tr>\n",
       "  </thead>\n",
       "  <tbody>\n",
       "    <tr>\n",
       "      <th>0</th>\n",
       "      <td>extreme</td>\n",
       "      <td>Ледник Пасторури это цирковой ледник расположе...</td>\n",
       "      <td>-0.618956</td>\n",
       "      <td>-0.219038</td>\n",
       "      <td>-0.295542</td>\n",
       "      <td>-0.043835</td>\n",
       "      <td>0.187446</td>\n",
       "      <td>0.339212</td>\n",
       "      <td>0.297976</td>\n",
       "      <td>0.204837</td>\n",
       "      <td>...</td>\n",
       "      <td>-0.783512</td>\n",
       "      <td>0.589173</td>\n",
       "      <td>-0.022017</td>\n",
       "      <td>-0.231996</td>\n",
       "      <td>0.875345</td>\n",
       "      <td>-0.112136</td>\n",
       "      <td>-0.048333</td>\n",
       "      <td>0.161958</td>\n",
       "      <td>0.981491</td>\n",
       "      <td>-0.298607</td>\n",
       "    </tr>\n",
       "  </tbody>\n",
       "</table>\n",
       "<p>1 rows × 770 columns</p>\n",
       "</div>"
      ],
      "text/plain": [
       "  category                                               text  \\\n",
       "0  extreme  Ледник Пасторури это цирковой ледник расположе...   \n",
       "\n",
       "   DeepPavlov/rubert-base-cased-conversational_text_feature_0  \\\n",
       "0                                          -0.618956            \n",
       "\n",
       "   DeepPavlov/rubert-base-cased-conversational_text_feature_1  \\\n",
       "0                                          -0.219038            \n",
       "\n",
       "   DeepPavlov/rubert-base-cased-conversational_text_feature_2  \\\n",
       "0                                          -0.295542            \n",
       "\n",
       "   DeepPavlov/rubert-base-cased-conversational_text_feature_3  \\\n",
       "0                                          -0.043835            \n",
       "\n",
       "   DeepPavlov/rubert-base-cased-conversational_text_feature_4  \\\n",
       "0                                           0.187446            \n",
       "\n",
       "   DeepPavlov/rubert-base-cased-conversational_text_feature_5  \\\n",
       "0                                           0.339212            \n",
       "\n",
       "   DeepPavlov/rubert-base-cased-conversational_text_feature_6  \\\n",
       "0                                           0.297976            \n",
       "\n",
       "   DeepPavlov/rubert-base-cased-conversational_text_feature_7  ...  \\\n",
       "0                                           0.204837           ...   \n",
       "\n",
       "   DeepPavlov/rubert-base-cased-conversational_text_feature_758  \\\n",
       "0                                          -0.783512              \n",
       "\n",
       "   DeepPavlov/rubert-base-cased-conversational_text_feature_759  \\\n",
       "0                                           0.589173              \n",
       "\n",
       "   DeepPavlov/rubert-base-cased-conversational_text_feature_760  \\\n",
       "0                                          -0.022017              \n",
       "\n",
       "   DeepPavlov/rubert-base-cased-conversational_text_feature_761  \\\n",
       "0                                          -0.231996              \n",
       "\n",
       "   DeepPavlov/rubert-base-cased-conversational_text_feature_762  \\\n",
       "0                                           0.875345              \n",
       "\n",
       "   DeepPavlov/rubert-base-cased-conversational_text_feature_763  \\\n",
       "0                                          -0.112136              \n",
       "\n",
       "   DeepPavlov/rubert-base-cased-conversational_text_feature_764  \\\n",
       "0                                          -0.048333              \n",
       "\n",
       "   DeepPavlov/rubert-base-cased-conversational_text_feature_765  \\\n",
       "0                                           0.161958              \n",
       "\n",
       "   DeepPavlov/rubert-base-cased-conversational_text_feature_766  \\\n",
       "0                                           0.981491              \n",
       "\n",
       "   DeepPavlov/rubert-base-cased-conversational_text_feature_767  \n",
       "0                                          -0.298607             \n",
       "\n",
       "[1 rows x 770 columns]"
      ]
     },
     "metadata": {},
     "output_type": "display_data"
    },
    {
     "name": "stdout",
     "output_type": "stream",
     "text": [
      "sentence-transformers/LaBSE\n"
     ]
    },
    {
     "data": {
      "application/vnd.jupyter.widget-view+json": {
       "model_id": "694010faf62b4a55a0b1cce5e0da76d6",
       "version_major": 2,
       "version_minor": 0
      },
      "text/plain": [
       "  0%|          | 0/1 [00:00<?, ?it/s]"
      ]
     },
     "metadata": {},
     "output_type": "display_data"
    },
    {
     "data": {
      "text/html": [
       "<div>\n",
       "<style scoped>\n",
       "    .dataframe tbody tr th:only-of-type {\n",
       "        vertical-align: middle;\n",
       "    }\n",
       "\n",
       "    .dataframe tbody tr th {\n",
       "        vertical-align: top;\n",
       "    }\n",
       "\n",
       "    .dataframe thead th {\n",
       "        text-align: right;\n",
       "    }\n",
       "</style>\n",
       "<table border=\"1\" class=\"dataframe\">\n",
       "  <thead>\n",
       "    <tr style=\"text-align: right;\">\n",
       "      <th></th>\n",
       "      <th>category</th>\n",
       "      <th>text</th>\n",
       "      <th>sentence-transformers/LaBSE_text_feature_0</th>\n",
       "      <th>sentence-transformers/LaBSE_text_feature_1</th>\n",
       "      <th>sentence-transformers/LaBSE_text_feature_2</th>\n",
       "      <th>sentence-transformers/LaBSE_text_feature_3</th>\n",
       "      <th>sentence-transformers/LaBSE_text_feature_4</th>\n",
       "      <th>sentence-transformers/LaBSE_text_feature_5</th>\n",
       "      <th>sentence-transformers/LaBSE_text_feature_6</th>\n",
       "      <th>sentence-transformers/LaBSE_text_feature_7</th>\n",
       "      <th>...</th>\n",
       "      <th>sentence-transformers/LaBSE_text_feature_758</th>\n",
       "      <th>sentence-transformers/LaBSE_text_feature_759</th>\n",
       "      <th>sentence-transformers/LaBSE_text_feature_760</th>\n",
       "      <th>sentence-transformers/LaBSE_text_feature_761</th>\n",
       "      <th>sentence-transformers/LaBSE_text_feature_762</th>\n",
       "      <th>sentence-transformers/LaBSE_text_feature_763</th>\n",
       "      <th>sentence-transformers/LaBSE_text_feature_764</th>\n",
       "      <th>sentence-transformers/LaBSE_text_feature_765</th>\n",
       "      <th>sentence-transformers/LaBSE_text_feature_766</th>\n",
       "      <th>sentence-transformers/LaBSE_text_feature_767</th>\n",
       "    </tr>\n",
       "  </thead>\n",
       "  <tbody>\n",
       "    <tr>\n",
       "      <th>0</th>\n",
       "      <td>extreme</td>\n",
       "      <td>Ледник Пасторури это цирковой ледник расположе...</td>\n",
       "      <td>0.857106</td>\n",
       "      <td>-0.215657</td>\n",
       "      <td>1.067143</td>\n",
       "      <td>0.311904</td>\n",
       "      <td>-0.330101</td>\n",
       "      <td>0.720545</td>\n",
       "      <td>-0.263803</td>\n",
       "      <td>0.03688</td>\n",
       "      <td>...</td>\n",
       "      <td>0.297108</td>\n",
       "      <td>-0.040586</td>\n",
       "      <td>0.602947</td>\n",
       "      <td>-0.2219</td>\n",
       "      <td>1.02662</td>\n",
       "      <td>0.107726</td>\n",
       "      <td>-0.359772</td>\n",
       "      <td>0.015022</td>\n",
       "      <td>-0.514056</td>\n",
       "      <td>-0.497934</td>\n",
       "    </tr>\n",
       "  </tbody>\n",
       "</table>\n",
       "<p>1 rows × 770 columns</p>\n",
       "</div>"
      ],
      "text/plain": [
       "  category                                               text  \\\n",
       "0  extreme  Ледник Пасторури это цирковой ледник расположе...   \n",
       "\n",
       "   sentence-transformers/LaBSE_text_feature_0  \\\n",
       "0                                    0.857106   \n",
       "\n",
       "   sentence-transformers/LaBSE_text_feature_1  \\\n",
       "0                                   -0.215657   \n",
       "\n",
       "   sentence-transformers/LaBSE_text_feature_2  \\\n",
       "0                                    1.067143   \n",
       "\n",
       "   sentence-transformers/LaBSE_text_feature_3  \\\n",
       "0                                    0.311904   \n",
       "\n",
       "   sentence-transformers/LaBSE_text_feature_4  \\\n",
       "0                                   -0.330101   \n",
       "\n",
       "   sentence-transformers/LaBSE_text_feature_5  \\\n",
       "0                                    0.720545   \n",
       "\n",
       "   sentence-transformers/LaBSE_text_feature_6  \\\n",
       "0                                   -0.263803   \n",
       "\n",
       "   sentence-transformers/LaBSE_text_feature_7  ...  \\\n",
       "0                                     0.03688  ...   \n",
       "\n",
       "   sentence-transformers/LaBSE_text_feature_758  \\\n",
       "0                                      0.297108   \n",
       "\n",
       "   sentence-transformers/LaBSE_text_feature_759  \\\n",
       "0                                     -0.040586   \n",
       "\n",
       "   sentence-transformers/LaBSE_text_feature_760  \\\n",
       "0                                      0.602947   \n",
       "\n",
       "   sentence-transformers/LaBSE_text_feature_761  \\\n",
       "0                                       -0.2219   \n",
       "\n",
       "   sentence-transformers/LaBSE_text_feature_762  \\\n",
       "0                                       1.02662   \n",
       "\n",
       "   sentence-transformers/LaBSE_text_feature_763  \\\n",
       "0                                      0.107726   \n",
       "\n",
       "   sentence-transformers/LaBSE_text_feature_764  \\\n",
       "0                                     -0.359772   \n",
       "\n",
       "   sentence-transformers/LaBSE_text_feature_765  \\\n",
       "0                                      0.015022   \n",
       "\n",
       "   sentence-transformers/LaBSE_text_feature_766  \\\n",
       "0                                     -0.514056   \n",
       "\n",
       "   sentence-transformers/LaBSE_text_feature_767  \n",
       "0                                     -0.497934  \n",
       "\n",
       "[1 rows x 770 columns]"
      ]
     },
     "metadata": {},
     "output_type": "display_data"
    },
    {
     "name": "stdout",
     "output_type": "stream",
     "text": [
      "cointegrated/LaBSE-en-ru\n"
     ]
    },
    {
     "data": {
      "application/vnd.jupyter.widget-view+json": {
       "model_id": "96591a4479a14f17987ec405a4dfa146",
       "version_major": 2,
       "version_minor": 0
      },
      "text/plain": [
       "  0%|          | 0/1 [00:00<?, ?it/s]"
      ]
     },
     "metadata": {},
     "output_type": "display_data"
    },
    {
     "data": {
      "text/html": [
       "<div>\n",
       "<style scoped>\n",
       "    .dataframe tbody tr th:only-of-type {\n",
       "        vertical-align: middle;\n",
       "    }\n",
       "\n",
       "    .dataframe tbody tr th {\n",
       "        vertical-align: top;\n",
       "    }\n",
       "\n",
       "    .dataframe thead th {\n",
       "        text-align: right;\n",
       "    }\n",
       "</style>\n",
       "<table border=\"1\" class=\"dataframe\">\n",
       "  <thead>\n",
       "    <tr style=\"text-align: right;\">\n",
       "      <th></th>\n",
       "      <th>category</th>\n",
       "      <th>text</th>\n",
       "      <th>cointegrated/LaBSE-en-ru_text_feature_0</th>\n",
       "      <th>cointegrated/LaBSE-en-ru_text_feature_1</th>\n",
       "      <th>cointegrated/LaBSE-en-ru_text_feature_2</th>\n",
       "      <th>cointegrated/LaBSE-en-ru_text_feature_3</th>\n",
       "      <th>cointegrated/LaBSE-en-ru_text_feature_4</th>\n",
       "      <th>cointegrated/LaBSE-en-ru_text_feature_5</th>\n",
       "      <th>cointegrated/LaBSE-en-ru_text_feature_6</th>\n",
       "      <th>cointegrated/LaBSE-en-ru_text_feature_7</th>\n",
       "      <th>...</th>\n",
       "      <th>cointegrated/LaBSE-en-ru_text_feature_758</th>\n",
       "      <th>cointegrated/LaBSE-en-ru_text_feature_759</th>\n",
       "      <th>cointegrated/LaBSE-en-ru_text_feature_760</th>\n",
       "      <th>cointegrated/LaBSE-en-ru_text_feature_761</th>\n",
       "      <th>cointegrated/LaBSE-en-ru_text_feature_762</th>\n",
       "      <th>cointegrated/LaBSE-en-ru_text_feature_763</th>\n",
       "      <th>cointegrated/LaBSE-en-ru_text_feature_764</th>\n",
       "      <th>cointegrated/LaBSE-en-ru_text_feature_765</th>\n",
       "      <th>cointegrated/LaBSE-en-ru_text_feature_766</th>\n",
       "      <th>cointegrated/LaBSE-en-ru_text_feature_767</th>\n",
       "    </tr>\n",
       "  </thead>\n",
       "  <tbody>\n",
       "    <tr>\n",
       "      <th>0</th>\n",
       "      <td>extreme</td>\n",
       "      <td>Ледник Пасторури это цирковой ледник расположе...</td>\n",
       "      <td>0.399257</td>\n",
       "      <td>-0.014758</td>\n",
       "      <td>0.616264</td>\n",
       "      <td>0.149836</td>\n",
       "      <td>-0.242052</td>\n",
       "      <td>0.639204</td>\n",
       "      <td>-0.380299</td>\n",
       "      <td>-0.161804</td>\n",
       "      <td>...</td>\n",
       "      <td>0.268026</td>\n",
       "      <td>0.064704</td>\n",
       "      <td>0.130655</td>\n",
       "      <td>0.02184</td>\n",
       "      <td>0.568038</td>\n",
       "      <td>0.156017</td>\n",
       "      <td>-0.069051</td>\n",
       "      <td>0.134307</td>\n",
       "      <td>-0.321157</td>\n",
       "      <td>-0.437823</td>\n",
       "    </tr>\n",
       "  </tbody>\n",
       "</table>\n",
       "<p>1 rows × 770 columns</p>\n",
       "</div>"
      ],
      "text/plain": [
       "  category                                               text  \\\n",
       "0  extreme  Ледник Пасторури это цирковой ледник расположе...   \n",
       "\n",
       "   cointegrated/LaBSE-en-ru_text_feature_0  \\\n",
       "0                                 0.399257   \n",
       "\n",
       "   cointegrated/LaBSE-en-ru_text_feature_1  \\\n",
       "0                                -0.014758   \n",
       "\n",
       "   cointegrated/LaBSE-en-ru_text_feature_2  \\\n",
       "0                                 0.616264   \n",
       "\n",
       "   cointegrated/LaBSE-en-ru_text_feature_3  \\\n",
       "0                                 0.149836   \n",
       "\n",
       "   cointegrated/LaBSE-en-ru_text_feature_4  \\\n",
       "0                                -0.242052   \n",
       "\n",
       "   cointegrated/LaBSE-en-ru_text_feature_5  \\\n",
       "0                                 0.639204   \n",
       "\n",
       "   cointegrated/LaBSE-en-ru_text_feature_6  \\\n",
       "0                                -0.380299   \n",
       "\n",
       "   cointegrated/LaBSE-en-ru_text_feature_7  ...  \\\n",
       "0                                -0.161804  ...   \n",
       "\n",
       "   cointegrated/LaBSE-en-ru_text_feature_758  \\\n",
       "0                                   0.268026   \n",
       "\n",
       "   cointegrated/LaBSE-en-ru_text_feature_759  \\\n",
       "0                                   0.064704   \n",
       "\n",
       "   cointegrated/LaBSE-en-ru_text_feature_760  \\\n",
       "0                                   0.130655   \n",
       "\n",
       "   cointegrated/LaBSE-en-ru_text_feature_761  \\\n",
       "0                                    0.02184   \n",
       "\n",
       "   cointegrated/LaBSE-en-ru_text_feature_762  \\\n",
       "0                                   0.568038   \n",
       "\n",
       "   cointegrated/LaBSE-en-ru_text_feature_763  \\\n",
       "0                                   0.156017   \n",
       "\n",
       "   cointegrated/LaBSE-en-ru_text_feature_764  \\\n",
       "0                                  -0.069051   \n",
       "\n",
       "   cointegrated/LaBSE-en-ru_text_feature_765  \\\n",
       "0                                   0.134307   \n",
       "\n",
       "   cointegrated/LaBSE-en-ru_text_feature_766  \\\n",
       "0                                  -0.321157   \n",
       "\n",
       "   cointegrated/LaBSE-en-ru_text_feature_767  \n",
       "0                                  -0.437823  \n",
       "\n",
       "[1 rows x 770 columns]"
      ]
     },
     "metadata": {},
     "output_type": "display_data"
    },
    {
     "name": "stdout",
     "output_type": "stream",
     "text": [
      "sberbank-ai/ruRoberta-large\n"
     ]
    },
    {
     "name": "stderr",
     "output_type": "stream",
     "text": [
      "Some weights of RobertaModel were not initialized from the model checkpoint at sberbank-ai/ruRoberta-large and are newly initialized: ['roberta.pooler.dense.bias', 'roberta.pooler.dense.weight']\n",
      "You should probably TRAIN this model on a down-stream task to be able to use it for predictions and inference.\n"
     ]
    },
    {
     "data": {
      "application/vnd.jupyter.widget-view+json": {
       "model_id": "9dc8d1aeef1144d3a772b3634134c69f",
       "version_major": 2,
       "version_minor": 0
      },
      "text/plain": [
       "  0%|          | 0/1 [00:00<?, ?it/s]"
      ]
     },
     "metadata": {},
     "output_type": "display_data"
    },
    {
     "data": {
      "text/html": [
       "<div>\n",
       "<style scoped>\n",
       "    .dataframe tbody tr th:only-of-type {\n",
       "        vertical-align: middle;\n",
       "    }\n",
       "\n",
       "    .dataframe tbody tr th {\n",
       "        vertical-align: top;\n",
       "    }\n",
       "\n",
       "    .dataframe thead th {\n",
       "        text-align: right;\n",
       "    }\n",
       "</style>\n",
       "<table border=\"1\" class=\"dataframe\">\n",
       "  <thead>\n",
       "    <tr style=\"text-align: right;\">\n",
       "      <th></th>\n",
       "      <th>category</th>\n",
       "      <th>text</th>\n",
       "      <th>sberbank-ai/ruRoberta-large_text_feature_0</th>\n",
       "      <th>sberbank-ai/ruRoberta-large_text_feature_1</th>\n",
       "      <th>sberbank-ai/ruRoberta-large_text_feature_2</th>\n",
       "      <th>sberbank-ai/ruRoberta-large_text_feature_3</th>\n",
       "      <th>sberbank-ai/ruRoberta-large_text_feature_4</th>\n",
       "      <th>sberbank-ai/ruRoberta-large_text_feature_5</th>\n",
       "      <th>sberbank-ai/ruRoberta-large_text_feature_6</th>\n",
       "      <th>sberbank-ai/ruRoberta-large_text_feature_7</th>\n",
       "      <th>...</th>\n",
       "      <th>sberbank-ai/ruRoberta-large_text_feature_1014</th>\n",
       "      <th>sberbank-ai/ruRoberta-large_text_feature_1015</th>\n",
       "      <th>sberbank-ai/ruRoberta-large_text_feature_1016</th>\n",
       "      <th>sberbank-ai/ruRoberta-large_text_feature_1017</th>\n",
       "      <th>sberbank-ai/ruRoberta-large_text_feature_1018</th>\n",
       "      <th>sberbank-ai/ruRoberta-large_text_feature_1019</th>\n",
       "      <th>sberbank-ai/ruRoberta-large_text_feature_1020</th>\n",
       "      <th>sberbank-ai/ruRoberta-large_text_feature_1021</th>\n",
       "      <th>sberbank-ai/ruRoberta-large_text_feature_1022</th>\n",
       "      <th>sberbank-ai/ruRoberta-large_text_feature_1023</th>\n",
       "    </tr>\n",
       "  </thead>\n",
       "  <tbody>\n",
       "    <tr>\n",
       "      <th>0</th>\n",
       "      <td>extreme</td>\n",
       "      <td>Ледник Пасторури это цирковой ледник расположе...</td>\n",
       "      <td>0.386927</td>\n",
       "      <td>-0.017254</td>\n",
       "      <td>0.128882</td>\n",
       "      <td>-0.046298</td>\n",
       "      <td>0.755182</td>\n",
       "      <td>0.117258</td>\n",
       "      <td>-0.260361</td>\n",
       "      <td>0.367241</td>\n",
       "      <td>...</td>\n",
       "      <td>-0.334861</td>\n",
       "      <td>0.101159</td>\n",
       "      <td>0.211693</td>\n",
       "      <td>0.298024</td>\n",
       "      <td>-0.111337</td>\n",
       "      <td>0.068003</td>\n",
       "      <td>0.376486</td>\n",
       "      <td>0.13787</td>\n",
       "      <td>0.187138</td>\n",
       "      <td>0.039322</td>\n",
       "    </tr>\n",
       "  </tbody>\n",
       "</table>\n",
       "<p>1 rows × 1026 columns</p>\n",
       "</div>"
      ],
      "text/plain": [
       "  category                                               text  \\\n",
       "0  extreme  Ледник Пасторури это цирковой ледник расположе...   \n",
       "\n",
       "   sberbank-ai/ruRoberta-large_text_feature_0  \\\n",
       "0                                    0.386927   \n",
       "\n",
       "   sberbank-ai/ruRoberta-large_text_feature_1  \\\n",
       "0                                   -0.017254   \n",
       "\n",
       "   sberbank-ai/ruRoberta-large_text_feature_2  \\\n",
       "0                                    0.128882   \n",
       "\n",
       "   sberbank-ai/ruRoberta-large_text_feature_3  \\\n",
       "0                                   -0.046298   \n",
       "\n",
       "   sberbank-ai/ruRoberta-large_text_feature_4  \\\n",
       "0                                    0.755182   \n",
       "\n",
       "   sberbank-ai/ruRoberta-large_text_feature_5  \\\n",
       "0                                    0.117258   \n",
       "\n",
       "   sberbank-ai/ruRoberta-large_text_feature_6  \\\n",
       "0                                   -0.260361   \n",
       "\n",
       "   sberbank-ai/ruRoberta-large_text_feature_7  ...  \\\n",
       "0                                    0.367241  ...   \n",
       "\n",
       "   sberbank-ai/ruRoberta-large_text_feature_1014  \\\n",
       "0                                      -0.334861   \n",
       "\n",
       "   sberbank-ai/ruRoberta-large_text_feature_1015  \\\n",
       "0                                       0.101159   \n",
       "\n",
       "   sberbank-ai/ruRoberta-large_text_feature_1016  \\\n",
       "0                                       0.211693   \n",
       "\n",
       "   sberbank-ai/ruRoberta-large_text_feature_1017  \\\n",
       "0                                       0.298024   \n",
       "\n",
       "   sberbank-ai/ruRoberta-large_text_feature_1018  \\\n",
       "0                                      -0.111337   \n",
       "\n",
       "   sberbank-ai/ruRoberta-large_text_feature_1019  \\\n",
       "0                                       0.068003   \n",
       "\n",
       "   sberbank-ai/ruRoberta-large_text_feature_1020  \\\n",
       "0                                       0.376486   \n",
       "\n",
       "   sberbank-ai/ruRoberta-large_text_feature_1021  \\\n",
       "0                                        0.13787   \n",
       "\n",
       "   sberbank-ai/ruRoberta-large_text_feature_1022  \\\n",
       "0                                       0.187138   \n",
       "\n",
       "   sberbank-ai/ruRoberta-large_text_feature_1023  \n",
       "0                                       0.039322  \n",
       "\n",
       "[1 rows x 1026 columns]"
      ]
     },
     "metadata": {},
     "output_type": "display_data"
    },
    {
     "name": "stdout",
     "output_type": "stream",
     "text": [
      "sberbank-ai/sbert_large_nlu_ru\n"
     ]
    },
    {
     "data": {
      "application/vnd.jupyter.widget-view+json": {
       "model_id": "efcd74fc81e148518565a7af862115a1",
       "version_major": 2,
       "version_minor": 0
      },
      "text/plain": [
       "  0%|          | 0/1 [00:00<?, ?it/s]"
      ]
     },
     "metadata": {},
     "output_type": "display_data"
    },
    {
     "data": {
      "text/html": [
       "<div>\n",
       "<style scoped>\n",
       "    .dataframe tbody tr th:only-of-type {\n",
       "        vertical-align: middle;\n",
       "    }\n",
       "\n",
       "    .dataframe tbody tr th {\n",
       "        vertical-align: top;\n",
       "    }\n",
       "\n",
       "    .dataframe thead th {\n",
       "        text-align: right;\n",
       "    }\n",
       "</style>\n",
       "<table border=\"1\" class=\"dataframe\">\n",
       "  <thead>\n",
       "    <tr style=\"text-align: right;\">\n",
       "      <th></th>\n",
       "      <th>category</th>\n",
       "      <th>text</th>\n",
       "      <th>sberbank-ai/sbert_large_nlu_ru_text_feature_0</th>\n",
       "      <th>sberbank-ai/sbert_large_nlu_ru_text_feature_1</th>\n",
       "      <th>sberbank-ai/sbert_large_nlu_ru_text_feature_2</th>\n",
       "      <th>sberbank-ai/sbert_large_nlu_ru_text_feature_3</th>\n",
       "      <th>sberbank-ai/sbert_large_nlu_ru_text_feature_4</th>\n",
       "      <th>sberbank-ai/sbert_large_nlu_ru_text_feature_5</th>\n",
       "      <th>sberbank-ai/sbert_large_nlu_ru_text_feature_6</th>\n",
       "      <th>sberbank-ai/sbert_large_nlu_ru_text_feature_7</th>\n",
       "      <th>...</th>\n",
       "      <th>sberbank-ai/sbert_large_nlu_ru_text_feature_1014</th>\n",
       "      <th>sberbank-ai/sbert_large_nlu_ru_text_feature_1015</th>\n",
       "      <th>sberbank-ai/sbert_large_nlu_ru_text_feature_1016</th>\n",
       "      <th>sberbank-ai/sbert_large_nlu_ru_text_feature_1017</th>\n",
       "      <th>sberbank-ai/sbert_large_nlu_ru_text_feature_1018</th>\n",
       "      <th>sberbank-ai/sbert_large_nlu_ru_text_feature_1019</th>\n",
       "      <th>sberbank-ai/sbert_large_nlu_ru_text_feature_1020</th>\n",
       "      <th>sberbank-ai/sbert_large_nlu_ru_text_feature_1021</th>\n",
       "      <th>sberbank-ai/sbert_large_nlu_ru_text_feature_1022</th>\n",
       "      <th>sberbank-ai/sbert_large_nlu_ru_text_feature_1023</th>\n",
       "    </tr>\n",
       "  </thead>\n",
       "  <tbody>\n",
       "    <tr>\n",
       "      <th>0</th>\n",
       "      <td>extreme</td>\n",
       "      <td>Ледник Пасторури это цирковой ледник расположе...</td>\n",
       "      <td>0.415026</td>\n",
       "      <td>0.092475</td>\n",
       "      <td>0.492794</td>\n",
       "      <td>0.48916</td>\n",
       "      <td>-0.173276</td>\n",
       "      <td>-0.992799</td>\n",
       "      <td>0.658386</td>\n",
       "      <td>0.733077</td>\n",
       "      <td>...</td>\n",
       "      <td>-0.554615</td>\n",
       "      <td>-0.074569</td>\n",
       "      <td>-0.685439</td>\n",
       "      <td>0.697551</td>\n",
       "      <td>-0.6611</td>\n",
       "      <td>0.057302</td>\n",
       "      <td>-0.192679</td>\n",
       "      <td>-0.104465</td>\n",
       "      <td>0.302485</td>\n",
       "      <td>0.08279</td>\n",
       "    </tr>\n",
       "  </tbody>\n",
       "</table>\n",
       "<p>1 rows × 1026 columns</p>\n",
       "</div>"
      ],
      "text/plain": [
       "  category                                               text  \\\n",
       "0  extreme  Ледник Пасторури это цирковой ледник расположе...   \n",
       "\n",
       "   sberbank-ai/sbert_large_nlu_ru_text_feature_0  \\\n",
       "0                                       0.415026   \n",
       "\n",
       "   sberbank-ai/sbert_large_nlu_ru_text_feature_1  \\\n",
       "0                                       0.092475   \n",
       "\n",
       "   sberbank-ai/sbert_large_nlu_ru_text_feature_2  \\\n",
       "0                                       0.492794   \n",
       "\n",
       "   sberbank-ai/sbert_large_nlu_ru_text_feature_3  \\\n",
       "0                                        0.48916   \n",
       "\n",
       "   sberbank-ai/sbert_large_nlu_ru_text_feature_4  \\\n",
       "0                                      -0.173276   \n",
       "\n",
       "   sberbank-ai/sbert_large_nlu_ru_text_feature_5  \\\n",
       "0                                      -0.992799   \n",
       "\n",
       "   sberbank-ai/sbert_large_nlu_ru_text_feature_6  \\\n",
       "0                                       0.658386   \n",
       "\n",
       "   sberbank-ai/sbert_large_nlu_ru_text_feature_7  ...  \\\n",
       "0                                       0.733077  ...   \n",
       "\n",
       "   sberbank-ai/sbert_large_nlu_ru_text_feature_1014  \\\n",
       "0                                         -0.554615   \n",
       "\n",
       "   sberbank-ai/sbert_large_nlu_ru_text_feature_1015  \\\n",
       "0                                         -0.074569   \n",
       "\n",
       "   sberbank-ai/sbert_large_nlu_ru_text_feature_1016  \\\n",
       "0                                         -0.685439   \n",
       "\n",
       "   sberbank-ai/sbert_large_nlu_ru_text_feature_1017  \\\n",
       "0                                          0.697551   \n",
       "\n",
       "   sberbank-ai/sbert_large_nlu_ru_text_feature_1018  \\\n",
       "0                                           -0.6611   \n",
       "\n",
       "   sberbank-ai/sbert_large_nlu_ru_text_feature_1019  \\\n",
       "0                                          0.057302   \n",
       "\n",
       "   sberbank-ai/sbert_large_nlu_ru_text_feature_1020  \\\n",
       "0                                         -0.192679   \n",
       "\n",
       "   sberbank-ai/sbert_large_nlu_ru_text_feature_1021  \\\n",
       "0                                         -0.104465   \n",
       "\n",
       "   sberbank-ai/sbert_large_nlu_ru_text_feature_1022  \\\n",
       "0                                          0.302485   \n",
       "\n",
       "   sberbank-ai/sbert_large_nlu_ru_text_feature_1023  \n",
       "0                                           0.08279  \n",
       "\n",
       "[1 rows x 1026 columns]"
      ]
     },
     "metadata": {},
     "output_type": "display_data"
    },
    {
     "name": "stdout",
     "output_type": "stream",
     "text": [
      "sberbank-ai/sbert_large_mt_nlu_ru\n"
     ]
    },
    {
     "data": {
      "application/vnd.jupyter.widget-view+json": {
       "model_id": "d560298666e643cf86cdcfca05ed912a",
       "version_major": 2,
       "version_minor": 0
      },
      "text/plain": [
       "  0%|          | 0/1 [00:00<?, ?it/s]"
      ]
     },
     "metadata": {},
     "output_type": "display_data"
    },
    {
     "data": {
      "text/html": [
       "<div>\n",
       "<style scoped>\n",
       "    .dataframe tbody tr th:only-of-type {\n",
       "        vertical-align: middle;\n",
       "    }\n",
       "\n",
       "    .dataframe tbody tr th {\n",
       "        vertical-align: top;\n",
       "    }\n",
       "\n",
       "    .dataframe thead th {\n",
       "        text-align: right;\n",
       "    }\n",
       "</style>\n",
       "<table border=\"1\" class=\"dataframe\">\n",
       "  <thead>\n",
       "    <tr style=\"text-align: right;\">\n",
       "      <th></th>\n",
       "      <th>category</th>\n",
       "      <th>text</th>\n",
       "      <th>sberbank-ai/sbert_large_mt_nlu_ru_text_feature_0</th>\n",
       "      <th>sberbank-ai/sbert_large_mt_nlu_ru_text_feature_1</th>\n",
       "      <th>sberbank-ai/sbert_large_mt_nlu_ru_text_feature_2</th>\n",
       "      <th>sberbank-ai/sbert_large_mt_nlu_ru_text_feature_3</th>\n",
       "      <th>sberbank-ai/sbert_large_mt_nlu_ru_text_feature_4</th>\n",
       "      <th>sberbank-ai/sbert_large_mt_nlu_ru_text_feature_5</th>\n",
       "      <th>sberbank-ai/sbert_large_mt_nlu_ru_text_feature_6</th>\n",
       "      <th>sberbank-ai/sbert_large_mt_nlu_ru_text_feature_7</th>\n",
       "      <th>...</th>\n",
       "      <th>sberbank-ai/sbert_large_mt_nlu_ru_text_feature_1014</th>\n",
       "      <th>sberbank-ai/sbert_large_mt_nlu_ru_text_feature_1015</th>\n",
       "      <th>sberbank-ai/sbert_large_mt_nlu_ru_text_feature_1016</th>\n",
       "      <th>sberbank-ai/sbert_large_mt_nlu_ru_text_feature_1017</th>\n",
       "      <th>sberbank-ai/sbert_large_mt_nlu_ru_text_feature_1018</th>\n",
       "      <th>sberbank-ai/sbert_large_mt_nlu_ru_text_feature_1019</th>\n",
       "      <th>sberbank-ai/sbert_large_mt_nlu_ru_text_feature_1020</th>\n",
       "      <th>sberbank-ai/sbert_large_mt_nlu_ru_text_feature_1021</th>\n",
       "      <th>sberbank-ai/sbert_large_mt_nlu_ru_text_feature_1022</th>\n",
       "      <th>sberbank-ai/sbert_large_mt_nlu_ru_text_feature_1023</th>\n",
       "    </tr>\n",
       "  </thead>\n",
       "  <tbody>\n",
       "    <tr>\n",
       "      <th>0</th>\n",
       "      <td>extreme</td>\n",
       "      <td>Ледник Пасторури это цирковой ледник расположе...</td>\n",
       "      <td>1.021607</td>\n",
       "      <td>-0.240039</td>\n",
       "      <td>-0.333009</td>\n",
       "      <td>0.627153</td>\n",
       "      <td>-0.15489</td>\n",
       "      <td>-0.767992</td>\n",
       "      <td>0.281795</td>\n",
       "      <td>0.527032</td>\n",
       "      <td>...</td>\n",
       "      <td>-0.170824</td>\n",
       "      <td>-0.72699</td>\n",
       "      <td>0.120144</td>\n",
       "      <td>1.997994</td>\n",
       "      <td>-1.256079</td>\n",
       "      <td>0.18146</td>\n",
       "      <td>-0.2253</td>\n",
       "      <td>-0.606861</td>\n",
       "      <td>0.566627</td>\n",
       "      <td>-0.121111</td>\n",
       "    </tr>\n",
       "  </tbody>\n",
       "</table>\n",
       "<p>1 rows × 1026 columns</p>\n",
       "</div>"
      ],
      "text/plain": [
       "  category                                               text  \\\n",
       "0  extreme  Ледник Пасторури это цирковой ледник расположе...   \n",
       "\n",
       "   sberbank-ai/sbert_large_mt_nlu_ru_text_feature_0  \\\n",
       "0                                          1.021607   \n",
       "\n",
       "   sberbank-ai/sbert_large_mt_nlu_ru_text_feature_1  \\\n",
       "0                                         -0.240039   \n",
       "\n",
       "   sberbank-ai/sbert_large_mt_nlu_ru_text_feature_2  \\\n",
       "0                                         -0.333009   \n",
       "\n",
       "   sberbank-ai/sbert_large_mt_nlu_ru_text_feature_3  \\\n",
       "0                                          0.627153   \n",
       "\n",
       "   sberbank-ai/sbert_large_mt_nlu_ru_text_feature_4  \\\n",
       "0                                          -0.15489   \n",
       "\n",
       "   sberbank-ai/sbert_large_mt_nlu_ru_text_feature_5  \\\n",
       "0                                         -0.767992   \n",
       "\n",
       "   sberbank-ai/sbert_large_mt_nlu_ru_text_feature_6  \\\n",
       "0                                          0.281795   \n",
       "\n",
       "   sberbank-ai/sbert_large_mt_nlu_ru_text_feature_7  ...  \\\n",
       "0                                          0.527032  ...   \n",
       "\n",
       "   sberbank-ai/sbert_large_mt_nlu_ru_text_feature_1014  \\\n",
       "0                                          -0.170824     \n",
       "\n",
       "   sberbank-ai/sbert_large_mt_nlu_ru_text_feature_1015  \\\n",
       "0                                           -0.72699     \n",
       "\n",
       "   sberbank-ai/sbert_large_mt_nlu_ru_text_feature_1016  \\\n",
       "0                                           0.120144     \n",
       "\n",
       "   sberbank-ai/sbert_large_mt_nlu_ru_text_feature_1017  \\\n",
       "0                                           1.997994     \n",
       "\n",
       "   sberbank-ai/sbert_large_mt_nlu_ru_text_feature_1018  \\\n",
       "0                                          -1.256079     \n",
       "\n",
       "   sberbank-ai/sbert_large_mt_nlu_ru_text_feature_1019  \\\n",
       "0                                            0.18146     \n",
       "\n",
       "   sberbank-ai/sbert_large_mt_nlu_ru_text_feature_1020  \\\n",
       "0                                            -0.2253     \n",
       "\n",
       "   sberbank-ai/sbert_large_mt_nlu_ru_text_feature_1021  \\\n",
       "0                                          -0.606861     \n",
       "\n",
       "   sberbank-ai/sbert_large_mt_nlu_ru_text_feature_1022  \\\n",
       "0                                           0.566627     \n",
       "\n",
       "   sberbank-ai/sbert_large_mt_nlu_ru_text_feature_1023  \n",
       "0                                          -0.121111    \n",
       "\n",
       "[1 rows x 1026 columns]"
      ]
     },
     "metadata": {},
     "output_type": "display_data"
    },
    {
     "name": "stdout",
     "output_type": "stream",
     "text": [
      "sberbank-ai/ruBert-large\n"
     ]
    },
    {
     "data": {
      "application/vnd.jupyter.widget-view+json": {
       "model_id": "e4dfc08faed84d678af6cdd18ea86e30",
       "version_major": 2,
       "version_minor": 0
      },
      "text/plain": [
       "  0%|          | 0/1 [00:00<?, ?it/s]"
      ]
     },
     "metadata": {},
     "output_type": "display_data"
    },
    {
     "data": {
      "text/html": [
       "<div>\n",
       "<style scoped>\n",
       "    .dataframe tbody tr th:only-of-type {\n",
       "        vertical-align: middle;\n",
       "    }\n",
       "\n",
       "    .dataframe tbody tr th {\n",
       "        vertical-align: top;\n",
       "    }\n",
       "\n",
       "    .dataframe thead th {\n",
       "        text-align: right;\n",
       "    }\n",
       "</style>\n",
       "<table border=\"1\" class=\"dataframe\">\n",
       "  <thead>\n",
       "    <tr style=\"text-align: right;\">\n",
       "      <th></th>\n",
       "      <th>category</th>\n",
       "      <th>text</th>\n",
       "      <th>sberbank-ai/ruBert-large_text_feature_0</th>\n",
       "      <th>sberbank-ai/ruBert-large_text_feature_1</th>\n",
       "      <th>sberbank-ai/ruBert-large_text_feature_2</th>\n",
       "      <th>sberbank-ai/ruBert-large_text_feature_3</th>\n",
       "      <th>sberbank-ai/ruBert-large_text_feature_4</th>\n",
       "      <th>sberbank-ai/ruBert-large_text_feature_5</th>\n",
       "      <th>sberbank-ai/ruBert-large_text_feature_6</th>\n",
       "      <th>sberbank-ai/ruBert-large_text_feature_7</th>\n",
       "      <th>...</th>\n",
       "      <th>sberbank-ai/ruBert-large_text_feature_1014</th>\n",
       "      <th>sberbank-ai/ruBert-large_text_feature_1015</th>\n",
       "      <th>sberbank-ai/ruBert-large_text_feature_1016</th>\n",
       "      <th>sberbank-ai/ruBert-large_text_feature_1017</th>\n",
       "      <th>sberbank-ai/ruBert-large_text_feature_1018</th>\n",
       "      <th>sberbank-ai/ruBert-large_text_feature_1019</th>\n",
       "      <th>sberbank-ai/ruBert-large_text_feature_1020</th>\n",
       "      <th>sberbank-ai/ruBert-large_text_feature_1021</th>\n",
       "      <th>sberbank-ai/ruBert-large_text_feature_1022</th>\n",
       "      <th>sberbank-ai/ruBert-large_text_feature_1023</th>\n",
       "    </tr>\n",
       "  </thead>\n",
       "  <tbody>\n",
       "    <tr>\n",
       "      <th>0</th>\n",
       "      <td>extreme</td>\n",
       "      <td>Ледник Пасторури это цирковой ледник расположе...</td>\n",
       "      <td>0.20393</td>\n",
       "      <td>0.305737</td>\n",
       "      <td>-0.096678</td>\n",
       "      <td>0.565531</td>\n",
       "      <td>-0.101286</td>\n",
       "      <td>-0.408934</td>\n",
       "      <td>0.197335</td>\n",
       "      <td>0.50366</td>\n",
       "      <td>...</td>\n",
       "      <td>0.073689</td>\n",
       "      <td>-0.142128</td>\n",
       "      <td>-0.191717</td>\n",
       "      <td>0.452236</td>\n",
       "      <td>-0.540893</td>\n",
       "      <td>0.20142</td>\n",
       "      <td>-0.010704</td>\n",
       "      <td>-0.111506</td>\n",
       "      <td>-0.302127</td>\n",
       "      <td>0.123216</td>\n",
       "    </tr>\n",
       "  </tbody>\n",
       "</table>\n",
       "<p>1 rows × 1026 columns</p>\n",
       "</div>"
      ],
      "text/plain": [
       "  category                                               text  \\\n",
       "0  extreme  Ледник Пасторури это цирковой ледник расположе...   \n",
       "\n",
       "   sberbank-ai/ruBert-large_text_feature_0  \\\n",
       "0                                  0.20393   \n",
       "\n",
       "   sberbank-ai/ruBert-large_text_feature_1  \\\n",
       "0                                 0.305737   \n",
       "\n",
       "   sberbank-ai/ruBert-large_text_feature_2  \\\n",
       "0                                -0.096678   \n",
       "\n",
       "   sberbank-ai/ruBert-large_text_feature_3  \\\n",
       "0                                 0.565531   \n",
       "\n",
       "   sberbank-ai/ruBert-large_text_feature_4  \\\n",
       "0                                -0.101286   \n",
       "\n",
       "   sberbank-ai/ruBert-large_text_feature_5  \\\n",
       "0                                -0.408934   \n",
       "\n",
       "   sberbank-ai/ruBert-large_text_feature_6  \\\n",
       "0                                 0.197335   \n",
       "\n",
       "   sberbank-ai/ruBert-large_text_feature_7  ...  \\\n",
       "0                                  0.50366  ...   \n",
       "\n",
       "   sberbank-ai/ruBert-large_text_feature_1014  \\\n",
       "0                                    0.073689   \n",
       "\n",
       "   sberbank-ai/ruBert-large_text_feature_1015  \\\n",
       "0                                   -0.142128   \n",
       "\n",
       "   sberbank-ai/ruBert-large_text_feature_1016  \\\n",
       "0                                   -0.191717   \n",
       "\n",
       "   sberbank-ai/ruBert-large_text_feature_1017  \\\n",
       "0                                    0.452236   \n",
       "\n",
       "   sberbank-ai/ruBert-large_text_feature_1018  \\\n",
       "0                                   -0.540893   \n",
       "\n",
       "   sberbank-ai/ruBert-large_text_feature_1019  \\\n",
       "0                                     0.20142   \n",
       "\n",
       "   sberbank-ai/ruBert-large_text_feature_1020  \\\n",
       "0                                   -0.010704   \n",
       "\n",
       "   sberbank-ai/ruBert-large_text_feature_1021  \\\n",
       "0                                   -0.111506   \n",
       "\n",
       "   sberbank-ai/ruBert-large_text_feature_1022  \\\n",
       "0                                   -0.302127   \n",
       "\n",
       "   sberbank-ai/ruBert-large_text_feature_1023  \n",
       "0                                    0.123216  \n",
       "\n",
       "[1 rows x 1026 columns]"
      ]
     },
     "metadata": {},
     "output_type": "display_data"
    },
    {
     "name": "stdout",
     "output_type": "stream",
     "text": [
      "vicgalle/xlm-roberta-large-xnli-anli\n"
     ]
    },
    {
     "name": "stderr",
     "output_type": "stream",
     "text": [
      "Some weights of XLMRobertaModel were not initialized from the model checkpoint at vicgalle/xlm-roberta-large-xnli-anli and are newly initialized: ['roberta.pooler.dense.bias', 'roberta.pooler.dense.weight']\n",
      "You should probably TRAIN this model on a down-stream task to be able to use it for predictions and inference.\n"
     ]
    },
    {
     "data": {
      "application/vnd.jupyter.widget-view+json": {
       "model_id": "973ee084cb294fd28b2832f80612e089",
       "version_major": 2,
       "version_minor": 0
      },
      "text/plain": [
       "  0%|          | 0/1 [00:00<?, ?it/s]"
      ]
     },
     "metadata": {},
     "output_type": "display_data"
    },
    {
     "data": {
      "text/html": [
       "<div>\n",
       "<style scoped>\n",
       "    .dataframe tbody tr th:only-of-type {\n",
       "        vertical-align: middle;\n",
       "    }\n",
       "\n",
       "    .dataframe tbody tr th {\n",
       "        vertical-align: top;\n",
       "    }\n",
       "\n",
       "    .dataframe thead th {\n",
       "        text-align: right;\n",
       "    }\n",
       "</style>\n",
       "<table border=\"1\" class=\"dataframe\">\n",
       "  <thead>\n",
       "    <tr style=\"text-align: right;\">\n",
       "      <th></th>\n",
       "      <th>category</th>\n",
       "      <th>text</th>\n",
       "      <th>vicgalle/xlm-roberta-large-xnli-anli_text_feature_0</th>\n",
       "      <th>vicgalle/xlm-roberta-large-xnli-anli_text_feature_1</th>\n",
       "      <th>vicgalle/xlm-roberta-large-xnli-anli_text_feature_2</th>\n",
       "      <th>vicgalle/xlm-roberta-large-xnli-anli_text_feature_3</th>\n",
       "      <th>vicgalle/xlm-roberta-large-xnli-anli_text_feature_4</th>\n",
       "      <th>vicgalle/xlm-roberta-large-xnli-anli_text_feature_5</th>\n",
       "      <th>vicgalle/xlm-roberta-large-xnli-anli_text_feature_6</th>\n",
       "      <th>vicgalle/xlm-roberta-large-xnli-anli_text_feature_7</th>\n",
       "      <th>...</th>\n",
       "      <th>vicgalle/xlm-roberta-large-xnli-anli_text_feature_1014</th>\n",
       "      <th>vicgalle/xlm-roberta-large-xnli-anli_text_feature_1015</th>\n",
       "      <th>vicgalle/xlm-roberta-large-xnli-anli_text_feature_1016</th>\n",
       "      <th>vicgalle/xlm-roberta-large-xnli-anli_text_feature_1017</th>\n",
       "      <th>vicgalle/xlm-roberta-large-xnli-anli_text_feature_1018</th>\n",
       "      <th>vicgalle/xlm-roberta-large-xnli-anli_text_feature_1019</th>\n",
       "      <th>vicgalle/xlm-roberta-large-xnli-anli_text_feature_1020</th>\n",
       "      <th>vicgalle/xlm-roberta-large-xnli-anli_text_feature_1021</th>\n",
       "      <th>vicgalle/xlm-roberta-large-xnli-anli_text_feature_1022</th>\n",
       "      <th>vicgalle/xlm-roberta-large-xnli-anli_text_feature_1023</th>\n",
       "    </tr>\n",
       "  </thead>\n",
       "  <tbody>\n",
       "    <tr>\n",
       "      <th>0</th>\n",
       "      <td>extreme</td>\n",
       "      <td>Ледник Пасторури это цирковой ледник расположе...</td>\n",
       "      <td>0.274763</td>\n",
       "      <td>0.264808</td>\n",
       "      <td>0.000878</td>\n",
       "      <td>-0.204066</td>\n",
       "      <td>-0.199178</td>\n",
       "      <td>-0.035506</td>\n",
       "      <td>-0.380218</td>\n",
       "      <td>-0.127966</td>\n",
       "      <td>...</td>\n",
       "      <td>-0.4328</td>\n",
       "      <td>-0.784799</td>\n",
       "      <td>0.157693</td>\n",
       "      <td>-0.356171</td>\n",
       "      <td>-0.409211</td>\n",
       "      <td>-0.004737</td>\n",
       "      <td>-0.404739</td>\n",
       "      <td>0.394192</td>\n",
       "      <td>0.213243</td>\n",
       "      <td>0.166621</td>\n",
       "    </tr>\n",
       "  </tbody>\n",
       "</table>\n",
       "<p>1 rows × 1026 columns</p>\n",
       "</div>"
      ],
      "text/plain": [
       "  category                                               text  \\\n",
       "0  extreme  Ледник Пасторури это цирковой ледник расположе...   \n",
       "\n",
       "   vicgalle/xlm-roberta-large-xnli-anli_text_feature_0  \\\n",
       "0                                           0.274763     \n",
       "\n",
       "   vicgalle/xlm-roberta-large-xnli-anli_text_feature_1  \\\n",
       "0                                           0.264808     \n",
       "\n",
       "   vicgalle/xlm-roberta-large-xnli-anli_text_feature_2  \\\n",
       "0                                           0.000878     \n",
       "\n",
       "   vicgalle/xlm-roberta-large-xnli-anli_text_feature_3  \\\n",
       "0                                          -0.204066     \n",
       "\n",
       "   vicgalle/xlm-roberta-large-xnli-anli_text_feature_4  \\\n",
       "0                                          -0.199178     \n",
       "\n",
       "   vicgalle/xlm-roberta-large-xnli-anli_text_feature_5  \\\n",
       "0                                          -0.035506     \n",
       "\n",
       "   vicgalle/xlm-roberta-large-xnli-anli_text_feature_6  \\\n",
       "0                                          -0.380218     \n",
       "\n",
       "   vicgalle/xlm-roberta-large-xnli-anli_text_feature_7  ...  \\\n",
       "0                                          -0.127966    ...   \n",
       "\n",
       "   vicgalle/xlm-roberta-large-xnli-anli_text_feature_1014  \\\n",
       "0                                            -0.4328        \n",
       "\n",
       "   vicgalle/xlm-roberta-large-xnli-anli_text_feature_1015  \\\n",
       "0                                          -0.784799        \n",
       "\n",
       "   vicgalle/xlm-roberta-large-xnli-anli_text_feature_1016  \\\n",
       "0                                           0.157693        \n",
       "\n",
       "   vicgalle/xlm-roberta-large-xnli-anli_text_feature_1017  \\\n",
       "0                                          -0.356171        \n",
       "\n",
       "   vicgalle/xlm-roberta-large-xnli-anli_text_feature_1018  \\\n",
       "0                                          -0.409211        \n",
       "\n",
       "   vicgalle/xlm-roberta-large-xnli-anli_text_feature_1019  \\\n",
       "0                                          -0.004737        \n",
       "\n",
       "   vicgalle/xlm-roberta-large-xnli-anli_text_feature_1020  \\\n",
       "0                                          -0.404739        \n",
       "\n",
       "   vicgalle/xlm-roberta-large-xnli-anli_text_feature_1021  \\\n",
       "0                                           0.394192        \n",
       "\n",
       "   vicgalle/xlm-roberta-large-xnli-anli_text_feature_1022  \\\n",
       "0                                           0.213243        \n",
       "\n",
       "   vicgalle/xlm-roberta-large-xnli-anli_text_feature_1023  \n",
       "0                                           0.166621       \n",
       "\n",
       "[1 rows x 1026 columns]"
      ]
     },
     "metadata": {},
     "output_type": "display_data"
    }
   ],
   "source": [
    "# Полный список поддерживаемых моделей можно найти на https://huggingface.co/models\n",
    "\n",
    "models = [\n",
    "          ('sberbank-ai/ruBert-base', 512),\n",
    "          ('cointegrated/rubert-tiny2', 2048),\n",
    "          ('DeepPavlov/rubert-base-cased-conversational', 512),\n",
    "          ('sentence-transformers/LaBSE', 512),\n",
    "          ('cointegrated/LaBSE-en-ru', 512),\n",
    "           ('sberbank-ai/ruRoberta-large', 512),\n",
    "           ('sberbank-ai/sbert_large_nlu_ru', 512),\n",
    "           ('sberbank-ai/sbert_large_mt_nlu_ru', 512),\n",
    "           ('sberbank-ai/ruBert-large', 512),\n",
    "          \n",
    "\n",
    "          \n",
    "           #('microsoft/mdeberta-v3-base', 512),\n",
    "           ('vicgalle/xlm-roberta-large-xnli-anli', 512),\n",
    "           #('MoritzLaurer/mDeBERTa-v3-base-mnli-xnli', 512),\n",
    "           #('facebook/bart-large-mnli', 1024)\n",
    "]\n",
    "for model in models:\n",
    "    text_embeddings = TextEmbeddings(False, True)\n",
    "    tmp = text_embeddings.add_many_embeddings(train.iloc[[0]], 'text', [model])\n",
    "    display(tmp)"
   ]
  },
  {
   "cell_type": "code",
   "execution_count": 83,
   "metadata": {},
   "outputs": [],
   "source": [
    "\n",
    "RANDOM_STATE = 42\n",
    "cb_init_params_cust = {\n",
    "        'loss_function': 'MultiClass',\n",
    "        \n",
    "        # Ограничим глубину деревьев для ускорения\n",
    "        'depth': 4,\n",
    "        'iterations': 3500,\n",
    "\n",
    "        # Регуляризация и ускорение\n",
    "        'max_bin': 187,\n",
    "        'task_type': 'GPU' if torch.cuda.is_available() else 'CPU',\n",
    "        'thread_count': -1,\n",
    "        'bootstrap_type': 'Bernoulli', \n",
    "            \n",
    "        # Важное!\n",
    "        'random_seed': RANDOM_STATE,\n",
    "        'auto_class_weights': 'SqrtBalanced',\n",
    "        'early_stopping_rounds': 30\n",
    "    }"
   ]
  },
  {
   "cell_type": "code",
   "execution_count": 86,
   "metadata": {},
   "outputs": [],
   "source": [
    "def train_model(algorithm,\n",
    "                X,\n",
    "                y,\n",
    "                early_stopping_rounds,\n",
    "                init_params=None,\n",
    "                cat_features=None,\n",
    "                text_features=None,\n",
    "                random_seed=2024\n",
    "    ):\n",
    "    scores = []\n",
    "    models = []\n",
    "\n",
    "    kf = KFold(n_splits=3, shuffle=True, random_state=random_seed)\n",
    "\n",
    "    print(f\"========= TRAINING {algorithm.__name__} =========\")\n",
    "\n",
    "    for num_fold, (train_index, val_index) in enumerate(kf.split(X)):\n",
    "        X_train, X_eval = X.iloc[train_index], X.iloc[val_index]\n",
    "        y_train, y_eval = y.iloc[train_index], y.iloc[val_index]\n",
    "\n",
    "        if init_params is not None:\n",
    "            model = algorithm(**init_params)\n",
    "        else:\n",
    "            model = algorithm()\n",
    "\n",
    "        if 'CatBoost' in algorithm.__name__:\n",
    "            # Специальный класс для ускорения обучения \n",
    "            train_dataset = Pool(data=X_train, label=y_train, cat_features=cat_features, text_features=text_features)\n",
    "            eval_dataset  = Pool(data=X_eval, label=y_eval, cat_features=cat_features, text_features=text_features)\n",
    "\n",
    "            model.fit(train_dataset,\n",
    "                      eval_set=eval_dataset,\n",
    "                      verbose=0,\n",
    "                      early_stopping_rounds=early_stopping_rounds)\n",
    "\n",
    "        elif 'LGBM' in algorithm.__name__:\n",
    "            # Специальный класс для ускорения обучения \n",
    "            train_dataset = Dataset(X_train, y_train, categorical_feature=cat_features, free_raw_data=False,)\n",
    "            eval_dataset  = Dataset(X_eval, y_eval, categorical_feature=cat_features, free_raw_data=False,)\n",
    "\n",
    "            model = lgb.train(params=init_params,\n",
    "                              train_set=train_dataset,\n",
    "                              valid_sets=(eval_dataset),\n",
    "                              #callbacks=[lgb.log_evaluation(10)],\n",
    "                              #           lgb.early_stopping(stopping_rounds=5)],\n",
    "                              categorical_feature=cat_features,\n",
    "                              #verbose_eval=False                   # в новой версии LightGBM по логи по умолчанию отключены\n",
    "                              )\n",
    "\n",
    "        elif 'XGB' in algorithm.__name__:\n",
    "            # Специальный класс для ускорения обучения\n",
    "            train_dataset = xgb.DMatrix(X_train, label=y_train, nthread=-1, enable_categorical=True,)\n",
    "            eval_dataset  = xgb.DMatrix(X_eval,  label=y_eval,  nthread=-1, enable_categorical=True,)\n",
    "\n",
    "            model = xgb.train(params=init_params,\n",
    "                              dtrain=train_dataset,\n",
    "                              evals=[(train_dataset, 'dtrain'), (eval_dataset, 'dtest')],\n",
    "                              verbose_eval=False,\n",
    "                              early_stopping_rounds=early_stopping_rounds)\n",
    "\n",
    "            X_eval = eval_dataset\n",
    "\n",
    "        # Предсказание на X_eval и расчет RMSE\n",
    "        y_pred = model.predict(X_eval)\n",
    "        score = balanced_accuracy_score(y_eval, y_pred)\n",
    "\n",
    "        models.append(model)\n",
    "        scores.append(score)\n",
    "\n",
    "        print(f'FOLD {num_fold}: SCORE {score}')\n",
    "\n",
    "    mean_kfold_score = np.mean(scores, dtype=\"float16\") - np.std(scores, dtype=\"float16\")\n",
    "    print(\"\\nMEAN BALANCED ACCURACY SCORE\", mean_kfold_score)\n",
    "\n",
    "    # Модель с наименьшим значением скора\n",
    "    best_model = models[scores.index(min(scores))]\n",
    "\n",
    "    return mean_kfold_score, best_model"
   ]
  },
  {
   "cell_type": "code",
   "execution_count": 87,
   "metadata": {},
   "outputs": [],
   "source": [
    "from catboost import CatBoostClassifier, Pool"
   ]
  },
  {
   "cell_type": "code",
   "execution_count": 89,
   "metadata": {},
   "outputs": [
    {
     "name": "stdout",
     "output_type": "stream",
     "text": [
      "sberbank-ai/ruBert-base\n",
      "cointegrated/rubert-tiny2\n",
      "DeepPavlov/rubert-base-cased-conversational\n",
      "sentence-transformers/LaBSE\n",
      "cointegrated/LaBSE-en-ru\n",
      "sberbank-ai/ruRoberta-large\n",
      "sberbank-ai/sbert_large_nlu_ru\n",
      "sberbank-ai/sbert_large_mt_nlu_ru\n",
      "sberbank-ai/ruBert-large\n",
      "vicgalle/xlm-roberta-large-xnli-anli\n"
     ]
    }
   ],
   "source": [
    "models = [\n",
    "          ('sberbank-ai/ruBert-base', 512),\n",
    "          ('cointegrated/rubert-tiny2', 2048),\n",
    "          ('DeepPavlov/rubert-base-cased-conversational', 512),\n",
    "          ('sentence-transformers/LaBSE', 512),\n",
    "          ('cointegrated/LaBSE-en-ru', 512),\n",
    "           ('sberbank-ai/ruRoberta-large', 512),\n",
    "           ('sberbank-ai/sbert_large_nlu_ru', 512),\n",
    "           ('sberbank-ai/sbert_large_mt_nlu_ru', 512),\n",
    "           ('sberbank-ai/ruBert-large', 512),\n",
    "          \n",
    "\n",
    "          \n",
    "           #('microsoft/mdeberta-v3-base', 512),\n",
    "           ('vicgalle/xlm-roberta-large-xnli-anli', 512),\n",
    "           #('MoritzLaurer/mDeBERTa-v3-base-mnli-xnli', 512),\n",
    "           #('facebook/bart-large-mnli', 1024)\n",
    "]\n",
    "for model in models:\n",
    "    print(model[0])"
   ]
  },
  {
   "cell_type": "code",
   "execution_count": 114,
   "metadata": {},
   "outputs": [
    {
     "name": "stdout",
     "output_type": "stream",
     "text": [
      "sberbank-ai/ruBert-base\n"
     ]
    },
    {
     "data": {
      "application/vnd.jupyter.widget-view+json": {
       "model_id": "14b88038fccf4290bc2513caae5b13a3",
       "version_major": 2,
       "version_minor": 0
      },
      "text/plain": [
       "  0%|          | 0/7500 [00:00<?, ?it/s]"
      ]
     },
     "metadata": {},
     "output_type": "display_data"
    },
    {
     "name": "stdout",
     "output_type": "stream",
     "text": [
      "sberbank-ai/ruBert-base\n"
     ]
    },
    {
     "data": {
      "application/vnd.jupyter.widget-view+json": {
       "model_id": "18aa2b35a52442c6a49d54b18927f09a",
       "version_major": 2,
       "version_minor": 0
      },
      "text/plain": [
       "  0%|          | 0/2500 [00:00<?, ?it/s]"
      ]
     },
     "metadata": {},
     "output_type": "display_data"
    },
    {
     "name": "stdout",
     "output_type": "stream",
     "text": [
      "('sberbank-ai/ruBert-base', 512)\n",
      "========= TRAINING CatBoostClassifier =========\n"
     ]
    },
    {
     "name": "stderr",
     "output_type": "stream",
     "text": [
      "Warning: less than 75% gpu memory available for training. Free: 15748 Total: 24575.5\n"
     ]
    },
    {
     "name": "stdout",
     "output_type": "stream",
     "text": [
      "FOLD 0: SCORE 0.6835966450669996\n"
     ]
    },
    {
     "name": "stderr",
     "output_type": "stream",
     "text": [
      "Warning: less than 75% gpu memory available for training. Free: 15748 Total: 24575.5\n"
     ]
    },
    {
     "name": "stdout",
     "output_type": "stream",
     "text": [
      "FOLD 1: SCORE 0.6744327824988847\n"
     ]
    },
    {
     "name": "stderr",
     "output_type": "stream",
     "text": [
      "Warning: less than 75% gpu memory available for training. Free: 15748 Total: 24575.5\n"
     ]
    },
    {
     "name": "stdout",
     "output_type": "stream",
     "text": [
      "FOLD 2: SCORE 0.6721239699033392\n",
      "\n",
      "MEAN BALANCED ACCURACY SCORE 0.6724\n",
      "cointegrated/rubert-tiny2\n"
     ]
    },
    {
     "data": {
      "application/vnd.jupyter.widget-view+json": {
       "model_id": "ef777450cea44d70b727fca3150df639",
       "version_major": 2,
       "version_minor": 0
      },
      "text/plain": [
       "  0%|          | 0/7500 [00:00<?, ?it/s]"
      ]
     },
     "metadata": {},
     "output_type": "display_data"
    },
    {
     "name": "stdout",
     "output_type": "stream",
     "text": [
      "cointegrated/rubert-tiny2\n"
     ]
    },
    {
     "data": {
      "application/vnd.jupyter.widget-view+json": {
       "model_id": "cdaccc7df9cf44e3ada52b6aa8a9a271",
       "version_major": 2,
       "version_minor": 0
      },
      "text/plain": [
       "  0%|          | 0/2500 [00:00<?, ?it/s]"
      ]
     },
     "metadata": {},
     "output_type": "display_data"
    },
    {
     "name": "stdout",
     "output_type": "stream",
     "text": [
      "('cointegrated/rubert-tiny2', 2048)\n",
      "========= TRAINING CatBoostClassifier =========\n"
     ]
    },
    {
     "name": "stderr",
     "output_type": "stream",
     "text": [
      "Warning: less than 75% gpu memory available for training. Free: 15748 Total: 24575.5\n"
     ]
    },
    {
     "name": "stdout",
     "output_type": "stream",
     "text": [
      "FOLD 0: SCORE 0.5513404975979704\n"
     ]
    },
    {
     "name": "stderr",
     "output_type": "stream",
     "text": [
      "Warning: less than 75% gpu memory available for training. Free: 15748 Total: 24575.5\n"
     ]
    },
    {
     "name": "stdout",
     "output_type": "stream",
     "text": [
      "FOLD 1: SCORE 0.5539672910697848\n"
     ]
    },
    {
     "name": "stderr",
     "output_type": "stream",
     "text": [
      "Warning: less than 75% gpu memory available for training. Free: 15748 Total: 24575.5\n"
     ]
    },
    {
     "name": "stdout",
     "output_type": "stream",
     "text": [
      "FOLD 2: SCORE 0.5579395193076688\n",
      "\n",
      "MEAN BALANCED ACCURACY SCORE 0.552\n",
      "DeepPavlov/rubert-base-cased-conversational\n"
     ]
    },
    {
     "name": "stderr",
     "output_type": "stream",
     "text": [
      "Some weights of the model checkpoint at DeepPavlov/rubert-base-cased-conversational were not used when initializing BertModel: ['cls.predictions.bias', 'cls.predictions.decoder.bias', 'cls.predictions.decoder.weight', 'cls.predictions.transform.LayerNorm.bias', 'cls.predictions.transform.LayerNorm.weight', 'cls.predictions.transform.dense.bias', 'cls.predictions.transform.dense.weight', 'cls.seq_relationship.bias', 'cls.seq_relationship.weight']\n",
      "- This IS expected if you are initializing BertModel from the checkpoint of a model trained on another task or with another architecture (e.g. initializing a BertForSequenceClassification model from a BertForPreTraining model).\n",
      "- This IS NOT expected if you are initializing BertModel from the checkpoint of a model that you expect to be exactly identical (initializing a BertForSequenceClassification model from a BertForSequenceClassification model).\n"
     ]
    },
    {
     "data": {
      "application/vnd.jupyter.widget-view+json": {
       "model_id": "579675efbbf647a686c55f6771933f48",
       "version_major": 2,
       "version_minor": 0
      },
      "text/plain": [
       "  0%|          | 0/7500 [00:00<?, ?it/s]"
      ]
     },
     "metadata": {},
     "output_type": "display_data"
    },
    {
     "name": "stdout",
     "output_type": "stream",
     "text": [
      "DeepPavlov/rubert-base-cased-conversational\n"
     ]
    },
    {
     "name": "stderr",
     "output_type": "stream",
     "text": [
      "Some weights of the model checkpoint at DeepPavlov/rubert-base-cased-conversational were not used when initializing BertModel: ['cls.predictions.bias', 'cls.predictions.decoder.bias', 'cls.predictions.decoder.weight', 'cls.predictions.transform.LayerNorm.bias', 'cls.predictions.transform.LayerNorm.weight', 'cls.predictions.transform.dense.bias', 'cls.predictions.transform.dense.weight', 'cls.seq_relationship.bias', 'cls.seq_relationship.weight']\n",
      "- This IS expected if you are initializing BertModel from the checkpoint of a model trained on another task or with another architecture (e.g. initializing a BertForSequenceClassification model from a BertForPreTraining model).\n",
      "- This IS NOT expected if you are initializing BertModel from the checkpoint of a model that you expect to be exactly identical (initializing a BertForSequenceClassification model from a BertForSequenceClassification model).\n"
     ]
    },
    {
     "data": {
      "application/vnd.jupyter.widget-view+json": {
       "model_id": "b336f9866e654959beb5202fa0c86010",
       "version_major": 2,
       "version_minor": 0
      },
      "text/plain": [
       "  0%|          | 0/2500 [00:00<?, ?it/s]"
      ]
     },
     "metadata": {},
     "output_type": "display_data"
    },
    {
     "name": "stdout",
     "output_type": "stream",
     "text": [
      "('DeepPavlov/rubert-base-cased-conversational', 512)\n",
      "========= TRAINING CatBoostClassifier =========\n"
     ]
    },
    {
     "name": "stderr",
     "output_type": "stream",
     "text": [
      "Warning: less than 75% gpu memory available for training. Free: 15748 Total: 24575.5\n"
     ]
    },
    {
     "name": "stdout",
     "output_type": "stream",
     "text": [
      "FOLD 0: SCORE 0.5792180734484684\n"
     ]
    },
    {
     "name": "stderr",
     "output_type": "stream",
     "text": [
      "Warning: less than 75% gpu memory available for training. Free: 15748 Total: 24575.5\n"
     ]
    },
    {
     "name": "stdout",
     "output_type": "stream",
     "text": [
      "FOLD 1: SCORE 0.5648614108484784\n"
     ]
    },
    {
     "name": "stderr",
     "output_type": "stream",
     "text": [
      "Warning: less than 75% gpu memory available for training. Free: 15748 Total: 24575.5\n"
     ]
    },
    {
     "name": "stdout",
     "output_type": "stream",
     "text": [
      "FOLD 2: SCORE 0.5674280475634462\n",
      "\n",
      "MEAN BALANCED ACCURACY SCORE 0.564\n",
      "sentence-transformers/LaBSE\n"
     ]
    },
    {
     "data": {
      "application/vnd.jupyter.widget-view+json": {
       "model_id": "15a24ec8b1734a04be5ae76bccf8fea3",
       "version_major": 2,
       "version_minor": 0
      },
      "text/plain": [
       "  0%|          | 0/7500 [00:00<?, ?it/s]"
      ]
     },
     "metadata": {},
     "output_type": "display_data"
    },
    {
     "name": "stdout",
     "output_type": "stream",
     "text": [
      "sentence-transformers/LaBSE\n"
     ]
    },
    {
     "data": {
      "application/vnd.jupyter.widget-view+json": {
       "model_id": "281cd2b44ee94b2e8b36c59653029e10",
       "version_major": 2,
       "version_minor": 0
      },
      "text/plain": [
       "  0%|          | 0/2500 [00:00<?, ?it/s]"
      ]
     },
     "metadata": {},
     "output_type": "display_data"
    },
    {
     "name": "stdout",
     "output_type": "stream",
     "text": [
      "('sentence-transformers/LaBSE', 512)\n",
      "========= TRAINING CatBoostClassifier =========\n"
     ]
    },
    {
     "name": "stderr",
     "output_type": "stream",
     "text": [
      "Warning: less than 75% gpu memory available for training. Free: 15748 Total: 24575.5\n"
     ]
    },
    {
     "name": "stdout",
     "output_type": "stream",
     "text": [
      "FOLD 0: SCORE 0.6651459841796643\n"
     ]
    },
    {
     "name": "stderr",
     "output_type": "stream",
     "text": [
      "Warning: less than 75% gpu memory available for training. Free: 15748 Total: 24575.5\n"
     ]
    },
    {
     "name": "stdout",
     "output_type": "stream",
     "text": [
      "FOLD 1: SCORE 0.6506902245482551\n"
     ]
    },
    {
     "name": "stderr",
     "output_type": "stream",
     "text": [
      "Warning: less than 75% gpu memory available for training. Free: 15748 Total: 24575.5\n"
     ]
    },
    {
     "name": "stdout",
     "output_type": "stream",
     "text": [
      "FOLD 2: SCORE 0.6668804418784802\n",
      "\n",
      "MEAN BALANCED ACCURACY SCORE 0.6533\n",
      "cointegrated/LaBSE-en-ru\n"
     ]
    },
    {
     "data": {
      "application/vnd.jupyter.widget-view+json": {
       "model_id": "c2e14e792e4847518942ae71cfced20f",
       "version_major": 2,
       "version_minor": 0
      },
      "text/plain": [
       "  0%|          | 0/7500 [00:00<?, ?it/s]"
      ]
     },
     "metadata": {},
     "output_type": "display_data"
    },
    {
     "name": "stdout",
     "output_type": "stream",
     "text": [
      "cointegrated/LaBSE-en-ru\n"
     ]
    },
    {
     "data": {
      "application/vnd.jupyter.widget-view+json": {
       "model_id": "025816243d074410a4fe899420dcecd4",
       "version_major": 2,
       "version_minor": 0
      },
      "text/plain": [
       "  0%|          | 0/2500 [00:00<?, ?it/s]"
      ]
     },
     "metadata": {},
     "output_type": "display_data"
    },
    {
     "name": "stdout",
     "output_type": "stream",
     "text": [
      "('cointegrated/LaBSE-en-ru', 512)\n",
      "========= TRAINING CatBoostClassifier =========\n"
     ]
    },
    {
     "name": "stderr",
     "output_type": "stream",
     "text": [
      "Warning: less than 75% gpu memory available for training. Free: 15748 Total: 24575.5\n"
     ]
    },
    {
     "name": "stdout",
     "output_type": "stream",
     "text": [
      "FOLD 0: SCORE 0.6871740314029218\n"
     ]
    },
    {
     "name": "stderr",
     "output_type": "stream",
     "text": [
      "Warning: less than 75% gpu memory available for training. Free: 15748 Total: 24575.5\n"
     ]
    },
    {
     "name": "stdout",
     "output_type": "stream",
     "text": [
      "FOLD 1: SCORE 0.6748784011173234\n"
     ]
    },
    {
     "name": "stderr",
     "output_type": "stream",
     "text": [
      "Warning: less than 75% gpu memory available for training. Free: 15748 Total: 24575.5\n"
     ]
    },
    {
     "name": "stdout",
     "output_type": "stream",
     "text": [
      "FOLD 2: SCORE 0.687415197552776\n",
      "\n",
      "MEAN BALANCED ACCURACY SCORE 0.6772\n",
      "sberbank-ai/ruRoberta-large\n"
     ]
    },
    {
     "name": "stderr",
     "output_type": "stream",
     "text": [
      "Some weights of RobertaModel were not initialized from the model checkpoint at sberbank-ai/ruRoberta-large and are newly initialized: ['roberta.pooler.dense.bias', 'roberta.pooler.dense.weight']\n",
      "You should probably TRAIN this model on a down-stream task to be able to use it for predictions and inference.\n"
     ]
    },
    {
     "data": {
      "application/vnd.jupyter.widget-view+json": {
       "model_id": "7b11bc5bd66e4bce8ad2b171cd40a5c4",
       "version_major": 2,
       "version_minor": 0
      },
      "text/plain": [
       "  0%|          | 0/7500 [00:00<?, ?it/s]"
      ]
     },
     "metadata": {},
     "output_type": "display_data"
    },
    {
     "name": "stdout",
     "output_type": "stream",
     "text": [
      "sberbank-ai/ruRoberta-large\n"
     ]
    },
    {
     "name": "stderr",
     "output_type": "stream",
     "text": [
      "Some weights of RobertaModel were not initialized from the model checkpoint at sberbank-ai/ruRoberta-large and are newly initialized: ['roberta.pooler.dense.bias', 'roberta.pooler.dense.weight']\n",
      "You should probably TRAIN this model on a down-stream task to be able to use it for predictions and inference.\n"
     ]
    },
    {
     "data": {
      "application/vnd.jupyter.widget-view+json": {
       "model_id": "80e08d9db6c64e7283bcfac45f51e6f4",
       "version_major": 2,
       "version_minor": 0
      },
      "text/plain": [
       "  0%|          | 0/2500 [00:00<?, ?it/s]"
      ]
     },
     "metadata": {},
     "output_type": "display_data"
    },
    {
     "name": "stdout",
     "output_type": "stream",
     "text": [
      "('sberbank-ai/ruRoberta-large', 512)\n",
      "========= TRAINING CatBoostClassifier =========\n"
     ]
    },
    {
     "name": "stderr",
     "output_type": "stream",
     "text": [
      "Warning: less than 75% gpu memory available for training. Free: 15748 Total: 24575.5\n"
     ]
    },
    {
     "name": "stdout",
     "output_type": "stream",
     "text": [
      "FOLD 0: SCORE 0.6092802541689742\n"
     ]
    },
    {
     "name": "stderr",
     "output_type": "stream",
     "text": [
      "Warning: less than 75% gpu memory available for training. Free: 15748 Total: 24575.5\n"
     ]
    },
    {
     "name": "stdout",
     "output_type": "stream",
     "text": [
      "FOLD 1: SCORE 0.6038754376020863\n"
     ]
    },
    {
     "name": "stderr",
     "output_type": "stream",
     "text": [
      "Warning: less than 75% gpu memory available for training. Free: 15748 Total: 24575.5\n"
     ]
    },
    {
     "name": "stdout",
     "output_type": "stream",
     "text": [
      "FOLD 2: SCORE 0.6014725737036308\n",
      "\n",
      "MEAN BALANCED ACCURACY SCORE 0.6016\n",
      "sberbank-ai/sbert_large_nlu_ru\n"
     ]
    },
    {
     "data": {
      "application/vnd.jupyter.widget-view+json": {
       "model_id": "36735d2f36ee4e18b39d502c478155b1",
       "version_major": 2,
       "version_minor": 0
      },
      "text/plain": [
       "  0%|          | 0/7500 [00:00<?, ?it/s]"
      ]
     },
     "metadata": {},
     "output_type": "display_data"
    },
    {
     "name": "stdout",
     "output_type": "stream",
     "text": [
      "sberbank-ai/sbert_large_nlu_ru\n"
     ]
    },
    {
     "data": {
      "application/vnd.jupyter.widget-view+json": {
       "model_id": "179d8b9961ee41608f6756736ef6b413",
       "version_major": 2,
       "version_minor": 0
      },
      "text/plain": [
       "  0%|          | 0/2500 [00:00<?, ?it/s]"
      ]
     },
     "metadata": {},
     "output_type": "display_data"
    },
    {
     "name": "stdout",
     "output_type": "stream",
     "text": [
      "('sberbank-ai/sbert_large_nlu_ru', 512)\n",
      "========= TRAINING CatBoostClassifier =========\n"
     ]
    },
    {
     "name": "stderr",
     "output_type": "stream",
     "text": [
      "Warning: less than 75% gpu memory available for training. Free: 15748 Total: 24575.5\n"
     ]
    },
    {
     "name": "stdout",
     "output_type": "stream",
     "text": [
      "FOLD 0: SCORE 0.6349966701110472\n"
     ]
    },
    {
     "name": "stderr",
     "output_type": "stream",
     "text": [
      "Warning: less than 75% gpu memory available for training. Free: 15748 Total: 24575.5\n"
     ]
    },
    {
     "name": "stdout",
     "output_type": "stream",
     "text": [
      "FOLD 1: SCORE 0.6186789941122197\n"
     ]
    },
    {
     "name": "stderr",
     "output_type": "stream",
     "text": [
      "Warning: less than 75% gpu memory available for training. Free: 15748 Total: 24575.5\n"
     ]
    },
    {
     "name": "stdout",
     "output_type": "stream",
     "text": [
      "FOLD 2: SCORE 0.6195090361991299\n",
      "\n",
      "MEAN BALANCED ACCURACY SCORE 0.617\n",
      "sberbank-ai/sbert_large_mt_nlu_ru\n"
     ]
    },
    {
     "data": {
      "application/vnd.jupyter.widget-view+json": {
       "model_id": "bfd4d9f21b2d40f58ad875bb2dcd760c",
       "version_major": 2,
       "version_minor": 0
      },
      "text/plain": [
       "  0%|          | 0/7500 [00:00<?, ?it/s]"
      ]
     },
     "metadata": {},
     "output_type": "display_data"
    },
    {
     "name": "stdout",
     "output_type": "stream",
     "text": [
      "sberbank-ai/sbert_large_mt_nlu_ru\n"
     ]
    },
    {
     "data": {
      "application/vnd.jupyter.widget-view+json": {
       "model_id": "5a0576a6784743ffa704792db2dacd70",
       "version_major": 2,
       "version_minor": 0
      },
      "text/plain": [
       "  0%|          | 0/2500 [00:00<?, ?it/s]"
      ]
     },
     "metadata": {},
     "output_type": "display_data"
    },
    {
     "name": "stdout",
     "output_type": "stream",
     "text": [
      "('sberbank-ai/sbert_large_mt_nlu_ru', 512)\n",
      "========= TRAINING CatBoostClassifier =========\n"
     ]
    },
    {
     "name": "stderr",
     "output_type": "stream",
     "text": [
      "Warning: less than 75% gpu memory available for training. Free: 15748 Total: 24575.5\n"
     ]
    },
    {
     "name": "stdout",
     "output_type": "stream",
     "text": [
      "FOLD 0: SCORE 0.6297258605007889\n"
     ]
    },
    {
     "name": "stderr",
     "output_type": "stream",
     "text": [
      "Warning: less than 75% gpu memory available for training. Free: 15748 Total: 24575.5\n"
     ]
    },
    {
     "name": "stdout",
     "output_type": "stream",
     "text": [
      "FOLD 1: SCORE 0.6153935812920673\n"
     ]
    },
    {
     "name": "stderr",
     "output_type": "stream",
     "text": [
      "Warning: less than 75% gpu memory available for training. Free: 15748 Total: 24575.5\n"
     ]
    },
    {
     "name": "stdout",
     "output_type": "stream",
     "text": [
      "FOLD 2: SCORE 0.6003947386827996\n",
      "\n",
      "MEAN BALANCED ACCURACY SCORE 0.603\n",
      "sberbank-ai/ruBert-large\n"
     ]
    },
    {
     "data": {
      "application/vnd.jupyter.widget-view+json": {
       "model_id": "16211f670c45446b949e0d23cff6b7d5",
       "version_major": 2,
       "version_minor": 0
      },
      "text/plain": [
       "  0%|          | 0/7500 [00:00<?, ?it/s]"
      ]
     },
     "metadata": {},
     "output_type": "display_data"
    },
    {
     "name": "stdout",
     "output_type": "stream",
     "text": [
      "sberbank-ai/ruBert-large\n"
     ]
    },
    {
     "data": {
      "application/vnd.jupyter.widget-view+json": {
       "model_id": "ae57725d2e3446c7a227063004d442bd",
       "version_major": 2,
       "version_minor": 0
      },
      "text/plain": [
       "  0%|          | 0/2500 [00:00<?, ?it/s]"
      ]
     },
     "metadata": {},
     "output_type": "display_data"
    },
    {
     "name": "stdout",
     "output_type": "stream",
     "text": [
      "('sberbank-ai/ruBert-large', 512)\n",
      "========= TRAINING CatBoostClassifier =========\n"
     ]
    },
    {
     "name": "stderr",
     "output_type": "stream",
     "text": [
      "Warning: less than 75% gpu memory available for training. Free: 15748 Total: 24575.5\n"
     ]
    },
    {
     "name": "stdout",
     "output_type": "stream",
     "text": [
      "FOLD 0: SCORE 0.6446203032049126\n"
     ]
    },
    {
     "name": "stderr",
     "output_type": "stream",
     "text": [
      "Warning: less than 75% gpu memory available for training. Free: 15748 Total: 24575.5\n"
     ]
    },
    {
     "name": "stdout",
     "output_type": "stream",
     "text": [
      "FOLD 1: SCORE 0.6363942700420918\n"
     ]
    },
    {
     "name": "stderr",
     "output_type": "stream",
     "text": [
      "Warning: less than 75% gpu memory available for training. Free: 15748 Total: 24575.5\n"
     ]
    },
    {
     "name": "stdout",
     "output_type": "stream",
     "text": [
      "FOLD 2: SCORE 0.6330525288661664\n",
      "\n",
      "MEAN BALANCED ACCURACY SCORE 0.6333\n",
      "vicgalle/xlm-roberta-large-xnli-anli\n"
     ]
    },
    {
     "name": "stderr",
     "output_type": "stream",
     "text": [
      "Some weights of XLMRobertaModel were not initialized from the model checkpoint at vicgalle/xlm-roberta-large-xnli-anli and are newly initialized: ['roberta.pooler.dense.bias', 'roberta.pooler.dense.weight']\n",
      "You should probably TRAIN this model on a down-stream task to be able to use it for predictions and inference.\n"
     ]
    },
    {
     "data": {
      "application/vnd.jupyter.widget-view+json": {
       "model_id": "20ac11cf4d574bb2b18e06372d4e4764",
       "version_major": 2,
       "version_minor": 0
      },
      "text/plain": [
       "  0%|          | 0/7500 [00:00<?, ?it/s]"
      ]
     },
     "metadata": {},
     "output_type": "display_data"
    },
    {
     "name": "stdout",
     "output_type": "stream",
     "text": [
      "vicgalle/xlm-roberta-large-xnli-anli\n"
     ]
    },
    {
     "name": "stderr",
     "output_type": "stream",
     "text": [
      "Some weights of XLMRobertaModel were not initialized from the model checkpoint at vicgalle/xlm-roberta-large-xnli-anli and are newly initialized: ['roberta.pooler.dense.bias', 'roberta.pooler.dense.weight']\n",
      "You should probably TRAIN this model on a down-stream task to be able to use it for predictions and inference.\n"
     ]
    },
    {
     "data": {
      "application/vnd.jupyter.widget-view+json": {
       "model_id": "e1282a8f4258433696f7ff47ae7b128a",
       "version_major": 2,
       "version_minor": 0
      },
      "text/plain": [
       "  0%|          | 0/2500 [00:00<?, ?it/s]"
      ]
     },
     "metadata": {},
     "output_type": "display_data"
    },
    {
     "name": "stdout",
     "output_type": "stream",
     "text": [
      "('vicgalle/xlm-roberta-large-xnli-anli', 512)\n",
      "========= TRAINING CatBoostClassifier =========\n"
     ]
    },
    {
     "name": "stderr",
     "output_type": "stream",
     "text": [
      "Warning: less than 75% gpu memory available for training. Free: 15748 Total: 24575.5\n"
     ]
    },
    {
     "name": "stdout",
     "output_type": "stream",
     "text": [
      "FOLD 0: SCORE 0.3586445986694841\n"
     ]
    },
    {
     "name": "stderr",
     "output_type": "stream",
     "text": [
      "Warning: less than 75% gpu memory available for training. Free: 15748 Total: 24575.5\n"
     ]
    },
    {
     "name": "stdout",
     "output_type": "stream",
     "text": [
      "FOLD 1: SCORE 0.3457664991658055\n"
     ]
    },
    {
     "name": "stderr",
     "output_type": "stream",
     "text": [
      "Warning: less than 75% gpu memory available for training. Free: 15748 Total: 24575.5\n"
     ]
    },
    {
     "name": "stdout",
     "output_type": "stream",
     "text": [
      "FOLD 2: SCORE 0.3443730580518405\n",
      "\n",
      "MEAN BALANCED ACCURACY SCORE 0.3433\n"
     ]
    }
   ],
   "source": [
    "# Полный список поддерживаемых моделей можно найти на https://huggingface.co/models\n",
    "\n",
    "models = [\n",
    "          ('sberbank-ai/ruBert-base', 512),\n",
    "          ('cointegrated/rubert-tiny2', 2048),\n",
    "          ('DeepPavlov/rubert-base-cased-conversational', 512),\n",
    "          ('sentence-transformers/LaBSE', 512),\n",
    "          ('cointegrated/LaBSE-en-ru', 512),\n",
    "           ('sberbank-ai/ruRoberta-large', 512),\n",
    "           ('sberbank-ai/sbert_large_nlu_ru', 512),\n",
    "           ('sberbank-ai/sbert_large_mt_nlu_ru', 512),\n",
    "           ('sberbank-ai/ruBert-large', 512),\n",
    "          \n",
    "\n",
    "          \n",
    "           #('microsoft/mdeberta-v3-base', 512),\n",
    "           ('vicgalle/xlm-roberta-large-xnli-anli', 512),\n",
    "           #('MoritzLaurer/mDeBERTa-v3-base-mnli-xnli', 512),\n",
    "           #('facebook/bart-large-mnli', 1024)\n",
    "]\n",
    "for model in models:\n",
    "    train = pd.read_csv('../data/text_classification_train.csv')\n",
    "    test = pd.read_csv('../data/text_classification_test.csv')\n",
    "    \n",
    "    \n",
    "    \n",
    "    text_embeddings = TextEmbeddings(False, True)\n",
    "    train = text_embeddings.add_many_embeddings(train, 'text', [model])\n",
    "    test = text_embeddings.add_many_embeddings(test, 'text', [model])\n",
    "\n",
    "\n",
    "    print(model)\n",
    "\n",
    "    cb_score, cb_model = train_model(\n",
    "        algorithm=CatBoostClassifier,\n",
    "        X=train.drop(columns=['category', 'text']), y=train['category'],\n",
    "        init_params=cb_init_params_cust,\n",
    "        early_stopping_rounds=30,\n",
    "        #text_features=['text'],\n",
    "        random_seed=RANDOM_STATE\n",
    "        )\n",
    "    \n",
    "    model_name = '_'.join(model[0].split('/'))\n",
    "    pd.DataFrame(cb_model.predict(test.drop(columns='text')), columns=['category']).to_csv(f'../subs/cb_model_False_True_{model_name}_{model[1]}.csv', index=False)"
   ]
  },
  {
   "cell_type": "code",
   "execution_count": 115,
   "metadata": {},
   "outputs": [
    {
     "name": "stdout",
     "output_type": "stream",
     "text": [
      "sberbank-ai/ruBert-base\n"
     ]
    },
    {
     "data": {
      "application/vnd.jupyter.widget-view+json": {
       "model_id": "8456364e15dc4e0c810d7a82856a385b",
       "version_major": 2,
       "version_minor": 0
      },
      "text/plain": [
       "  0%|          | 0/7500 [00:00<?, ?it/s]"
      ]
     },
     "metadata": {},
     "output_type": "display_data"
    },
    {
     "name": "stdout",
     "output_type": "stream",
     "text": [
      "sberbank-ai/ruBert-base\n"
     ]
    },
    {
     "data": {
      "application/vnd.jupyter.widget-view+json": {
       "model_id": "8ea09c1354304cbca19442cfe780b86a",
       "version_major": 2,
       "version_minor": 0
      },
      "text/plain": [
       "  0%|          | 0/2500 [00:00<?, ?it/s]"
      ]
     },
     "metadata": {},
     "output_type": "display_data"
    },
    {
     "name": "stdout",
     "output_type": "stream",
     "text": [
      "('sberbank-ai/ruBert-base', 512)\n",
      "========= TRAINING CatBoostClassifier =========\n"
     ]
    },
    {
     "name": "stderr",
     "output_type": "stream",
     "text": [
      "Warning: less than 75% gpu memory available for training. Free: 15748 Total: 24575.5\n"
     ]
    },
    {
     "name": "stdout",
     "output_type": "stream",
     "text": [
      "FOLD 0: SCORE 0.36831821157856015\n"
     ]
    },
    {
     "name": "stderr",
     "output_type": "stream",
     "text": [
      "Warning: less than 75% gpu memory available for training. Free: 15748 Total: 24575.5\n"
     ]
    },
    {
     "name": "stdout",
     "output_type": "stream",
     "text": [
      "FOLD 1: SCORE 0.3462740827750925\n"
     ]
    },
    {
     "name": "stderr",
     "output_type": "stream",
     "text": [
      "Warning: less than 75% gpu memory available for training. Free: 15748 Total: 24575.5\n"
     ]
    },
    {
     "name": "stdout",
     "output_type": "stream",
     "text": [
      "FOLD 2: SCORE 0.34659578221442355\n",
      "\n",
      "MEAN BALANCED ACCURACY SCORE 0.3435\n",
      "cointegrated/rubert-tiny2\n"
     ]
    },
    {
     "data": {
      "application/vnd.jupyter.widget-view+json": {
       "model_id": "4062ca80d0d14aac9e6589ef866fbfdf",
       "version_major": 2,
       "version_minor": 0
      },
      "text/plain": [
       "  0%|          | 0/7500 [00:00<?, ?it/s]"
      ]
     },
     "metadata": {},
     "output_type": "display_data"
    },
    {
     "name": "stdout",
     "output_type": "stream",
     "text": [
      "cointegrated/rubert-tiny2\n"
     ]
    },
    {
     "data": {
      "application/vnd.jupyter.widget-view+json": {
       "model_id": "38cb523ee54d46e89af80ea3b700b5ec",
       "version_major": 2,
       "version_minor": 0
      },
      "text/plain": [
       "  0%|          | 0/2500 [00:00<?, ?it/s]"
      ]
     },
     "metadata": {},
     "output_type": "display_data"
    },
    {
     "name": "stdout",
     "output_type": "stream",
     "text": [
      "('cointegrated/rubert-tiny2', 2048)\n",
      "========= TRAINING CatBoostClassifier =========\n"
     ]
    },
    {
     "name": "stderr",
     "output_type": "stream",
     "text": [
      "Warning: less than 75% gpu memory available for training. Free: 15748 Total: 24575.5\n"
     ]
    },
    {
     "name": "stdout",
     "output_type": "stream",
     "text": [
      "FOLD 0: SCORE 0.4832962800322447\n"
     ]
    },
    {
     "name": "stderr",
     "output_type": "stream",
     "text": [
      "Warning: less than 75% gpu memory available for training. Free: 15748 Total: 24575.5\n"
     ]
    },
    {
     "name": "stdout",
     "output_type": "stream",
     "text": [
      "FOLD 1: SCORE 0.48333113580294434\n"
     ]
    },
    {
     "name": "stderr",
     "output_type": "stream",
     "text": [
      "Warning: less than 75% gpu memory available for training. Free: 15748 Total: 24575.5\n"
     ]
    },
    {
     "name": "stdout",
     "output_type": "stream",
     "text": [
      "FOLD 2: SCORE 0.46669721171835243\n",
      "\n",
      "MEAN BALANCED ACCURACY SCORE 0.47\n",
      "DeepPavlov/rubert-base-cased-conversational\n"
     ]
    },
    {
     "name": "stderr",
     "output_type": "stream",
     "text": [
      "Some weights of the model checkpoint at DeepPavlov/rubert-base-cased-conversational were not used when initializing BertModel: ['cls.predictions.bias', 'cls.predictions.decoder.bias', 'cls.predictions.decoder.weight', 'cls.predictions.transform.LayerNorm.bias', 'cls.predictions.transform.LayerNorm.weight', 'cls.predictions.transform.dense.bias', 'cls.predictions.transform.dense.weight', 'cls.seq_relationship.bias', 'cls.seq_relationship.weight']\n",
      "- This IS expected if you are initializing BertModel from the checkpoint of a model trained on another task or with another architecture (e.g. initializing a BertForSequenceClassification model from a BertForPreTraining model).\n",
      "- This IS NOT expected if you are initializing BertModel from the checkpoint of a model that you expect to be exactly identical (initializing a BertForSequenceClassification model from a BertForSequenceClassification model).\n"
     ]
    },
    {
     "data": {
      "application/vnd.jupyter.widget-view+json": {
       "model_id": "756f62ed11cd4e5d975aa25b17b7c6d2",
       "version_major": 2,
       "version_minor": 0
      },
      "text/plain": [
       "  0%|          | 0/7500 [00:00<?, ?it/s]"
      ]
     },
     "metadata": {},
     "output_type": "display_data"
    },
    {
     "name": "stdout",
     "output_type": "stream",
     "text": [
      "DeepPavlov/rubert-base-cased-conversational\n"
     ]
    },
    {
     "name": "stderr",
     "output_type": "stream",
     "text": [
      "Some weights of the model checkpoint at DeepPavlov/rubert-base-cased-conversational were not used when initializing BertModel: ['cls.predictions.bias', 'cls.predictions.decoder.bias', 'cls.predictions.decoder.weight', 'cls.predictions.transform.LayerNorm.bias', 'cls.predictions.transform.LayerNorm.weight', 'cls.predictions.transform.dense.bias', 'cls.predictions.transform.dense.weight', 'cls.seq_relationship.bias', 'cls.seq_relationship.weight']\n",
      "- This IS expected if you are initializing BertModel from the checkpoint of a model trained on another task or with another architecture (e.g. initializing a BertForSequenceClassification model from a BertForPreTraining model).\n",
      "- This IS NOT expected if you are initializing BertModel from the checkpoint of a model that you expect to be exactly identical (initializing a BertForSequenceClassification model from a BertForSequenceClassification model).\n"
     ]
    },
    {
     "data": {
      "application/vnd.jupyter.widget-view+json": {
       "model_id": "acf9e1c0578240de95561b366f257173",
       "version_major": 2,
       "version_minor": 0
      },
      "text/plain": [
       "  0%|          | 0/2500 [00:00<?, ?it/s]"
      ]
     },
     "metadata": {},
     "output_type": "display_data"
    },
    {
     "name": "stdout",
     "output_type": "stream",
     "text": [
      "('DeepPavlov/rubert-base-cased-conversational', 512)\n",
      "========= TRAINING CatBoostClassifier =========\n"
     ]
    },
    {
     "name": "stderr",
     "output_type": "stream",
     "text": [
      "Warning: less than 75% gpu memory available for training. Free: 15748 Total: 24575.5\n"
     ]
    },
    {
     "name": "stdout",
     "output_type": "stream",
     "text": [
      "FOLD 0: SCORE 0.4205267712225738\n"
     ]
    },
    {
     "name": "stderr",
     "output_type": "stream",
     "text": [
      "Warning: less than 75% gpu memory available for training. Free: 15748 Total: 24575.5\n"
     ]
    },
    {
     "name": "stdout",
     "output_type": "stream",
     "text": [
      "FOLD 1: SCORE 0.4072665910313014\n"
     ]
    },
    {
     "name": "stderr",
     "output_type": "stream",
     "text": [
      "Warning: less than 75% gpu memory available for training. Free: 15748 Total: 24575.5\n"
     ]
    },
    {
     "name": "stdout",
     "output_type": "stream",
     "text": [
      "FOLD 2: SCORE 0.40556859896068514\n",
      "\n",
      "MEAN BALANCED ACCURACY SCORE 0.4045\n",
      "sentence-transformers/LaBSE\n"
     ]
    },
    {
     "data": {
      "application/vnd.jupyter.widget-view+json": {
       "model_id": "8104719652ad446d989a6e9d17fccb31",
       "version_major": 2,
       "version_minor": 0
      },
      "text/plain": [
       "  0%|          | 0/7500 [00:00<?, ?it/s]"
      ]
     },
     "metadata": {},
     "output_type": "display_data"
    },
    {
     "name": "stdout",
     "output_type": "stream",
     "text": [
      "sentence-transformers/LaBSE\n"
     ]
    },
    {
     "data": {
      "application/vnd.jupyter.widget-view+json": {
       "model_id": "a64ef2285d2144d992a080feb30fc6cc",
       "version_major": 2,
       "version_minor": 0
      },
      "text/plain": [
       "  0%|          | 0/2500 [00:00<?, ?it/s]"
      ]
     },
     "metadata": {},
     "output_type": "display_data"
    },
    {
     "name": "stdout",
     "output_type": "stream",
     "text": [
      "('sentence-transformers/LaBSE', 512)\n",
      "========= TRAINING CatBoostClassifier =========\n"
     ]
    },
    {
     "name": "stderr",
     "output_type": "stream",
     "text": [
      "Warning: less than 75% gpu memory available for training. Free: 15748 Total: 24575.5\n"
     ]
    },
    {
     "name": "stdout",
     "output_type": "stream",
     "text": [
      "FOLD 0: SCORE 0.6512730598165231\n"
     ]
    },
    {
     "name": "stderr",
     "output_type": "stream",
     "text": [
      "Warning: less than 75% gpu memory available for training. Free: 15748 Total: 24575.5\n"
     ]
    },
    {
     "name": "stdout",
     "output_type": "stream",
     "text": [
      "FOLD 1: SCORE 0.6379298629308399\n"
     ]
    },
    {
     "name": "stderr",
     "output_type": "stream",
     "text": [
      "Warning: less than 75% gpu memory available for training. Free: 15748 Total: 24575.5\n"
     ]
    },
    {
     "name": "stdout",
     "output_type": "stream",
     "text": [
      "FOLD 2: SCORE 0.662574744507883\n",
      "\n",
      "MEAN BALANCED ACCURACY SCORE 0.64\n",
      "cointegrated/LaBSE-en-ru\n"
     ]
    },
    {
     "data": {
      "application/vnd.jupyter.widget-view+json": {
       "model_id": "0b605da652fa48e4b2d347f11d305c5e",
       "version_major": 2,
       "version_minor": 0
      },
      "text/plain": [
       "  0%|          | 0/7500 [00:00<?, ?it/s]"
      ]
     },
     "metadata": {},
     "output_type": "display_data"
    },
    {
     "name": "stdout",
     "output_type": "stream",
     "text": [
      "cointegrated/LaBSE-en-ru\n"
     ]
    },
    {
     "data": {
      "application/vnd.jupyter.widget-view+json": {
       "model_id": "dc9513bc5cb3446cab066a5c78cd4bc0",
       "version_major": 2,
       "version_minor": 0
      },
      "text/plain": [
       "  0%|          | 0/2500 [00:00<?, ?it/s]"
      ]
     },
     "metadata": {},
     "output_type": "display_data"
    },
    {
     "name": "stdout",
     "output_type": "stream",
     "text": [
      "('cointegrated/LaBSE-en-ru', 512)\n",
      "========= TRAINING CatBoostClassifier =========\n"
     ]
    },
    {
     "name": "stderr",
     "output_type": "stream",
     "text": [
      "Warning: less than 75% gpu memory available for training. Free: 15748 Total: 24575.5\n"
     ]
    },
    {
     "name": "stdout",
     "output_type": "stream",
     "text": [
      "FOLD 0: SCORE 0.6857827873903606\n"
     ]
    },
    {
     "name": "stderr",
     "output_type": "stream",
     "text": [
      "Warning: less than 75% gpu memory available for training. Free: 15748 Total: 24575.5\n"
     ]
    },
    {
     "name": "stdout",
     "output_type": "stream",
     "text": [
      "FOLD 1: SCORE 0.6723472040777009\n"
     ]
    },
    {
     "name": "stderr",
     "output_type": "stream",
     "text": [
      "Warning: less than 75% gpu memory available for training. Free: 15748 Total: 24575.5\n"
     ]
    },
    {
     "name": "stdout",
     "output_type": "stream",
     "text": [
      "FOLD 2: SCORE 0.6633622575801229\n",
      "\n",
      "MEAN BALANCED ACCURACY SCORE 0.6646\n",
      "sberbank-ai/ruRoberta-large\n"
     ]
    },
    {
     "name": "stderr",
     "output_type": "stream",
     "text": [
      "Some weights of RobertaModel were not initialized from the model checkpoint at sberbank-ai/ruRoberta-large and are newly initialized: ['roberta.pooler.dense.bias', 'roberta.pooler.dense.weight']\n",
      "You should probably TRAIN this model on a down-stream task to be able to use it for predictions and inference.\n"
     ]
    },
    {
     "data": {
      "application/vnd.jupyter.widget-view+json": {
       "model_id": "524e533ec39c4953b99b904af8be9659",
       "version_major": 2,
       "version_minor": 0
      },
      "text/plain": [
       "  0%|          | 0/7500 [00:00<?, ?it/s]"
      ]
     },
     "metadata": {},
     "output_type": "display_data"
    },
    {
     "name": "stdout",
     "output_type": "stream",
     "text": [
      "sberbank-ai/ruRoberta-large\n"
     ]
    },
    {
     "name": "stderr",
     "output_type": "stream",
     "text": [
      "Some weights of RobertaModel were not initialized from the model checkpoint at sberbank-ai/ruRoberta-large and are newly initialized: ['roberta.pooler.dense.bias', 'roberta.pooler.dense.weight']\n",
      "You should probably TRAIN this model on a down-stream task to be able to use it for predictions and inference.\n"
     ]
    },
    {
     "data": {
      "application/vnd.jupyter.widget-view+json": {
       "model_id": "6e4fa183126e45e29c5a637fd672936c",
       "version_major": 2,
       "version_minor": 0
      },
      "text/plain": [
       "  0%|          | 0/2500 [00:00<?, ?it/s]"
      ]
     },
     "metadata": {},
     "output_type": "display_data"
    },
    {
     "name": "stdout",
     "output_type": "stream",
     "text": [
      "('sberbank-ai/ruRoberta-large', 512)\n",
      "========= TRAINING CatBoostClassifier =========\n"
     ]
    },
    {
     "name": "stderr",
     "output_type": "stream",
     "text": [
      "Warning: less than 75% gpu memory available for training. Free: 15748 Total: 24575.5\n"
     ]
    },
    {
     "name": "stdout",
     "output_type": "stream",
     "text": [
      "FOLD 0: SCORE 0.43770608065393823\n"
     ]
    },
    {
     "name": "stderr",
     "output_type": "stream",
     "text": [
      "Warning: less than 75% gpu memory available for training. Free: 15748 Total: 24575.5\n"
     ]
    },
    {
     "name": "stdout",
     "output_type": "stream",
     "text": [
      "FOLD 1: SCORE 0.4485206341783569\n"
     ]
    },
    {
     "name": "stderr",
     "output_type": "stream",
     "text": [
      "Warning: less than 75% gpu memory available for training. Free: 15748 Total: 24575.5\n"
     ]
    },
    {
     "name": "stdout",
     "output_type": "stream",
     "text": [
      "FOLD 2: SCORE 0.4258154579283962\n",
      "\n",
      "MEAN BALANCED ACCURACY SCORE 0.4282\n",
      "sberbank-ai/sbert_large_nlu_ru\n"
     ]
    },
    {
     "data": {
      "application/vnd.jupyter.widget-view+json": {
       "model_id": "cfbb6a0ece8e45c9952167f2391a30af",
       "version_major": 2,
       "version_minor": 0
      },
      "text/plain": [
       "  0%|          | 0/7500 [00:00<?, ?it/s]"
      ]
     },
     "metadata": {},
     "output_type": "display_data"
    },
    {
     "name": "stdout",
     "output_type": "stream",
     "text": [
      "sberbank-ai/sbert_large_nlu_ru\n"
     ]
    },
    {
     "data": {
      "application/vnd.jupyter.widget-view+json": {
       "model_id": "ab401ebf5c584003a20f3fee3afd103c",
       "version_major": 2,
       "version_minor": 0
      },
      "text/plain": [
       "  0%|          | 0/2500 [00:00<?, ?it/s]"
      ]
     },
     "metadata": {},
     "output_type": "display_data"
    },
    {
     "name": "stdout",
     "output_type": "stream",
     "text": [
      "('sberbank-ai/sbert_large_nlu_ru', 512)\n",
      "========= TRAINING CatBoostClassifier =========\n"
     ]
    },
    {
     "name": "stderr",
     "output_type": "stream",
     "text": [
      "Warning: less than 75% gpu memory available for training. Free: 15748 Total: 24575.5\n"
     ]
    },
    {
     "name": "stdout",
     "output_type": "stream",
     "text": [
      "FOLD 0: SCORE 0.5851200741860374\n"
     ]
    },
    {
     "name": "stderr",
     "output_type": "stream",
     "text": [
      "Warning: less than 75% gpu memory available for training. Free: 15748 Total: 24575.5\n"
     ]
    },
    {
     "name": "stdout",
     "output_type": "stream",
     "text": [
      "FOLD 1: SCORE 0.5818091511345933\n"
     ]
    },
    {
     "name": "stderr",
     "output_type": "stream",
     "text": [
      "Warning: less than 75% gpu memory available for training. Free: 15748 Total: 24575.5\n"
     ]
    },
    {
     "name": "stdout",
     "output_type": "stream",
     "text": [
      "FOLD 2: SCORE 0.5673972939676779\n",
      "\n",
      "MEAN BALANCED ACCURACY SCORE 0.5703\n",
      "sberbank-ai/sbert_large_mt_nlu_ru\n"
     ]
    },
    {
     "data": {
      "application/vnd.jupyter.widget-view+json": {
       "model_id": "32b0ff58c5194aaf8615d0018b4b79e8",
       "version_major": 2,
       "version_minor": 0
      },
      "text/plain": [
       "  0%|          | 0/7500 [00:00<?, ?it/s]"
      ]
     },
     "metadata": {},
     "output_type": "display_data"
    },
    {
     "name": "stdout",
     "output_type": "stream",
     "text": [
      "sberbank-ai/sbert_large_mt_nlu_ru\n"
     ]
    },
    {
     "data": {
      "application/vnd.jupyter.widget-view+json": {
       "model_id": "fb57d6a261d745cfaec3404225fe9556",
       "version_major": 2,
       "version_minor": 0
      },
      "text/plain": [
       "  0%|          | 0/2500 [00:00<?, ?it/s]"
      ]
     },
     "metadata": {},
     "output_type": "display_data"
    },
    {
     "name": "stdout",
     "output_type": "stream",
     "text": [
      "('sberbank-ai/sbert_large_mt_nlu_ru', 512)\n",
      "========= TRAINING CatBoostClassifier =========\n"
     ]
    },
    {
     "name": "stderr",
     "output_type": "stream",
     "text": [
      "Warning: less than 75% gpu memory available for training. Free: 15748 Total: 24575.5\n"
     ]
    },
    {
     "name": "stdout",
     "output_type": "stream",
     "text": [
      "FOLD 0: SCORE 0.5861520418898778\n"
     ]
    },
    {
     "name": "stderr",
     "output_type": "stream",
     "text": [
      "Warning: less than 75% gpu memory available for training. Free: 15748 Total: 24575.5\n"
     ]
    },
    {
     "name": "stdout",
     "output_type": "stream",
     "text": [
      "FOLD 1: SCORE 0.5766903620575154\n"
     ]
    },
    {
     "name": "stderr",
     "output_type": "stream",
     "text": [
      "Warning: less than 75% gpu memory available for training. Free: 15748 Total: 24575.5\n"
     ]
    },
    {
     "name": "stdout",
     "output_type": "stream",
     "text": [
      "FOLD 2: SCORE 0.5773471350884901\n",
      "\n",
      "MEAN BALANCED ACCURACY SCORE 0.5757\n",
      "sberbank-ai/ruBert-large\n"
     ]
    },
    {
     "data": {
      "application/vnd.jupyter.widget-view+json": {
       "model_id": "39f2ea4c9d754ad5a1c9bd102c2ee4e7",
       "version_major": 2,
       "version_minor": 0
      },
      "text/plain": [
       "  0%|          | 0/7500 [00:00<?, ?it/s]"
      ]
     },
     "metadata": {},
     "output_type": "display_data"
    },
    {
     "name": "stdout",
     "output_type": "stream",
     "text": [
      "sberbank-ai/ruBert-large\n"
     ]
    },
    {
     "data": {
      "application/vnd.jupyter.widget-view+json": {
       "model_id": "2f0b5863ea22458ca0cb90ce226fe110",
       "version_major": 2,
       "version_minor": 0
      },
      "text/plain": [
       "  0%|          | 0/2500 [00:00<?, ?it/s]"
      ]
     },
     "metadata": {},
     "output_type": "display_data"
    },
    {
     "name": "stdout",
     "output_type": "stream",
     "text": [
      "('sberbank-ai/ruBert-large', 512)\n",
      "========= TRAINING CatBoostClassifier =========\n"
     ]
    },
    {
     "name": "stderr",
     "output_type": "stream",
     "text": [
      "Warning: less than 75% gpu memory available for training. Free: 15748 Total: 24575.5\n"
     ]
    },
    {
     "name": "stdout",
     "output_type": "stream",
     "text": [
      "FOLD 0: SCORE 0.5340571961565064\n"
     ]
    },
    {
     "name": "stderr",
     "output_type": "stream",
     "text": [
      "Warning: less than 75% gpu memory available for training. Free: 15748 Total: 24575.5\n"
     ]
    },
    {
     "name": "stdout",
     "output_type": "stream",
     "text": [
      "FOLD 1: SCORE 0.5258323982559555\n"
     ]
    },
    {
     "name": "stderr",
     "output_type": "stream",
     "text": [
      "Warning: less than 75% gpu memory available for training. Free: 15748 Total: 24575.5\n"
     ]
    },
    {
     "name": "stdout",
     "output_type": "stream",
     "text": [
      "FOLD 2: SCORE 0.5309348965250986\n",
      "\n",
      "MEAN BALANCED ACCURACY SCORE 0.527\n",
      "vicgalle/xlm-roberta-large-xnli-anli\n"
     ]
    },
    {
     "name": "stderr",
     "output_type": "stream",
     "text": [
      "Some weights of XLMRobertaModel were not initialized from the model checkpoint at vicgalle/xlm-roberta-large-xnli-anli and are newly initialized: ['roberta.pooler.dense.bias', 'roberta.pooler.dense.weight']\n",
      "You should probably TRAIN this model on a down-stream task to be able to use it for predictions and inference.\n"
     ]
    },
    {
     "data": {
      "application/vnd.jupyter.widget-view+json": {
       "model_id": "5665f02335e746e488a2a8ca3e930db4",
       "version_major": 2,
       "version_minor": 0
      },
      "text/plain": [
       "  0%|          | 0/7500 [00:00<?, ?it/s]"
      ]
     },
     "metadata": {},
     "output_type": "display_data"
    },
    {
     "name": "stdout",
     "output_type": "stream",
     "text": [
      "vicgalle/xlm-roberta-large-xnli-anli\n"
     ]
    },
    {
     "name": "stderr",
     "output_type": "stream",
     "text": [
      "Some weights of XLMRobertaModel were not initialized from the model checkpoint at vicgalle/xlm-roberta-large-xnli-anli and are newly initialized: ['roberta.pooler.dense.bias', 'roberta.pooler.dense.weight']\n",
      "You should probably TRAIN this model on a down-stream task to be able to use it for predictions and inference.\n"
     ]
    },
    {
     "data": {
      "application/vnd.jupyter.widget-view+json": {
       "model_id": "e1db9daea58c49158a52e7a064bbee8f",
       "version_major": 2,
       "version_minor": 0
      },
      "text/plain": [
       "  0%|          | 0/2500 [00:00<?, ?it/s]"
      ]
     },
     "metadata": {},
     "output_type": "display_data"
    },
    {
     "name": "stdout",
     "output_type": "stream",
     "text": [
      "('vicgalle/xlm-roberta-large-xnli-anli', 512)\n",
      "========= TRAINING CatBoostClassifier =========\n"
     ]
    },
    {
     "name": "stderr",
     "output_type": "stream",
     "text": [
      "Warning: less than 75% gpu memory available for training. Free: 15748 Total: 24575.5\n"
     ]
    },
    {
     "name": "stdout",
     "output_type": "stream",
     "text": [
      "FOLD 0: SCORE 0.19122396263141012\n"
     ]
    },
    {
     "name": "stderr",
     "output_type": "stream",
     "text": [
      "Warning: less than 75% gpu memory available for training. Free: 15748 Total: 24575.5\n"
     ]
    },
    {
     "name": "stdout",
     "output_type": "stream",
     "text": [
      "FOLD 1: SCORE 0.18563895776980271\n"
     ]
    },
    {
     "name": "stderr",
     "output_type": "stream",
     "text": [
      "Warning: less than 75% gpu memory available for training. Free: 15748 Total: 24575.5\n"
     ]
    },
    {
     "name": "stdout",
     "output_type": "stream",
     "text": [
      "FOLD 2: SCORE 0.16905418363313393\n",
      "\n",
      "MEAN BALANCED ACCURACY SCORE 0.1726\n"
     ]
    }
   ],
   "source": [
    "# Полный список поддерживаемых моделей можно найти на https://huggingface.co/models\n",
    "\n",
    "models = [\n",
    "          ('sberbank-ai/ruBert-base', 512),\n",
    "          ('cointegrated/rubert-tiny2', 2048),\n",
    "          ('DeepPavlov/rubert-base-cased-conversational', 512),\n",
    "          ('sentence-transformers/LaBSE', 512),\n",
    "          ('cointegrated/LaBSE-en-ru', 512),\n",
    "           ('sberbank-ai/ruRoberta-large', 512),\n",
    "           ('sberbank-ai/sbert_large_nlu_ru', 512),\n",
    "           ('sberbank-ai/sbert_large_mt_nlu_ru', 512),\n",
    "           ('sberbank-ai/ruBert-large', 512),\n",
    "          \n",
    "\n",
    "          \n",
    "           #('microsoft/mdeberta-v3-base', 512),\n",
    "           ('vicgalle/xlm-roberta-large-xnli-anli', 512),\n",
    "           #('MoritzLaurer/mDeBERTa-v3-base-mnli-xnli', 512),\n",
    "           #('facebook/bart-large-mnli', 1024)\n",
    "]\n",
    "for model in models:\n",
    "    train = pd.read_csv('../data/text_classification_train.csv')\n",
    "    test = pd.read_csv('../data/text_classification_test.csv')\n",
    "    \n",
    "    \n",
    "    \n",
    "    text_embeddings = TextEmbeddings(True, False)\n",
    "    train = text_embeddings.add_many_embeddings(train, 'text', [model])\n",
    "    test = text_embeddings.add_many_embeddings(test, 'text', [model])\n",
    "\n",
    "\n",
    "    print(model)\n",
    "\n",
    "    cb_score, cb_model = train_model(\n",
    "        algorithm=CatBoostClassifier,\n",
    "        X=train.drop(columns=['category', 'text']), y=train['category'],\n",
    "        init_params=cb_init_params_cust,\n",
    "        early_stopping_rounds=30,\n",
    "        #text_features=['text'],\n",
    "        random_seed=RANDOM_STATE\n",
    "        )\n",
    "    \n",
    "    model_name = '_'.join(model[0].split('/'))\n",
    "    pd.DataFrame(cb_model.predict(test.drop(columns='text')), columns=['category']).to_csv(f'../subs/cb_model_False_True_{model_name}_{model[1]}.csv', index=False)\n"
   ]
  },
  {
   "cell_type": "code",
   "execution_count": null,
   "metadata": {},
   "outputs": [],
   "source": []
  },
  {
   "cell_type": "code",
   "execution_count": null,
   "metadata": {},
   "outputs": [],
   "source": []
  },
  {
   "cell_type": "code",
   "execution_count": null,
   "metadata": {},
   "outputs": [],
   "source": [
    "'sberbank-ai/ruBert-base', 'cointegrated/rubert-tiny2', 'DeepPavlov/rubert-base-cased-conversational' и 'sentence-transformers/LaBSE'."
   ]
  },
  {
   "cell_type": "code",
   "execution_count": 3,
   "metadata": {},
   "outputs": [],
   "source": [
    "train_full = pd.read_csv('https://www.dropbox.com/scl/fi/9hb4r3uce0mqz8fkpja17/text_classification_train.csv?rlkey=w42y98wa401gelzou08pp582k&dl=1')\n",
    "test_full = pd.read_csv('https://www.dropbox.com/scl/fi/7z7rsy14amjeugf166i1t/text_classification_test.csv?rlkey=z53jgwhijd6bpvk7n8n2munwb&dl=1')"
   ]
  },
  {
   "cell_type": "code",
   "execution_count": 5,
   "metadata": {},
   "outputs": [],
   "source": [
    "train[['category', 'text']].to_csv('../data/text_classification_train.csv', index=False)\n",
    "test[['text']].to_csv('../data/text_classification_test.csv', index=False)"
   ]
  },
  {
   "cell_type": "code",
   "execution_count": null,
   "metadata": {},
   "outputs": [],
   "source": []
  },
  {
   "cell_type": "markdown",
   "metadata": {},
   "source": [
    "# Часть 2"
   ]
  },
  {
   "cell_type": "code",
   "execution_count": null,
   "metadata": {},
   "outputs": [],
   "source": [
    "!pip install optuna optuna-integration catboost -q\n",
    "\n",
    "import json\n",
    "import os\n",
    "\n",
    "import numpy as np\n",
    "import pandas as pd\n",
    "\n",
    "from catboost import CatBoostClassifier, Pool\n",
    "\n",
    "from sklearn.preprocessing import LabelEncoder\n",
    "from sklearn.model_selection import KFold, train_test_split, cross_val_score\n",
    "from sklearn.metrics import balanced_accuracy_score\n",
    "from sklearn.feature_extraction.text import TfidfVectorizer\n",
    "from sklearn.linear_model import LogisticRegression\n",
    "from sklearn.ensemble import ExtraTreesClassifier, RandomForestClassifier\n",
    "from sklearn.svm import SVC, LinearSVC\n",
    "\n",
    "import optuna\n",
    "import torch\n",
    "import seaborn as sns\n",
    "import shap"
   ]
  },
  {
   "cell_type": "code",
   "execution_count": null,
   "metadata": {},
   "outputs": [],
   "source": [
    "train = pd.read_csv('https://www.dropbox.com/scl/fi/9hb4r3uce0mqz8fkpja17/text_classification_train.csv?rlkey=w42y98wa401gelzou08pp582k&dl=1')\n",
    "test = pd.read_csv('https://www.dropbox.com/scl/fi/7z7rsy14amjeugf166i1t/text_classification_test.csv?rlkey=z53jgwhijd6bpvk7n8n2munwb&dl=1')\n",
    "\n",
    "print(train.shape, test.shape)\n",
    "train.head(3)"
   ]
  },
  {
   "cell_type": "code",
   "execution_count": null,
   "metadata": {},
   "outputs": [],
   "source": [
    "RANDOM_STATE = 42"
   ]
  },
  {
   "cell_type": "markdown",
   "metadata": {},
   "source": [
    "## Вспомогательные функции"
   ]
  },
  {
   "cell_type": "code",
   "execution_count": null,
   "metadata": {},
   "outputs": [],
   "source": [
    "def train_model(algorithm,\n",
    "                X,\n",
    "                y,\n",
    "                early_stopping_rounds,\n",
    "                init_params=None,\n",
    "                cat_features=None,\n",
    "                text_features=None,\n",
    "                random_seed=2024\n",
    "    ):\n",
    "    scores = []\n",
    "    models = []\n",
    "\n",
    "    kf = KFold(n_splits=3, shuffle=True, random_state=random_seed)\n",
    "\n",
    "    print(f\"========= TRAINING {algorithm.__name__} =========\")\n",
    "\n",
    "    for num_fold, (train_index, val_index) in enumerate(kf.split(X)):\n",
    "        X_train, X_eval = X.iloc[train_index], X.iloc[val_index]\n",
    "        y_train, y_eval = y.iloc[train_index], y.iloc[val_index]\n",
    "\n",
    "        if init_params is not None:\n",
    "            model = algorithm(**init_params)\n",
    "        else:\n",
    "            model = algorithm()\n",
    "\n",
    "        if 'CatBoost' in algorithm.__name__:\n",
    "            # Специальный класс для ускорения обучения \n",
    "            train_dataset = Pool(data=X_train, label=y_train, cat_features=cat_features, text_features=text_features)\n",
    "            eval_dataset  = Pool(data=X_eval, label=y_eval, cat_features=cat_features, text_features=text_features)\n",
    "\n",
    "            model.fit(train_dataset,\n",
    "                      eval_set=eval_dataset,\n",
    "                      verbose=0,\n",
    "                      early_stopping_rounds=early_stopping_rounds)\n",
    "\n",
    "        elif 'LGBM' in algorithm.__name__:\n",
    "            # Специальный класс для ускорения обучения \n",
    "            train_dataset = Dataset(X_train, y_train, categorical_feature=cat_features, free_raw_data=False,)\n",
    "            eval_dataset  = Dataset(X_eval, y_eval, categorical_feature=cat_features, free_raw_data=False,)\n",
    "\n",
    "            model = lgb.train(params=init_params,\n",
    "                              train_set=train_dataset,\n",
    "                              valid_sets=(eval_dataset),\n",
    "                              #callbacks=[lgb.log_evaluation(10)],\n",
    "                              #           lgb.early_stopping(stopping_rounds=5)],\n",
    "                              categorical_feature=cat_features,\n",
    "                              #verbose_eval=False                   # в новой версии LightGBM по логи по умолчанию отключены\n",
    "                              )\n",
    "\n",
    "        elif 'XGB' in algorithm.__name__:\n",
    "            # Специальный класс для ускорения обучения\n",
    "            train_dataset = xgb.DMatrix(X_train, label=y_train, nthread=-1, enable_categorical=True,)\n",
    "            eval_dataset  = xgb.DMatrix(X_eval,  label=y_eval,  nthread=-1, enable_categorical=True,)\n",
    "\n",
    "            model = xgb.train(params=init_params,\n",
    "                              dtrain=train_dataset,\n",
    "                              evals=[(train_dataset, 'dtrain'), (eval_dataset, 'dtest')],\n",
    "                              verbose_eval=False,\n",
    "                              early_stopping_rounds=early_stopping_rounds)\n",
    "\n",
    "            X_eval = eval_dataset\n",
    "\n",
    "        # Предсказание на X_eval и расчет RMSE\n",
    "        y_pred = model.predict(X_eval)\n",
    "        score = balanced_accuracy_score(y_eval, y_pred)\n",
    "\n",
    "        models.append(model)\n",
    "        scores.append(score)\n",
    "\n",
    "        print(f'FOLD {num_fold}: SCORE {score}')\n",
    "\n",
    "    mean_kfold_score = np.mean(scores, dtype=\"float16\") - np.std(scores, dtype=\"float16\")\n",
    "    print(\"\\nMEAN BALANCED ACCURACY SCORE\", mean_kfold_score)\n",
    "\n",
    "    # Модель с наименьшим значением скора\n",
    "    best_model = models[scores.index(min(scores))]\n",
    "\n",
    "    return mean_kfold_score, best_model"
   ]
  },
  {
   "cell_type": "markdown",
   "metadata": {},
   "source": [
    "## CatBoost"
   ]
  },
  {
   "cell_type": "markdown",
   "metadata": {},
   "source": [
    "### Обучение CatBoost модели с текстовыми признаками и кастомными параметрами"
   ]
  },
  {
   "cell_type": "code",
   "execution_count": null,
   "metadata": {},
   "outputs": [],
   "source": [
    "cb_init_params_cust = {\n",
    "        'loss_function': 'MultiClass',\n",
    "        \n",
    "        # Ограничим глубину деревьев для ускорения\n",
    "        'depth': 4,\n",
    "        'iterations': 3500,\n",
    "\n",
    "        # Регуляризация и ускорение\n",
    "        'max_bin': 187,\n",
    "        'task_type': 'GPU' if torch.cuda.is_available() else 'CPU',\n",
    "        'thread_count': -1,\n",
    "        'bootstrap_type': 'Bernoulli', \n",
    "            \n",
    "        # Важное!\n",
    "        'random_seed': RANDOM_STATE,\n",
    "        'auto_class_weights': 'SqrtBalanced',\n",
    "        'early_stopping_rounds': 30\n",
    "    }"
   ]
  },
  {
   "cell_type": "code",
   "execution_count": null,
   "metadata": {},
   "outputs": [],
   "source": [
    "cb_score, cb_model = train_model(\n",
    "    algorithm=CatBoostClassifier,\n",
    "    X=train.drop(columns=['category']), y=train['category'],\n",
    "    init_params=cb_init_params_cust,\n",
    "    early_stopping_rounds=30,\n",
    "    text_features=['text'],\n",
    "    random_seed=RANDOM_STATE\n",
    ")\n",
    "\n",
    "pd.DataFrame(cb_model.predict(test), columns=['category']).to_csv('../subs/cb_model_preds.csv', index=False)"
   ]
  },
  {
   "cell_type": "markdown",
   "metadata": {},
   "source": [
    "accuracy на лидерборде 0.7568"
   ]
  },
  {
   "cell_type": "markdown",
   "metadata": {},
   "source": [
    "### Feature Selection (Shap)"
   ]
  },
  {
   "cell_type": "code",
   "execution_count": null,
   "metadata": {},
   "outputs": [],
   "source": [
    "if 'shap_result.json' in os.listdir('../src'):\n",
    "    # загрузка параметров из файла\n",
    "    with open('../src/shap_result.json', 'r') as read_file:\n",
    "        shap_result = json.load(read_file)\n",
    "    row = shap_result['shap_result']\n",
    "\n",
    "else:\n",
    "    X_train, X_eval, y_train, y_eval = train_test_split(train.drop(columns=['category']), train['category'], test_size=0.2, random_state=42)\n",
    "\n",
    "    model = CatBoostClassifier(**cb_init_params_cust)\n",
    "\n",
    "    train_dataset = Pool(data=X_train, label=y_train, text_features=['text'])\n",
    "    eval_dataset  = Pool(data=X_eval, label=y_eval, text_features=['text'])\n",
    "\n",
    "    model.fit(train_dataset, \n",
    "            eval_set=eval_dataset,\n",
    "            verbose=0, plot=False,\n",
    "            early_stopping_rounds=30)\n",
    "\n",
    "    explainer = shap.TreeExplainer(model)\n",
    "\n",
    "    cat_features = None\n",
    "\n",
    "    #train_dataset = Pool(data=X_train, label=y_train, cat_features=cat_features, text_features=text_cols)\n",
    "    shap_values = explainer.shap_values(train_dataset)\n",
    "\n",
    "    row = [shap_values[:, feature_ind, :] for feature_ind in range(shap_values.shape[1])]\n",
    "    row = [np.abs(i).mean(0).mean() for i in row]\n",
    "\n",
    "    shap_result={\n",
    "        'shap_result': row\n",
    "        }\n",
    "\n",
    "    # сохранение результатов в файл\n",
    "    with open('../src/shap_result.json', 'w') as f:\n",
    "        json.dump(shap_result, f)\n",
    "\n",
    "top_shap_idx = sorted(range(len(row)), key=lambda k: row[k], reverse=True)\n",
    "\n",
    "df_plot = []\n",
    "cum_shap_value = 0\n",
    "for shap_value in sorted(row, reverse=True):\n",
    "    cum_shap_value += shap_value\n",
    "    df_plot.append(cum_shap_value)\n",
    "df_plot = pd.DataFrame(df_plot, columns=['shap_value'])\n",
    "\n",
    "sns.relplot(\n",
    "    data=df_plot,\n",
    "    kind=\"line\",\n",
    "    height=4, \n",
    "    aspect=2,\n",
    ");"
   ]
  },
  {
   "cell_type": "code",
   "execution_count": null,
   "metadata": {},
   "outputs": [],
   "source": [
    "# Подбор количества фичей\n",
    "for num_col in range(200, 900, 50):\n",
    "    X_train, X_eval, y_train, y_eval = train_test_split(train[train.drop(columns=['category']).columns[top_shap_idx[:num_col]]], train['category'], test_size=0.2, random_state=42)\n",
    "    train_dataset = Pool(data=X_train, label=y_train, text_features=['text'])\n",
    "    eval_dataset  = Pool(data=X_eval, label=y_eval, text_features=['text'])\n",
    "\n",
    "    cb_model = CatBoostClassifier(**cb_init_params_cust)\n",
    "    cb_model.fit(train_dataset, \n",
    "            eval_set=eval_dataset,\n",
    "            verbose=0, plot=False, \n",
    "            early_stopping_rounds=30)\n",
    "\n",
    "    y_pred = cb_model.predict(X_eval)\n",
    "    score = balanced_accuracy_score(y_eval, y_pred)\n",
    "    print(num_col, score)"
   ]
  },
  {
   "cell_type": "code",
   "execution_count": null,
   "metadata": {},
   "outputs": [],
   "source": [
    "cb_score, cb_model = train_model(\n",
    "    algorithm=CatBoostClassifier,\n",
    "    X=train[train.drop(columns=['category']).columns[top_shap_idx[:500]]], y=train['category'],\n",
    "    init_params=cb_init_params_cust,\n",
    "    early_stopping_rounds=30,\n",
    "    text_features=['text'],\n",
    "    random_seed=RANDOM_STATE\n",
    ")\n",
    "\n",
    "pd.DataFrame(cb_model.predict(test[test.columns[top_shap_idx[:500]]]),\n",
    "             columns=['category']).to_csv('../subs/cb_model_preds.csv', index=False)"
   ]
  },
  {
   "cell_type": "markdown",
   "metadata": {},
   "source": [
    "accuracy на лидерборде 0.7604"
   ]
  },
  {
   "cell_type": "markdown",
   "metadata": {},
   "source": [
    "## TFIDF + классификатор"
   ]
  },
  {
   "cell_type": "markdown",
   "metadata": {},
   "source": [
    "### TF-IDF"
   ]
  },
  {
   "cell_type": "code",
   "execution_count": null,
   "metadata": {},
   "outputs": [],
   "source": [
    "vectorizer = TfidfVectorizer()\n",
    "X_TFIDF = vectorizer.fit_transform(train['text'])\n",
    "X_TFIDF_train, X_TFIDF_eval, y_TFIDF_train, y_TFIDF_eval = train_test_split(X_TFIDF, train['category'], test_size=0.2, random_state=42)\n",
    "X_TFIDF_test  = vectorizer.transform(test['text'])\n",
    "\n",
    "print(X_TFIDF_train.shape)\n",
    "print(X_TFIDF_eval.shape)\n",
    "print(X_TFIDF_test.shape)"
   ]
  },
  {
   "cell_type": "markdown",
   "metadata": {},
   "source": [
    "### LogisticRegression"
   ]
  },
  {
   "cell_type": "code",
   "execution_count": null,
   "metadata": {},
   "outputs": [],
   "source": [
    "# Обечение с валидацией\n",
    "logreg = LogisticRegression(random_state=RANDOM_STATE)\n",
    "logreg.fit(X_TFIDF_train, y_TFIDF_train)\n",
    "print(balanced_accuracy_score(y_TFIDF_eval, logreg.predict(X_TFIDF_eval)))\n",
    "\n",
    "# Обучение на всех данных\n",
    "logreg.fit(X_TFIDF, train['category'])\n",
    "pd.DataFrame(logreg.predict(X_TFIDF_test), columns=['category']).to_csv('../subs/tfids_logreg.csv', index=False)"
   ]
  },
  {
   "cell_type": "markdown",
   "metadata": {},
   "source": [
    "accuracy на лидерборде 0.75"
   ]
  },
  {
   "cell_type": "markdown",
   "metadata": {},
   "source": [
    "### SVC"
   ]
  },
  {
   "cell_type": "code",
   "execution_count": null,
   "metadata": {},
   "outputs": [],
   "source": [
    "# Подбор гиперпараметров\n",
    "def objective_svc(trial):\n",
    "\n",
    "    C = trial.suggest_float(\"C\",0.1,1000)\n",
    "    gamma = trial.suggest_float(\"gamma\",0.0001,1)\n",
    "    kernel = trial.suggest_categorical(\"kernel\",['rbf','poly']) \n",
    "    model = SVC(\n",
    "        C=C,\n",
    "        gamma=gamma,\n",
    "        kernel=kernel,\n",
    "        random_state=RANDOM_STATE\n",
    "    )  \n",
    "    score = cross_val_score(model, X_TFIDF_train, y, cv=3)\n",
    "    accuracy = score.mean()\n",
    "    return accuracy\n",
    "\n",
    "if 'params_svc.json' in os.listdir('../src'):\n",
    "    # загрузка параметров из файла\n",
    "    with open('../src/params_svc.json', 'r') as read_file:\n",
    "        params_svc = json.load(read_file)\n",
    "        \n",
    "else:\n",
    "    X_TFIDF_train = vectorizer.fit_transform(train['text'])\n",
    "    \n",
    "    study = optuna.create_study(direction=\"maximize\")\n",
    "    study.optimize(objective_svc,\n",
    "                n_trials=100,\n",
    "                n_jobs = -1)\n",
    "\n",
    "    print(\"Number of finished trials: {}\".format(len(study.trials)))\n",
    "    print(\"Best trial:\")\n",
    "    trial = study.best_trial\n",
    "    print(\"  Value: {}\".format(trial.value))\n",
    "    params_svc = trial.params\n",
    "\n",
    "    # сохранение результатов в файл\n",
    "    with open('../src/params_svc.json', 'w') as f:\n",
    "        json.dump(params_svc, f)\n",
    "\n",
    "print(\"  Params: \")\n",
    "for key, value in params_svc.items():\n",
    "    print(\"    {}: {}\".format(key, value))"
   ]
  },
  {
   "cell_type": "code",
   "execution_count": null,
   "metadata": {},
   "outputs": [],
   "source": [
    "# Обечение с валидацией\n",
    "#svc_clf = SVC(C=2.5, gamma=0.7, random_state=RANDOM_STATE)\n",
    "svc_clf = SVC(**params_svc)\n",
    "svc_clf.fit(X_TFIDF_train, y_TFIDF_train)\n",
    "print(balanced_accuracy_score(y_TFIDF_eval, svc_clf.predict(X_TFIDF_eval)))\n",
    "\n",
    "# Обучение на всех данных\n",
    "svc_clf.fit(X_TFIDF, train['category'])\n",
    "pd.DataFrame(svc_clf.predict(X_TFIDF_test), columns=['category']).to_csv('../subs/tfids_svc.csv', index=False)"
   ]
  },
  {
   "cell_type": "markdown",
   "metadata": {},
   "source": [
    "accuracy на лидерборде  0.7716"
   ]
  },
  {
   "cell_type": "markdown",
   "metadata": {},
   "source": [
    "### LinearSVC"
   ]
  },
  {
   "cell_type": "code",
   "execution_count": null,
   "metadata": {},
   "outputs": [],
   "source": [
    "# Обечение с валидацией\n",
    "linear_svc = LinearSVC(tol=0.01, dual=True, C=0.6, random_state=RANDOM_STATE)\n",
    "linear_svc.fit(X_TFIDF_train, y_TFIDF_train)\n",
    "print(balanced_accuracy_score(y_TFIDF_eval, linear_svc.predict(X_TFIDF_eval)))\n",
    "\n",
    "# Обучение на всех данных\n",
    "linear_svc.fit(X_TFIDF, train['category'])\n",
    "pd.DataFrame(linear_svc.predict(X_TFIDF_test), columns=['category']).to_csv('../subs/tfids_lin_svc.csv', index=False)"
   ]
  },
  {
   "cell_type": "markdown",
   "metadata": {},
   "source": [
    "accuracy на лидерборде 0.8"
   ]
  },
  {
   "cell_type": "markdown",
   "metadata": {},
   "source": [
    "### ExtraTreesClassifier"
   ]
  },
  {
   "cell_type": "code",
   "execution_count": null,
   "metadata": {},
   "outputs": [],
   "source": [
    "# Обечение с валидацией\n",
    "et_clf = ExtraTreesClassifier(n_estimators = 6_000, max_depth = 8, min_samples_leaf = 2, bootstrap = True,\n",
    "                              class_weight = 'balanced',random_state = RANDOM_STATE, verbose=False, n_jobs=-1)\n",
    "et_clf.fit(X_TFIDF_train, y_TFIDF_train)\n",
    "print(balanced_accuracy_score(y_TFIDF_eval, et_clf.predict(X_TFIDF_eval)))\n",
    "\n",
    "# Обучение на всех данных\n",
    "et_clf.fit(X_TFIDF, train['category'])\n",
    "pd.DataFrame(et_clf.predict(X_TFIDF_test), columns=['category']).to_csv('../subs/tfids_et.csv', index=False)"
   ]
  },
  {
   "cell_type": "markdown",
   "metadata": {},
   "source": [
    "accuracy на лидерборде 0.6836 (можно подбором гиперпараметров увеличить до 0.7432, но метрика при стекинге падает)"
   ]
  },
  {
   "cell_type": "markdown",
   "metadata": {},
   "source": [
    "### RandomForestClassifier"
   ]
  },
  {
   "cell_type": "code",
   "execution_count": null,
   "metadata": {},
   "outputs": [],
   "source": [
    "# Обечение с валидацией\n",
    "rf = RandomForestClassifier(n_estimators=10_000, max_depth=200, n_jobs=-1, random_state=RANDOM_STATE)\n",
    "rf.fit(X_TFIDF_train, y_TFIDF_train)\n",
    "print(balanced_accuracy_score(y_TFIDF_eval, rf.predict(X_TFIDF_eval)))\n",
    "\n",
    "# Обучение на всех данных\n",
    "rf.fit(X_TFIDF, train['category'])\n",
    "pd.DataFrame(rf.predict(X_TFIDF_test), columns=['category']).to_csv('../subs/tfids_rf.csv', index=False)"
   ]
  },
  {
   "cell_type": "markdown",
   "metadata": {},
   "source": [
    "accuracy на лидерборде 0.7068"
   ]
  },
  {
   "cell_type": "markdown",
   "metadata": {},
   "source": [
    "## Стекинг"
   ]
  },
  {
   "cell_type": "code",
   "execution_count": null,
   "metadata": {},
   "outputs": [],
   "source": [
    "class Stacker:\n",
    "    def __init__(self, base_models, meta_model, preprocessing=None, metafeatures_mode=None):\n",
    "        \"\"\"\n",
    "        base_models - список базовых моделей, которые нужно обучать на изначальных данных\n",
    "        meta_model - мета модель, которая обучается на предсказаниях базовых моделей\n",
    "        metafeatures_mode - режим формирования фичей ('pred' - предикт, 'proba' - вероятность, 'log_proba' - логарифм вероятности\n",
    "        preprocessing - список словарей операций над датасетом:\n",
    "            col_select - выбор столбцов\n",
    "            col_drop - удаление столбцов\n",
    "            tfidf - преобразование tfidf по указанному столбцу\n",
    "            text_features - список текстовых сболбцов для подачи в CatBoost\n",
    "        \"\"\"\n",
    "        self.base_models = base_models\n",
    "        self.meta_model = meta_model\n",
    "        self.preprocessing = preprocessing\n",
    "        self.metafeatures_mode = metafeatures_mode if metafeatures_mode else [['pred'] for m in base_models]\n",
    "        self.vectorizer = None\n",
    "        self.additional_meta_features = False # дополнительные метафичи (разность, деление существующих)\n",
    "        self.meta_cat_features = None\n",
    "        self.meta_le = {}\n",
    "\n",
    "    def X_preprocessing(self, X, num_model):\n",
    "        if 'col_drop' in self.preprocessing[num_model]:\n",
    "            X.drop(columns=self.preprocessing[num_model]['col_drop'], inplace=True)\n",
    "        if 'col_select' in self.preprocessing[num_model]:\n",
    "            X = X[self.preprocessing[num_model]['col_select']] \n",
    "        if 'tfidf' in self.preprocessing[num_model]:\n",
    "            X = self.vectorizer.transform(X[self.preprocessing[num_model]['tfidf']])      \n",
    "        return X\n",
    "    \n",
    "    def base_model_one_pred(self, model, mode, X):\n",
    "        if mode == 'pred':\n",
    "            preds = model.predict(X)\n",
    "            preds = preds.reshape(len(preds), 1)\n",
    "        elif mode == 'proba':\n",
    "            if model.__class__.__name__ == 'LinearSVC':\n",
    "                 preds = model._predict_proba_lr(X)\n",
    "            else:\n",
    "                preds = model.predict_proba(X)\n",
    "        elif mode == 'log_proba':\n",
    "            preds = model.predict_log_proba(X)\n",
    "        \n",
    "        # костыль для избавления от -inf в RF\n",
    "        if model.__class__.__name__ == 'RandomForestClassifier':\n",
    "            preds[np.where(preds == float('-inf'))] = -100\n",
    "            preds[np.where(preds == float('inf'))] = 100\n",
    "\n",
    "        return preds\n",
    "    \n",
    "    def base_model_all_preds(self, model, num_model, X):\n",
    "        #preds_all = None\n",
    "        preds_all = np.empty((X.shape[0], 0))\n",
    "        for mode in self.metafeatures_mode[num_model]:\n",
    "            preds = self.base_model_one_pred(model, mode, X)\n",
    "            #preds_all = preds if preds_all is None else np.concatenate([preds_all, preds], axis=1) \n",
    "            preds_all = np.concatenate([preds_all, preds], axis=1)\n",
    "        return preds_all\n",
    "    \n",
    "    def base_model_fit(self, model, num_model, X_train, y_train, X_val=None, y_val=None):\n",
    "                \n",
    "        if model.__class__.__name__ == 'CatBoostClassifier':\n",
    "            #best_iter = 0\n",
    "            text_features = []\n",
    "            if 'text_features' in self.preprocessing[num_model]:            # возможно вынести наверх (в основную функцию)\n",
    "                for i in preprocessing[num_model]['text_features']:\n",
    "                    text_features.append(X_train.columns.get_loc(i))\n",
    "            cat_features = []\n",
    "            for i in range(X_train.shape[1]):\n",
    "                if type(X_train.iloc[0, i]) == str:\n",
    "                    if i not in text_features:\n",
    "                        cat_features.append(i)\n",
    "\n",
    "            if X_val is not None and y_val is not None:\n",
    "                model.fit(X_train, y_train, eval_set=(X_val, y_val), cat_features=cat_features, text_features=text_features,\n",
    "                          verbose=False, early_stopping_rounds=30)\n",
    "                #if model.best_iteration_ > best_iter:\n",
    "                    #best_iter = model.best_iteration_\n",
    "            else:\n",
    "                model.fit(X_train, y_train, cat_features=cat_features, text_features=text_features, verbose=False)\n",
    "        else:\n",
    "            model.fit(X_train, y_train)\n",
    "\n",
    "    def fit_base(self, X, y, n_fold=5):\n",
    "        # если есть tfidf - обучаем vectorizer\n",
    "        for params in preprocessing:\n",
    "            if 'tfidf' in params.keys():\n",
    "                self.vectorizer = TfidfVectorizer()\n",
    "                self.vectorizer.fit(X[params['tfidf']])\n",
    "                print('Сформирован vectorizer:', self.vectorizer.get_feature_names_out().shape[0], 'токенов.')\n",
    "                break\n",
    "        \n",
    "        folds = KFold(n_splits=n_fold)\n",
    "        final_features = np.empty((len(X), 0))\n",
    "\n",
    "        for num_model, model in enumerate(self.base_models):\n",
    "            \n",
    "            preds_model = None\n",
    "        \n",
    "            for train_indices, val_indices in folds.split(X, y):\n",
    " \n",
    "                X_train, X_val = X.loc[train_indices], X.loc[val_indices]\n",
    "                X_train, X_val = self.X_preprocessing(X_train, num_model), self.X_preprocessing(X_val, num_model)\n",
    "                y_train, y_val = y[train_indices], y[val_indices]        \n",
    "            \n",
    "                self.base_model_fit(model, num_model, X_train, y_train, X_val, y_val)\n",
    "                preds_fold = self.base_model_all_preds(model, num_model, X_val)\n",
    "                preds_model = preds_fold if preds_model is None else np.concatenate([preds_model, preds_fold], axis=0)\n",
    "            \n",
    "            final_features = np.concatenate([final_features, preds_model], axis=1)\n",
    "\n",
    "            self.base_model_fit(model, num_model, self.X_preprocessing(X, num_model), y)\n",
    "            print('Обучена базовая модель №', num_model+1, model.__class__.__name__)\n",
    "            \n",
    "        return final_features\n",
    "    \n",
    "    def add_meta_features(self, X):\n",
    "        \n",
    "        meta_num_features = []\n",
    "        for i in range(X.shape[1]):\n",
    "            if type(X[0][i]) == float:\n",
    "                meta_num_features.append(i)\n",
    "        \n",
    "        new_features = []\n",
    "        for source in meta_num_features:\n",
    "            for destination in meta_num_features:\n",
    "                row = X[:, source] / X[:, destination]\n",
    "                new_features.append(row.reshape(len(row),1))\n",
    "                row = X[:, source] - X[:, destination]\n",
    "                new_features.append(row.reshape(len(row),1))\n",
    "        new_features = np.concatenate(new_features, axis=1)\n",
    "        new_features = np.concatenate([X, new_features], axis=1)\n",
    "\n",
    "        return new_features\n",
    "\n",
    "    def fit_meta(self, meta_features, y):\n",
    "        \n",
    "        self.meta_cat_features = []\n",
    "        for i in range(meta_features.shape[1]):\n",
    "            if type(meta_features[0][i]) == str:\n",
    "                self.meta_cat_features.append(i)\n",
    "        \n",
    "        if self.meta_model.__class__.__name__ == 'CatBoostClassifier':\n",
    "            self.meta_model.fit(pd.DataFrame(meta_features), y, cat_features=self.meta_cat_features, verbose=False)\n",
    "        else:\n",
    "            for col in self.meta_cat_features:\n",
    "                self.meta_le[col] = LabelEncoder()\n",
    "                meta_features[:, col] = self.meta_le[col].fit_transform(meta_features[:, col])\n",
    "\n",
    "            self.meta_model.fit(pd.DataFrame(meta_features), y)\n",
    "        print('cat_features', self.meta_cat_features)\n",
    "        print('Обучена метамодель', self.meta_model.__class__.__name__)\n",
    "        return None\n",
    "    \n",
    "    def fit(self, X, y):\n",
    "        meta_features = self.fit_base(X, y)\n",
    "        if self.additional_meta_features == True:\n",
    "            meta_features=self.add_meta_features(meta_features)\n",
    "            print('Сформированы дополнительные фичи')\n",
    "        self.fit_meta(meta_features, y)\n",
    "    \n",
    "    def predict(self, X):\n",
    "\n",
    "        final_features = np.empty((len(X), 0))\n",
    "        \n",
    "        for num_model, model in enumerate(self.base_models):\n",
    "            \n",
    "            # X preprocessing\n",
    "            X_test = self.X_preprocessing(X, num_model)\n",
    "            preds_model = self.base_model_all_preds(model, num_model, X_test)\n",
    "            final_features = np.concatenate([final_features, preds_model], axis=1)\n",
    "        \n",
    "        \n",
    "        if self.meta_model.__class__.__name__ == 'CatBoostClassifier':\n",
    "            final_preds = self.meta_model.predict(final_features)\n",
    "        else:\n",
    "            for col in self.meta_cat_features:\n",
    "                final_features[:, col] = self.meta_le[col].transform(final_features[:, col])\n",
    "\n",
    "            final_preds = self.meta_model.predict(final_features)\n",
    "            final_preds = final_preds.reshape(len(final_preds), 1)\n",
    "\n",
    "        return final_preds"
   ]
  },
  {
   "cell_type": "code",
   "execution_count": null,
   "metadata": {},
   "outputs": [],
   "source": [
    "# Создаем экземпляр Stacker\n",
    "base_models = [CatBoostClassifier(**cb_init_params_cust),\n",
    "               LogisticRegression(random_state=RANDOM_STATE),\n",
    "               SVC(**params_svc, probability=True, decision_function_shape='ovr', random_state=RANDOM_STATE),\n",
    "               LinearSVC(tol=0.01, dual=True, C=0.6, random_state=RANDOM_STATE),\n",
    "               ExtraTreesClassifier(n_estimators = 6_000, max_depth = 8, min_samples_leaf = 2, bootstrap = True,\n",
    "                                    class_weight = 'balanced',random_state = RANDOM_STATE, verbose=False, n_jobs=-1,),\n",
    "               #RandomForestClassifier(n_estimators = 10_000, max_depth = 200, n_jobs=-1, random_state = RANDOM_STATE)\n",
    "               ]\n",
    "\n",
    "meta_model = LogisticRegression(random_state=RANDOM_STATE)\n",
    "\n",
    "preprocessing = [{'col_select':train.drop(columns=['category']).columns[top_shap_idx[:500]], 'text_features':['text']},\n",
    "                 {'col_select':['text'], 'tfidf':'text'},\n",
    "                 {'col_select':['text'], 'tfidf':'text'},\n",
    "                 {'col_select':['text'], 'tfidf':'text'},\n",
    "                 {'col_select':['text'], 'tfidf':'text'},\n",
    "                 #{'col_select':['text'], 'tfidf':'text'}\n",
    "                 ]\n",
    "\n",
    "metafeatures_mode = [['pred', 'proba', 'log_proba'],\n",
    "                     ['pred', 'proba', 'log_proba'],\n",
    "                     ['pred', 'proba', 'log_proba'],\n",
    "                     ['pred', 'proba'],\n",
    "                     ['pred', 'proba', 'log_proba'],\n",
    "                     #['pred', 'proba', 'log_proba']\n",
    "                     ]\n",
    "\n",
    "stacker = Stacker(base_models, meta_model, preprocessing, metafeatures_mode)\n",
    "stacker.fit(train.drop(columns=['category']), train['category'])\n",
    "res = stacker.predict(test)\n",
    "pd.DataFrame(res, columns=['category']).to_csv('../subs/tfids_stacking.csv', index=False)\n",
    "res"
   ]
  },
  {
   "cell_type": "code",
   "execution_count": null,
   "metadata": {},
   "outputs": [],
   "source": []
  }
 ],
 "metadata": {
  "kernelspec": {
   "display_name": "ds_env",
   "language": "python",
   "name": "python3"
  },
  "language_info": {
   "codemirror_mode": {
    "name": "ipython",
    "version": 3
   },
   "file_extension": ".py",
   "mimetype": "text/x-python",
   "name": "python",
   "nbconvert_exporter": "python",
   "pygments_lexer": "ipython3",
   "version": "3.11.9"
  }
 },
 "nbformat": 4,
 "nbformat_minor": 2
}
